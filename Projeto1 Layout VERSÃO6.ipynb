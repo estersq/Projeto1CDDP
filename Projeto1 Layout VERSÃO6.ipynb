{
 "cells": [
  {
   "cell_type": "markdown",
   "metadata": {},
   "source": [
    "___\n",
    "# Ciência dos Dados - PROJETO 1"
   ]
  },
  {
   "cell_type": "markdown",
   "metadata": {},
   "source": [
    "## Ester dos Santos Quintino\n",
    "___"
   ]
  },
  {
   "cell_type": "markdown",
   "metadata": {},
   "source": [
    "## TÍTULO DO SEU PROJETO"
   ]
  },
  {
   "cell_type": "markdown",
   "metadata": {},
   "source": [
    "___\n",
    "## Introdução\n",
    "\n",
    "Descreva aqui o que pretende analisar!\n",
    "\n",
    "Capriche no português!! \n",
    "Se quiser pode utilizar pesquisas semelhantes publicadas em sites confiáveis!!\n"
   ]
  },
  {
   "cell_type": "markdown",
   "metadata": {},
   "source": [
    "___\n",
    "## Filtros da base de dados"
   ]
  },
  {
   "cell_type": "code",
   "execution_count": 1,
   "metadata": {},
   "outputs": [],
   "source": [
    "%matplotlib inline\n",
    "import pandas as pd\n",
    "import matplotlib.pyplot as plt\n",
    "import numpy as np\n",
    "import os"
   ]
  },
  {
   "cell_type": "code",
   "execution_count": 2,
   "metadata": {},
   "outputs": [
    {
     "name": "stdout",
     "output_type": "stream",
     "text": [
      "Esperamos trabalhar no diretório\n",
      "C:\\Users\\Ester Quintino\\Desktop\\Projeto1CDDP\n"
     ]
    }
   ],
   "source": [
    "print('Esperamos trabalhar no diretório')\n",
    "print(os.getcwd())"
   ]
  },
  {
   "cell_type": "code",
   "execution_count": 3,
   "metadata": {},
   "outputs": [],
   "source": [
    "#Se usar o arquivo descompactado\n",
    "#pd.read_csv('PES2015.csv',sep=',')\n",
    "\n",
    "#Se usar o arquivo compactado como está no dropbox púbico\n",
    "#pd.read_csv('PES2015csv.zip', compression='zip', header=0, sep=',', quotechar='\"')"
   ]
  },
  {
   "cell_type": "markdown",
   "metadata": {},
   "source": [
    "# lendo a PNAD"
   ]
  },
  {
   "cell_type": "code",
   "execution_count": 4,
   "metadata": {},
   "outputs": [
    {
     "data": {
      "text/html": [
       "<div>\n",
       "<style scoped>\n",
       "    .dataframe tbody tr th:only-of-type {\n",
       "        vertical-align: middle;\n",
       "    }\n",
       "\n",
       "    .dataframe tbody tr th {\n",
       "        vertical-align: top;\n",
       "    }\n",
       "\n",
       "    .dataframe thead th {\n",
       "        text-align: right;\n",
       "    }\n",
       "</style>\n",
       "<table border=\"1\" class=\"dataframe\">\n",
       "  <thead>\n",
       "    <tr style=\"text-align: right;\">\n",
       "      <th></th>\n",
       "      <th>V0101</th>\n",
       "      <th>UF</th>\n",
       "      <th>V0102</th>\n",
       "      <th>V0103</th>\n",
       "      <th>V0301</th>\n",
       "      <th>V0302</th>\n",
       "      <th>V3031</th>\n",
       "      <th>V3032</th>\n",
       "      <th>V3033</th>\n",
       "      <th>V8005</th>\n",
       "      <th>...</th>\n",
       "      <th>V4741</th>\n",
       "      <th>V4742</th>\n",
       "      <th>V4743</th>\n",
       "      <th>V4745</th>\n",
       "      <th>V4746</th>\n",
       "      <th>V4747</th>\n",
       "      <th>V4748</th>\n",
       "      <th>V4749</th>\n",
       "      <th>V4750</th>\n",
       "      <th>V9993</th>\n",
       "    </tr>\n",
       "  </thead>\n",
       "  <tbody>\n",
       "    <tr>\n",
       "      <th>0</th>\n",
       "      <td>2011</td>\n",
       "      <td>11</td>\n",
       "      <td>11000000.0</td>\n",
       "      <td>1</td>\n",
       "      <td>1</td>\n",
       "      <td>2</td>\n",
       "      <td>25</td>\n",
       "      <td>12</td>\n",
       "      <td>1961</td>\n",
       "      <td>49</td>\n",
       "      <td>...</td>\n",
       "      <td>4.0</td>\n",
       "      <td>1.000000e+12</td>\n",
       "      <td>99.0</td>\n",
       "      <td>2</td>\n",
       "      <td>1.0</td>\n",
       "      <td>2.0</td>\n",
       "      <td>2.0</td>\n",
       "      <td>1.0</td>\n",
       "      <td>1.000000e+12</td>\n",
       "      <td>20100000.0</td>\n",
       "    </tr>\n",
       "    <tr>\n",
       "      <th>1</th>\n",
       "      <td>2011</td>\n",
       "      <td>11</td>\n",
       "      <td>11000000.0</td>\n",
       "      <td>1</td>\n",
       "      <td>2</td>\n",
       "      <td>4</td>\n",
       "      <td>1</td>\n",
       "      <td>4</td>\n",
       "      <td>1978</td>\n",
       "      <td>33</td>\n",
       "      <td>...</td>\n",
       "      <td>4.0</td>\n",
       "      <td>1.000000e+12</td>\n",
       "      <td>99.0</td>\n",
       "      <td>6</td>\n",
       "      <td>2.0</td>\n",
       "      <td>NaN</td>\n",
       "      <td>NaN</td>\n",
       "      <td>2.0</td>\n",
       "      <td>1.000000e+12</td>\n",
       "      <td>20100000.0</td>\n",
       "    </tr>\n",
       "    <tr>\n",
       "      <th>2</th>\n",
       "      <td>2011</td>\n",
       "      <td>11</td>\n",
       "      <td>11000000.0</td>\n",
       "      <td>1</td>\n",
       "      <td>3</td>\n",
       "      <td>4</td>\n",
       "      <td>15</td>\n",
       "      <td>6</td>\n",
       "      <td>1996</td>\n",
       "      <td>15</td>\n",
       "      <td>...</td>\n",
       "      <td>4.0</td>\n",
       "      <td>1.000000e+12</td>\n",
       "      <td>99.0</td>\n",
       "      <td>3</td>\n",
       "      <td>2.0</td>\n",
       "      <td>NaN</td>\n",
       "      <td>NaN</td>\n",
       "      <td>2.0</td>\n",
       "      <td>1.000000e+12</td>\n",
       "      <td>20100000.0</td>\n",
       "    </tr>\n",
       "    <tr>\n",
       "      <th>3</th>\n",
       "      <td>2011</td>\n",
       "      <td>11</td>\n",
       "      <td>11000000.0</td>\n",
       "      <td>1</td>\n",
       "      <td>4</td>\n",
       "      <td>2</td>\n",
       "      <td>3</td>\n",
       "      <td>12</td>\n",
       "      <td>2001</td>\n",
       "      <td>9</td>\n",
       "      <td>...</td>\n",
       "      <td>4.0</td>\n",
       "      <td>1.000000e+12</td>\n",
       "      <td>99.0</td>\n",
       "      <td>2</td>\n",
       "      <td>2.0</td>\n",
       "      <td>NaN</td>\n",
       "      <td>NaN</td>\n",
       "      <td>2.0</td>\n",
       "      <td>1.000000e+12</td>\n",
       "      <td>20100000.0</td>\n",
       "    </tr>\n",
       "    <tr>\n",
       "      <th>4</th>\n",
       "      <td>2011</td>\n",
       "      <td>11</td>\n",
       "      <td>11000000.0</td>\n",
       "      <td>2</td>\n",
       "      <td>1</td>\n",
       "      <td>4</td>\n",
       "      <td>16</td>\n",
       "      <td>10</td>\n",
       "      <td>1959</td>\n",
       "      <td>51</td>\n",
       "      <td>...</td>\n",
       "      <td>4.0</td>\n",
       "      <td>1.461000e+03</td>\n",
       "      <td>5.0</td>\n",
       "      <td>4</td>\n",
       "      <td>1.0</td>\n",
       "      <td>2.0</td>\n",
       "      <td>2.0</td>\n",
       "      <td>1.0</td>\n",
       "      <td>1.461000e+03</td>\n",
       "      <td>20100000.0</td>\n",
       "    </tr>\n",
       "  </tbody>\n",
       "</table>\n",
       "<p>5 rows × 324 columns</p>\n",
       "</div>"
      ],
      "text/plain": [
       "   V0101  UF       V0102  V0103  V0301  V0302  V3031  V3032  V3033  V8005  \\\n",
       "0   2011  11  11000000.0      1      1      2     25     12   1961     49   \n",
       "1   2011  11  11000000.0      1      2      4      1      4   1978     33   \n",
       "2   2011  11  11000000.0      1      3      4     15      6   1996     15   \n",
       "3   2011  11  11000000.0      1      4      2      3     12   2001      9   \n",
       "4   2011  11  11000000.0      2      1      4     16     10   1959     51   \n",
       "\n",
       "      ...      V4741         V4742  V4743  V4745  V4746  V4747  V4748  V4749  \\\n",
       "0     ...        4.0  1.000000e+12   99.0      2    1.0    2.0    2.0    1.0   \n",
       "1     ...        4.0  1.000000e+12   99.0      6    2.0    NaN    NaN    2.0   \n",
       "2     ...        4.0  1.000000e+12   99.0      3    2.0    NaN    NaN    2.0   \n",
       "3     ...        4.0  1.000000e+12   99.0      2    2.0    NaN    NaN    2.0   \n",
       "4     ...        4.0  1.461000e+03    5.0      4    1.0    2.0    2.0    1.0   \n",
       "\n",
       "          V4750       V9993  \n",
       "0  1.000000e+12  20100000.0  \n",
       "1  1.000000e+12  20100000.0  \n",
       "2  1.000000e+12  20100000.0  \n",
       "3  1.000000e+12  20100000.0  \n",
       "4  1.461000e+03  20100000.0  \n",
       "\n",
       "[5 rows x 324 columns]"
      ]
     },
     "execution_count": 4,
     "metadata": {},
     "output_type": "execute_result"
    }
   ],
   "source": [
    "dados2011=pd.read_csv('PES2011csv.zip', compression='zip',header=0, sep=',', quotechar='\"')\n",
    "dados2011.head()"
   ]
  },
  {
   "cell_type": "code",
   "execution_count": 5,
   "metadata": {},
   "outputs": [
    {
     "data": {
      "text/html": [
       "<div>\n",
       "<style scoped>\n",
       "    .dataframe tbody tr th:only-of-type {\n",
       "        vertical-align: middle;\n",
       "    }\n",
       "\n",
       "    .dataframe tbody tr th {\n",
       "        vertical-align: top;\n",
       "    }\n",
       "\n",
       "    .dataframe thead th {\n",
       "        text-align: right;\n",
       "    }\n",
       "</style>\n",
       "<table border=\"1\" class=\"dataframe\">\n",
       "  <thead>\n",
       "    <tr style=\"text-align: right;\">\n",
       "      <th></th>\n",
       "      <th>V0401</th>\n",
       "      <th>V06111</th>\n",
       "      <th>V06112</th>\n",
       "      <th>V4728</th>\n",
       "      <th>V9532</th>\n",
       "      <th>V8005</th>\n",
       "      <th>UF</th>\n",
       "    </tr>\n",
       "  </thead>\n",
       "  <tbody>\n",
       "    <tr>\n",
       "      <th>0</th>\n",
       "      <td>1</td>\n",
       "      <td>3.0</td>\n",
       "      <td>1.0</td>\n",
       "      <td>1</td>\n",
       "      <td>1.000000e+12</td>\n",
       "      <td>49</td>\n",
       "      <td>11</td>\n",
       "    </tr>\n",
       "    <tr>\n",
       "      <th>1</th>\n",
       "      <td>2</td>\n",
       "      <td>1.0</td>\n",
       "      <td>1.0</td>\n",
       "      <td>1</td>\n",
       "      <td>NaN</td>\n",
       "      <td>33</td>\n",
       "      <td>11</td>\n",
       "    </tr>\n",
       "    <tr>\n",
       "      <th>2</th>\n",
       "      <td>3</td>\n",
       "      <td>1.0</td>\n",
       "      <td>3.0</td>\n",
       "      <td>1</td>\n",
       "      <td>NaN</td>\n",
       "      <td>15</td>\n",
       "      <td>11</td>\n",
       "    </tr>\n",
       "    <tr>\n",
       "      <th>3</th>\n",
       "      <td>3</td>\n",
       "      <td>NaN</td>\n",
       "      <td>NaN</td>\n",
       "      <td>1</td>\n",
       "      <td>NaN</td>\n",
       "      <td>9</td>\n",
       "      <td>11</td>\n",
       "    </tr>\n",
       "    <tr>\n",
       "      <th>4</th>\n",
       "      <td>1</td>\n",
       "      <td>3.0</td>\n",
       "      <td>1.0</td>\n",
       "      <td>1</td>\n",
       "      <td>2.800000e+03</td>\n",
       "      <td>51</td>\n",
       "      <td>11</td>\n",
       "    </tr>\n",
       "  </tbody>\n",
       "</table>\n",
       "</div>"
      ],
      "text/plain": [
       "   V0401  V06111  V06112  V4728         V9532  V8005  UF\n",
       "0      1     3.0     1.0      1  1.000000e+12     49  11\n",
       "1      2     1.0     1.0      1           NaN     33  11\n",
       "2      3     1.0     3.0      1           NaN     15  11\n",
       "3      3     NaN     NaN      1           NaN      9  11\n",
       "4      1     3.0     1.0      1  2.800000e+03     51  11"
      ]
     },
     "execution_count": 5,
     "metadata": {},
     "output_type": "execute_result"
    }
   ],
   "source": [
    "dados_resumidos_2011=dados2011.loc[:,[\"V0401\",\"V06111\",\"V06112\",\"V4728\",\"V9532\",\"V8005\",\"UF\"]]#.dropna(axis=0)\n",
    "dados_resumidos_2011.head()"
   ]
  },
  {
   "cell_type": "code",
   "execution_count": 6,
   "metadata": {},
   "outputs": [
    {
     "data": {
      "text/html": [
       "<div>\n",
       "<style scoped>\n",
       "    .dataframe tbody tr th:only-of-type {\n",
       "        vertical-align: middle;\n",
       "    }\n",
       "\n",
       "    .dataframe tbody tr th {\n",
       "        vertical-align: top;\n",
       "    }\n",
       "\n",
       "    .dataframe thead th {\n",
       "        text-align: right;\n",
       "    }\n",
       "</style>\n",
       "<table border=\"1\" class=\"dataframe\">\n",
       "  <thead>\n",
       "    <tr style=\"text-align: right;\">\n",
       "      <th></th>\n",
       "      <th>V0401</th>\n",
       "      <th>V06111</th>\n",
       "      <th>V06112</th>\n",
       "      <th>V4728</th>\n",
       "      <th>V9532</th>\n",
       "      <th>V8005</th>\n",
       "      <th>UF</th>\n",
       "    </tr>\n",
       "  </thead>\n",
       "  <tbody>\n",
       "    <tr>\n",
       "      <th>0</th>\n",
       "      <td>1</td>\n",
       "      <td>3.0</td>\n",
       "      <td>1.0</td>\n",
       "      <td>1</td>\n",
       "      <td>1.000000e+12</td>\n",
       "      <td>49</td>\n",
       "      <td>11</td>\n",
       "    </tr>\n",
       "    <tr>\n",
       "      <th>1</th>\n",
       "      <td>2</td>\n",
       "      <td>1.0</td>\n",
       "      <td>1.0</td>\n",
       "      <td>1</td>\n",
       "      <td>NaN</td>\n",
       "      <td>33</td>\n",
       "      <td>11</td>\n",
       "    </tr>\n",
       "    <tr>\n",
       "      <th>2</th>\n",
       "      <td>3</td>\n",
       "      <td>1.0</td>\n",
       "      <td>3.0</td>\n",
       "      <td>1</td>\n",
       "      <td>NaN</td>\n",
       "      <td>15</td>\n",
       "      <td>11</td>\n",
       "    </tr>\n",
       "    <tr>\n",
       "      <th>3</th>\n",
       "      <td>3</td>\n",
       "      <td>NaN</td>\n",
       "      <td>NaN</td>\n",
       "      <td>1</td>\n",
       "      <td>NaN</td>\n",
       "      <td>9</td>\n",
       "      <td>11</td>\n",
       "    </tr>\n",
       "    <tr>\n",
       "      <th>4</th>\n",
       "      <td>1</td>\n",
       "      <td>3.0</td>\n",
       "      <td>1.0</td>\n",
       "      <td>1</td>\n",
       "      <td>2.800000e+03</td>\n",
       "      <td>51</td>\n",
       "      <td>11</td>\n",
       "    </tr>\n",
       "  </tbody>\n",
       "</table>\n",
       "</div>"
      ],
      "text/plain": [
       "   V0401  V06111  V06112  V4728         V9532  V8005  UF\n",
       "0      1     3.0     1.0      1  1.000000e+12     49  11\n",
       "1      2     1.0     1.0      1           NaN     33  11\n",
       "2      3     1.0     3.0      1           NaN     15  11\n",
       "3      3     NaN     NaN      1           NaN      9  11\n",
       "4      1     3.0     1.0      1  2.800000e+03     51  11"
      ]
     },
     "execution_count": 6,
     "metadata": {},
     "output_type": "execute_result"
    }
   ],
   "source": [
    "dados_não_nulos_2011 = dados_resumidos_2011\n",
    "#dados_não_nulos_2011=dados_não_nulos_2011.fillna(0)\n",
    "dados_não_nulos_2011.head()"
   ]
  },
  {
   "cell_type": "markdown",
   "metadata": {},
   "source": [
    "# Renomeando Linhas e Colunas"
   ]
  },
  {
   "cell_type": "code",
   "execution_count": 7,
   "metadata": {
    "scrolled": true
   },
   "outputs": [
    {
     "data": {
      "text/html": [
       "<div>\n",
       "<style scoped>\n",
       "    .dataframe tbody tr th:only-of-type {\n",
       "        vertical-align: middle;\n",
       "    }\n",
       "\n",
       "    .dataframe tbody tr th {\n",
       "        vertical-align: top;\n",
       "    }\n",
       "\n",
       "    .dataframe thead th {\n",
       "        text-align: right;\n",
       "    }\n",
       "</style>\n",
       "<table border=\"1\" class=\"dataframe\">\n",
       "  <thead>\n",
       "    <tr style=\"text-align: right;\">\n",
       "      <th></th>\n",
       "      <th>V0401</th>\n",
       "      <th>V06111</th>\n",
       "      <th>V06112</th>\n",
       "      <th>V4728</th>\n",
       "      <th>V9532</th>\n",
       "      <th>V8005</th>\n",
       "      <th>UF</th>\n",
       "      <th>Regiao</th>\n",
       "    </tr>\n",
       "  </thead>\n",
       "  <tbody>\n",
       "    <tr>\n",
       "      <th>0</th>\n",
       "      <td>1</td>\n",
       "      <td>3.0</td>\n",
       "      <td>1.0</td>\n",
       "      <td>URBANA - Cidade ou vila, área urbanizada</td>\n",
       "      <td>1.000000e+12</td>\n",
       "      <td>49</td>\n",
       "      <td>Rondônia</td>\n",
       "      <td>Norte</td>\n",
       "    </tr>\n",
       "    <tr>\n",
       "      <th>1</th>\n",
       "      <td>2</td>\n",
       "      <td>1.0</td>\n",
       "      <td>1.0</td>\n",
       "      <td>URBANA - Cidade ou vila, área urbanizada</td>\n",
       "      <td>NaN</td>\n",
       "      <td>33</td>\n",
       "      <td>Rondônia</td>\n",
       "      <td>Norte</td>\n",
       "    </tr>\n",
       "    <tr>\n",
       "      <th>2</th>\n",
       "      <td>3</td>\n",
       "      <td>1.0</td>\n",
       "      <td>3.0</td>\n",
       "      <td>URBANA - Cidade ou vila, área urbanizada</td>\n",
       "      <td>NaN</td>\n",
       "      <td>15</td>\n",
       "      <td>Rondônia</td>\n",
       "      <td>Norte</td>\n",
       "    </tr>\n",
       "    <tr>\n",
       "      <th>3</th>\n",
       "      <td>3</td>\n",
       "      <td>NaN</td>\n",
       "      <td>NaN</td>\n",
       "      <td>URBANA - Cidade ou vila, área urbanizada</td>\n",
       "      <td>NaN</td>\n",
       "      <td>9</td>\n",
       "      <td>Rondônia</td>\n",
       "      <td>Norte</td>\n",
       "    </tr>\n",
       "    <tr>\n",
       "      <th>4</th>\n",
       "      <td>1</td>\n",
       "      <td>3.0</td>\n",
       "      <td>1.0</td>\n",
       "      <td>URBANA - Cidade ou vila, área urbanizada</td>\n",
       "      <td>2.800000e+03</td>\n",
       "      <td>51</td>\n",
       "      <td>Rondônia</td>\n",
       "      <td>Norte</td>\n",
       "    </tr>\n",
       "  </tbody>\n",
       "</table>\n",
       "</div>"
      ],
      "text/plain": [
       "   V0401  V06111  V06112                                     V4728  \\\n",
       "0      1     3.0     1.0  URBANA - Cidade ou vila, área urbanizada   \n",
       "1      2     1.0     1.0  URBANA - Cidade ou vila, área urbanizada   \n",
       "2      3     1.0     3.0  URBANA - Cidade ou vila, área urbanizada   \n",
       "3      3     NaN     NaN  URBANA - Cidade ou vila, área urbanizada   \n",
       "4      1     3.0     1.0  URBANA - Cidade ou vila, área urbanizada   \n",
       "\n",
       "          V9532  V8005        UF Regiao  \n",
       "0  1.000000e+12     49  Rondônia  Norte  \n",
       "1           NaN     33  Rondônia  Norte  \n",
       "2           NaN     15  Rondônia  Norte  \n",
       "3           NaN      9  Rondônia  Norte  \n",
       "4  2.800000e+03     51  Rondônia  Norte  "
      ]
     },
     "execution_count": 7,
     "metadata": {},
     "output_type": "execute_result"
    }
   ],
   "source": [
    "dados_não_nulos_2011.UF=dados2011.UF.astype('category')\n",
    "dados_não_nulos_2011.UF.cat.categories=([\"Rondônia\",\"Acre\",\"Amazonas\",\"Roraima\",\"Pará\",\"Amapá\",\"Tocantins\",\"Maranhão\",\"Piauí\",\"Ceará\",\"Rio Grande do Norte\",\"Paraíba\",\"Pernambuco\",\"Alagoas\",\"Sergipe\",\"Bahia\",\"Minas Gerais\",\"Espírito Santo\",\"Rio de Janeiro\",\"São Paulo\",\"Paraná\",\"Santa Catarina\",\"Rio Grande do Sul\",\"Mato Grosso do Sul\",\"Mato Grosso\",\"Goías\",\"Distrito Federal\"])\n",
    "dados_não_nulos_2011.loc[(dados_não_nulos_2011.UF==\"Rondônia\")|(dados_não_nulos_2011.UF==\"Acre\")|(dados_não_nulos_2011.UF==\"Amazonas\")|\n",
    "                    (dados_não_nulos_2011.UF==\"Roraima\")|(dados_não_nulos_2011.UF==\"Pará\")|(dados_não_nulos_2011.UF==\"Amapá\")|\n",
    "                    (dados_não_nulos_2011.UF==\"Tocantins\")|(dados_não_nulos_2011.UF==\"Maranhão\")|(dados_não_nulos_2011.UF==\"Piauí\")|\n",
    "                    (dados_não_nulos_2011.UF==\"Ceará\")|(dados_não_nulos_2011.UF==\"Rio Grande do Norte\")|(dados_não_nulos_2011.UF==\"Paraíba\")|\n",
    "                    (dados_não_nulos_2011.UF==\"Pernambuco\")|(dados_não_nulos_2011.UF==\"Alagoas\")|(dados_não_nulos_2011.UF==\"Sergipe\")|\n",
    "                    (dados_não_nulos_2011.UF==\"Bahia\")|(dados_não_nulos_2011.UF==\"Minas Gerais\")|(dados_não_nulos_2011.UF==\"Espírito Santo\")|\n",
    "                    (dados_não_nulos_2011.UF==\"Rio de Janeiro\")|(dados_não_nulos_2011.UF==\"São Paulo\")|(dados_não_nulos_2011.UF==\"Paraná\")|\n",
    "                    (dados_não_nulos_2011.UF==\"Santa Catarina\")|(dados_não_nulos_2011.UF==\"Rio Grande do Sul\")|\n",
    "                    (dados_não_nulos_2011.UF==\"Mato Grosso do Sul\")|(dados_não_nulos_2011.UF==\"Mato Grosso\")|(dados_não_nulos_2011.UF==\"Goiás\")|\n",
    "                    (dados_não_nulos_2011.UF==\"Distrito Federal\"),\"Regiões\"]=\"Brasil\"\n",
    "#dados_não_nulos_2011=dados_não_nulos_2011.dropna(axis=0) #Dropna:Eliminação dos NAN's.\n",
    "dados_não_nulos_2011 = dados_não_nulos_2011.drop(['Regiões'],axis=1)\n",
    "\n",
    "dados_não_nulos_2011.V4728=dados_não_nulos_2011.V4728.astype('category')\n",
    "#dados_não_nulos_2011.V8005=dados_não_nulos_2011.V8005.astype('int64')\n",
    "#dados_não_nulos_2011.V9532=dados_não_nulos_2011.V9532.astype('int64')\n",
    "dados_não_nulos_2011.V4728.cat.categories = ([\"URBANA - Cidade ou vila, área urbanizada\",\"URBANA - Cidade ou vila, área não urbanizada\",\"URBANA - Área urbana isolada\",\"RURAL - Aglomerado rural de extensão urbana \",\"RURAL - Aglomerado rural, isolado, povoado\",\"RURAL - Aglomerado rural, isolado, núcleo\",\"RURAL- Aglomerado rural, isolado, outros aglomerados\", \"RURAL - Zona rural exclusive aglomerado rural\"])\n",
    "dados_não_nulos_2011.loc[(dados_não_nulos_2011.UF=='Rondônia') | (dados_não_nulos_2011.UF=='Acre') | (dados_não_nulos_2011.UF=='Amazonas') | (dados_não_nulos_2011.UF=='Roraima') | (dados_não_nulos_2011.UF=='Pará') | (dados_não_nulos_2011.UF=='Amapá') | (dados_não_nulos_2011.UF=='Tocantins'),'Regiao'] = 'Norte'\n",
    "dados_não_nulos_2011.loc[(dados_não_nulos_2011.UF=='Maranhão') | (dados_não_nulos_2011.UF=='Piaui') | (dados_não_nulos_2011.UF=='Caerá') | (dados_não_nulos_2011.UF=='Rio Grande do Norte') | (dados_não_nulos_2011.UF=='Paraíba') | (dados_não_nulos_2011.UF=='Pernambuco') | (dados_não_nulos_2011.UF=='Alagoas') | (dados_não_nulos_2011.UF=='Sergipe') | (dados_não_nulos_2011.UF=='Bahia'),'Regiao'] = 'Nordeste'\n",
    "dados_não_nulos_2011.loc[(dados_não_nulos_2011.UF=='Minas Gerais') | (dados_não_nulos_2011.UF=='Espirito Santo') | (dados_não_nulos_2011.UF=='Rio de Janeiro') | (dados_não_nulos_2011.UF=='São Paulo'),'Regiao'] = 'Sudeste'\n",
    "dados_não_nulos_2011.loc[(dados_não_nulos_2011.UF=='Paraná') | (dados_não_nulos_2011.UF=='Santa Catarina') | (dados_não_nulos_2011.UF=='Rio Grande do Sul'),'Regiao'] = 'Sul'\n",
    "dados_não_nulos_2011.loc[(dados_não_nulos_2011.UF=='Mato Grosso do Sul') | (dados_não_nulos_2011.UF=='Mato Grosso') | (dados_não_nulos_2011.UF=='Goiás') | (dados_não_nulos_2011.UF=='Distrito Federal'),'Regiao'] = 'Centroeste'\n",
    "dados_não_nulos_2011.head()"
   ]
  },
  {
   "cell_type": "code",
   "execution_count": 8,
   "metadata": {},
   "outputs": [
    {
     "data": {
      "text/html": [
       "<div>\n",
       "<style scoped>\n",
       "    .dataframe tbody tr th:only-of-type {\n",
       "        vertical-align: middle;\n",
       "    }\n",
       "\n",
       "    .dataframe tbody tr th {\n",
       "        vertical-align: top;\n",
       "    }\n",
       "\n",
       "    .dataframe thead th {\n",
       "        text-align: right;\n",
       "    }\n",
       "</style>\n",
       "<table border=\"1\" class=\"dataframe\">\n",
       "  <thead>\n",
       "    <tr style=\"text-align: right;\">\n",
       "      <th></th>\n",
       "      <th>Condição_domiciliar</th>\n",
       "      <th>Utilizou_a_Internet_em_algum_local</th>\n",
       "      <th>Tem_telefone_móvel_celular_para_uso_pessoal</th>\n",
       "      <th>Condição_Censitária</th>\n",
       "      <th>Renda</th>\n",
       "      <th>Idade</th>\n",
       "      <th>UF</th>\n",
       "      <th>Regiao</th>\n",
       "    </tr>\n",
       "  </thead>\n",
       "  <tbody>\n",
       "    <tr>\n",
       "      <th>0</th>\n",
       "      <td>Pessoa de referência</td>\n",
       "      <td>Não</td>\n",
       "      <td>Sim</td>\n",
       "      <td>URBANA - Cidade ou vila, área urbanizada</td>\n",
       "      <td>1.000000e+12</td>\n",
       "      <td>49</td>\n",
       "      <td>Rondônia</td>\n",
       "      <td>Norte</td>\n",
       "    </tr>\n",
       "    <tr>\n",
       "      <th>1</th>\n",
       "      <td>Cônjuge</td>\n",
       "      <td>Sim</td>\n",
       "      <td>Sim</td>\n",
       "      <td>URBANA - Cidade ou vila, área urbanizada</td>\n",
       "      <td>NaN</td>\n",
       "      <td>33</td>\n",
       "      <td>Rondônia</td>\n",
       "      <td>Norte</td>\n",
       "    </tr>\n",
       "    <tr>\n",
       "      <th>2</th>\n",
       "      <td>Filho</td>\n",
       "      <td>Sim</td>\n",
       "      <td>Não</td>\n",
       "      <td>URBANA - Cidade ou vila, área urbanizada</td>\n",
       "      <td>NaN</td>\n",
       "      <td>15</td>\n",
       "      <td>Rondônia</td>\n",
       "      <td>Norte</td>\n",
       "    </tr>\n",
       "    <tr>\n",
       "      <th>3</th>\n",
       "      <td>Filho</td>\n",
       "      <td>NaN</td>\n",
       "      <td>NaN</td>\n",
       "      <td>URBANA - Cidade ou vila, área urbanizada</td>\n",
       "      <td>NaN</td>\n",
       "      <td>9</td>\n",
       "      <td>Rondônia</td>\n",
       "      <td>Norte</td>\n",
       "    </tr>\n",
       "    <tr>\n",
       "      <th>4</th>\n",
       "      <td>Pessoa de referência</td>\n",
       "      <td>Não</td>\n",
       "      <td>Sim</td>\n",
       "      <td>URBANA - Cidade ou vila, área urbanizada</td>\n",
       "      <td>2.800000e+03</td>\n",
       "      <td>51</td>\n",
       "      <td>Rondônia</td>\n",
       "      <td>Norte</td>\n",
       "    </tr>\n",
       "  </tbody>\n",
       "</table>\n",
       "</div>"
      ],
      "text/plain": [
       "    Condição_domiciliar Utilizou_a_Internet_em_algum_local  \\\n",
       "0  Pessoa de referência                                Não   \n",
       "1               Cônjuge                                Sim   \n",
       "2                 Filho                                Sim   \n",
       "3                 Filho                                NaN   \n",
       "4  Pessoa de referência                                Não   \n",
       "\n",
       "  Tem_telefone_móvel_celular_para_uso_pessoal  \\\n",
       "0                                         Sim   \n",
       "1                                         Sim   \n",
       "2                                         Não   \n",
       "3                                         NaN   \n",
       "4                                         Sim   \n",
       "\n",
       "                        Condição_Censitária         Renda  Idade        UF  \\\n",
       "0  URBANA - Cidade ou vila, área urbanizada  1.000000e+12     49  Rondônia   \n",
       "1  URBANA - Cidade ou vila, área urbanizada           NaN     33  Rondônia   \n",
       "2  URBANA - Cidade ou vila, área urbanizada           NaN     15  Rondônia   \n",
       "3  URBANA - Cidade ou vila, área urbanizada           NaN      9  Rondônia   \n",
       "4  URBANA - Cidade ou vila, área urbanizada  2.800000e+03     51  Rondônia   \n",
       "\n",
       "  Regiao  \n",
       "0  Norte  \n",
       "1  Norte  \n",
       "2  Norte  \n",
       "3  Norte  \n",
       "4  Norte  "
      ]
     },
     "execution_count": 8,
     "metadata": {},
     "output_type": "execute_result"
    }
   ],
   "source": [
    "dados_não_nulos_2011=dados_não_nulos_2011.rename(columns={'UF':'UF','V8005':'Idade','V4728':'Condição_Censitária', 'V9532':'Renda',\n",
    "                                                'V06111':'Utilizou_a_Internet_em_algum_local', 'V06112':'Tem_telefone_móvel_celular_para_uso_pessoal',\n",
    "                                                'V0401':'Condição_domiciliar'})\n",
    "dados_não_nulos_2011.loc[dados_não_nulos_2011['Utilizou_a_Internet_em_algum_local'] == 1,'Utilizou_a_Internet_em_algum_local'] = 'Sim'\n",
    "dados_não_nulos_2011.loc[dados_não_nulos_2011['Utilizou_a_Internet_em_algum_local'] == 3,'Utilizou_a_Internet_em_algum_local'] = 'Não'\n",
    "#dados_não_nulos_2011.loc[dados_não_nulos_2011['Trabalho_Urbano'] == [] ,'Trabalho_Urbano'] = 'Não aplicável'\n",
    "\n",
    "dados_não_nulos_2011.loc[dados_não_nulos_2011['Tem_telefone_móvel_celular_para_uso_pessoal'] == 1,'Tem_telefone_móvel_celular_para_uso_pessoal'] = 'Sim'\n",
    "dados_não_nulos_2011.loc[dados_não_nulos_2011['Tem_telefone_móvel_celular_para_uso_pessoal'] == 3,'Tem_telefone_móvel_celular_para_uso_pessoal'] = 'Não'\n",
    "#dados_não_nulos_2011.loc[dados_não_nulos_2011['Trabalho_Urbano'] == [] ,'Trabalho_Urbano'] = 'Não aplicável'\n",
    "\n",
    "dados_não_nulos_2011.loc[dados_não_nulos_2011['Condição_domiciliar'] == 1,'Condição_domiciliar'] = 'Pessoa de referência'\n",
    "dados_não_nulos_2011.loc[dados_não_nulos_2011['Condição_domiciliar'] == 2,'Condição_domiciliar'] = 'Cônjuge'\n",
    "dados_não_nulos_2011.loc[dados_não_nulos_2011['Condição_domiciliar'] == 3,'Condição_domiciliar'] = 'Filho'\n",
    "dados_não_nulos_2011.loc[dados_não_nulos_2011['Condição_domiciliar'] == 4,'Condição_domiciliar'] = 'Outro parente'\n",
    "dados_não_nulos_2011.loc[dados_não_nulos_2011['Condição_domiciliar'] == 5,'Condição_domiciliar'] = 'Agregado'\n",
    "dados_não_nulos_2011.loc[dados_não_nulos_2011['Condição_domiciliar'] == 6,'Condição_domiciliar'] = 'Pensionista'\n",
    "dados_não_nulos_2011.loc[dados_não_nulos_2011['Condição_domiciliar'] == 7,'Condição_domiciliar'] = 'Empregado doméstico'\n",
    "dados_não_nulos_2011.loc[dados_não_nulos_2011['Condição_domiciliar'] == 8,'Condição_domiciliar'] = 'Parente do empregado doméstico'\n",
    "\n",
    "\n",
    "dados_não_nulos_2011.head()"
   ]
  },
  {
   "cell_type": "markdown",
   "metadata": {},
   "source": [
    "# Filtrando linhas"
   ]
  },
  {
   "cell_type": "code",
   "execution_count": 21,
   "metadata": {},
   "outputs": [
    {
     "data": {
      "text/html": [
       "<div>\n",
       "<style scoped>\n",
       "    .dataframe tbody tr th:only-of-type {\n",
       "        vertical-align: middle;\n",
       "    }\n",
       "\n",
       "    .dataframe tbody tr th {\n",
       "        vertical-align: top;\n",
       "    }\n",
       "\n",
       "    .dataframe thead th {\n",
       "        text-align: right;\n",
       "    }\n",
       "</style>\n",
       "<table border=\"1\" class=\"dataframe\">\n",
       "  <thead>\n",
       "    <tr style=\"text-align: right;\">\n",
       "      <th></th>\n",
       "      <th>Condição_domiciliar</th>\n",
       "      <th>Utilizou_a_Internet_em_algum_local</th>\n",
       "      <th>Tem_telefone_móvel_celular_para_uso_pessoal</th>\n",
       "      <th>Condição_Censitária</th>\n",
       "      <th>Renda</th>\n",
       "      <th>Idade</th>\n",
       "      <th>UF</th>\n",
       "      <th>Regiao</th>\n",
       "    </tr>\n",
       "  </thead>\n",
       "  <tbody>\n",
       "    <tr>\n",
       "      <th>26</th>\n",
       "      <td>Pessoa de referência</td>\n",
       "      <td>Não</td>\n",
       "      <td>Sim</td>\n",
       "      <td>URBANA - Cidade ou vila, área urbanizada</td>\n",
       "      <td>1000.0</td>\n",
       "      <td>60</td>\n",
       "      <td>Rondônia</td>\n",
       "      <td>Norte</td>\n",
       "    </tr>\n",
       "    <tr>\n",
       "      <th>167</th>\n",
       "      <td>Pessoa de referência</td>\n",
       "      <td>Não</td>\n",
       "      <td>Não</td>\n",
       "      <td>URBANA - Cidade ou vila, área urbanizada</td>\n",
       "      <td>3000.0</td>\n",
       "      <td>63</td>\n",
       "      <td>Rondônia</td>\n",
       "      <td>Norte</td>\n",
       "    </tr>\n",
       "    <tr>\n",
       "      <th>240</th>\n",
       "      <td>Pessoa de referência</td>\n",
       "      <td>Não</td>\n",
       "      <td>Sim</td>\n",
       "      <td>URBANA - Cidade ou vila, área urbanizada</td>\n",
       "      <td>1000.0</td>\n",
       "      <td>65</td>\n",
       "      <td>Rondônia</td>\n",
       "      <td>Norte</td>\n",
       "    </tr>\n",
       "    <tr>\n",
       "      <th>353</th>\n",
       "      <td>Pessoa de referência</td>\n",
       "      <td>Não</td>\n",
       "      <td>Não</td>\n",
       "      <td>RURAL - Zona rural exclusive aglomerado rural</td>\n",
       "      <td>2500.0</td>\n",
       "      <td>60</td>\n",
       "      <td>Rondônia</td>\n",
       "      <td>Norte</td>\n",
       "    </tr>\n",
       "    <tr>\n",
       "      <th>354</th>\n",
       "      <td>Pessoa de referência</td>\n",
       "      <td>Não</td>\n",
       "      <td>Não</td>\n",
       "      <td>RURAL - Zona rural exclusive aglomerado rural</td>\n",
       "      <td>4000.0</td>\n",
       "      <td>73</td>\n",
       "      <td>Rondônia</td>\n",
       "      <td>Norte</td>\n",
       "    </tr>\n",
       "  </tbody>\n",
       "</table>\n",
       "</div>"
      ],
      "text/plain": [
       "      Condição_domiciliar Utilizou_a_Internet_em_algum_local  \\\n",
       "26   Pessoa de referência                                Não   \n",
       "167  Pessoa de referência                                Não   \n",
       "240  Pessoa de referência                                Não   \n",
       "353  Pessoa de referência                                Não   \n",
       "354  Pessoa de referência                                Não   \n",
       "\n",
       "    Tem_telefone_móvel_celular_para_uso_pessoal  \\\n",
       "26                                          Sim   \n",
       "167                                         Não   \n",
       "240                                         Sim   \n",
       "353                                         Não   \n",
       "354                                         Não   \n",
       "\n",
       "                               Condição_Censitária   Renda  Idade        UF  \\\n",
       "26        URBANA - Cidade ou vila, área urbanizada  1000.0     60  Rondônia   \n",
       "167       URBANA - Cidade ou vila, área urbanizada  3000.0     63  Rondônia   \n",
       "240       URBANA - Cidade ou vila, área urbanizada  1000.0     65  Rondônia   \n",
       "353  RURAL - Zona rural exclusive aglomerado rural  2500.0     60  Rondônia   \n",
       "354  RURAL - Zona rural exclusive aglomerado rural  4000.0     73  Rondônia   \n",
       "\n",
       "    Regiao  \n",
       "26   Norte  \n",
       "167  Norte  \n",
       "240  Norte  \n",
       "353  Norte  \n",
       "354  Norte  "
      ]
     },
     "execution_count": 21,
     "metadata": {},
     "output_type": "execute_result"
    }
   ],
   "source": [
    "#dados_não_nulos_2011=dados_não_nulos_2011[dados_não_nulos_2011['Renda']!=999999999999]\n",
    "#dados_não_nulos_2011.head()\n",
    "\n",
    "dados_não_nulos_2011.loc[dados_não_nulos_2011.Renda!=999999999999,'Renda']\n",
    "dados_não_nulos_2011.head()"
   ]
  },
  {
   "cell_type": "code",
   "execution_count": 23,
   "metadata": {},
   "outputs": [
    {
     "data": {
      "text/html": [
       "<div>\n",
       "<style scoped>\n",
       "    .dataframe tbody tr th:only-of-type {\n",
       "        vertical-align: middle;\n",
       "    }\n",
       "\n",
       "    .dataframe tbody tr th {\n",
       "        vertical-align: top;\n",
       "    }\n",
       "\n",
       "    .dataframe thead th {\n",
       "        text-align: right;\n",
       "    }\n",
       "</style>\n",
       "<table border=\"1\" class=\"dataframe\">\n",
       "  <thead>\n",
       "    <tr style=\"text-align: right;\">\n",
       "      <th></th>\n",
       "      <th>Condição_domiciliar</th>\n",
       "      <th>Utilizou_a_Internet_em_algum_local</th>\n",
       "      <th>Tem_telefone_móvel_celular_para_uso_pessoal</th>\n",
       "      <th>Condição_Censitária</th>\n",
       "      <th>Renda</th>\n",
       "      <th>Idade</th>\n",
       "      <th>UF</th>\n",
       "      <th>Regiao</th>\n",
       "    </tr>\n",
       "  </thead>\n",
       "  <tbody>\n",
       "    <tr>\n",
       "      <th>26</th>\n",
       "      <td>Pessoa de referência</td>\n",
       "      <td>Não</td>\n",
       "      <td>Sim</td>\n",
       "      <td>URBANA - Cidade ou vila, área urbanizada</td>\n",
       "      <td>1000.0</td>\n",
       "      <td>60</td>\n",
       "      <td>Rondônia</td>\n",
       "      <td>Norte</td>\n",
       "    </tr>\n",
       "    <tr>\n",
       "      <th>167</th>\n",
       "      <td>Pessoa de referência</td>\n",
       "      <td>Não</td>\n",
       "      <td>Não</td>\n",
       "      <td>URBANA - Cidade ou vila, área urbanizada</td>\n",
       "      <td>3000.0</td>\n",
       "      <td>63</td>\n",
       "      <td>Rondônia</td>\n",
       "      <td>Norte</td>\n",
       "    </tr>\n",
       "    <tr>\n",
       "      <th>240</th>\n",
       "      <td>Pessoa de referência</td>\n",
       "      <td>Não</td>\n",
       "      <td>Sim</td>\n",
       "      <td>URBANA - Cidade ou vila, área urbanizada</td>\n",
       "      <td>1000.0</td>\n",
       "      <td>65</td>\n",
       "      <td>Rondônia</td>\n",
       "      <td>Norte</td>\n",
       "    </tr>\n",
       "    <tr>\n",
       "      <th>353</th>\n",
       "      <td>Pessoa de referência</td>\n",
       "      <td>Não</td>\n",
       "      <td>Não</td>\n",
       "      <td>RURAL - Zona rural exclusive aglomerado rural</td>\n",
       "      <td>2500.0</td>\n",
       "      <td>60</td>\n",
       "      <td>Rondônia</td>\n",
       "      <td>Norte</td>\n",
       "    </tr>\n",
       "    <tr>\n",
       "      <th>354</th>\n",
       "      <td>Pessoa de referência</td>\n",
       "      <td>Não</td>\n",
       "      <td>Não</td>\n",
       "      <td>RURAL - Zona rural exclusive aglomerado rural</td>\n",
       "      <td>4000.0</td>\n",
       "      <td>73</td>\n",
       "      <td>Rondônia</td>\n",
       "      <td>Norte</td>\n",
       "    </tr>\n",
       "  </tbody>\n",
       "</table>\n",
       "</div>"
      ],
      "text/plain": [
       "      Condição_domiciliar Utilizou_a_Internet_em_algum_local  \\\n",
       "26   Pessoa de referência                                Não   \n",
       "167  Pessoa de referência                                Não   \n",
       "240  Pessoa de referência                                Não   \n",
       "353  Pessoa de referência                                Não   \n",
       "354  Pessoa de referência                                Não   \n",
       "\n",
       "    Tem_telefone_móvel_celular_para_uso_pessoal  \\\n",
       "26                                          Sim   \n",
       "167                                         Não   \n",
       "240                                         Sim   \n",
       "353                                         Não   \n",
       "354                                         Não   \n",
       "\n",
       "                               Condição_Censitária   Renda  Idade        UF  \\\n",
       "26        URBANA - Cidade ou vila, área urbanizada  1000.0     60  Rondônia   \n",
       "167       URBANA - Cidade ou vila, área urbanizada  3000.0     63  Rondônia   \n",
       "240       URBANA - Cidade ou vila, área urbanizada  1000.0     65  Rondônia   \n",
       "353  RURAL - Zona rural exclusive aglomerado rural  2500.0     60  Rondônia   \n",
       "354  RURAL - Zona rural exclusive aglomerado rural  4000.0     73  Rondônia   \n",
       "\n",
       "    Regiao  \n",
       "26   Norte  \n",
       "167  Norte  \n",
       "240  Norte  \n",
       "353  Norte  \n",
       "354  Norte  "
      ]
     },
     "execution_count": 23,
     "metadata": {},
     "output_type": "execute_result"
    }
   ],
   "source": [
    "dados_não_nulos_2011 = dados_não_nulos_2011[(dados_não_nulos_2011.Condição_domiciliar == 'Pessoa de referência')&(dados_não_nulos_2011.Idade >= 60)].dropna(axis=0)\n",
    "dados_não_nulos_2011.head()"
   ]
  },
  {
   "cell_type": "code",
   "execution_count": 26,
   "metadata": {},
   "outputs": [
    {
     "data": {
      "text/html": [
       "<div>\n",
       "<style scoped>\n",
       "    .dataframe tbody tr th:only-of-type {\n",
       "        vertical-align: middle;\n",
       "    }\n",
       "\n",
       "    .dataframe tbody tr th {\n",
       "        vertical-align: top;\n",
       "    }\n",
       "\n",
       "    .dataframe thead th {\n",
       "        text-align: right;\n",
       "    }\n",
       "</style>\n",
       "<table border=\"1\" class=\"dataframe\">\n",
       "  <thead>\n",
       "    <tr style=\"text-align: right;\">\n",
       "      <th></th>\n",
       "      <th>Condição_domiciliar</th>\n",
       "      <th>Utilizou_a_Internet_em_algum_local</th>\n",
       "      <th>Tem_telefone_móvel_celular_para_uso_pessoal</th>\n",
       "      <th>Condição_Censitária</th>\n",
       "      <th>Renda</th>\n",
       "      <th>Idade</th>\n",
       "      <th>UF</th>\n",
       "      <th>Regiao</th>\n",
       "    </tr>\n",
       "  </thead>\n",
       "  <tbody>\n",
       "    <tr>\n",
       "      <th>26</th>\n",
       "      <td>Pessoa de referência</td>\n",
       "      <td>Não</td>\n",
       "      <td>Sim</td>\n",
       "      <td>URBANA - Cidade ou vila, área urbanizada</td>\n",
       "      <td>1000.0</td>\n",
       "      <td>60</td>\n",
       "      <td>Rondônia</td>\n",
       "      <td>Norte</td>\n",
       "    </tr>\n",
       "    <tr>\n",
       "      <th>167</th>\n",
       "      <td>Pessoa de referência</td>\n",
       "      <td>Não</td>\n",
       "      <td>Não</td>\n",
       "      <td>URBANA - Cidade ou vila, área urbanizada</td>\n",
       "      <td>3000.0</td>\n",
       "      <td>63</td>\n",
       "      <td>Rondônia</td>\n",
       "      <td>Norte</td>\n",
       "    </tr>\n",
       "    <tr>\n",
       "      <th>240</th>\n",
       "      <td>Pessoa de referência</td>\n",
       "      <td>Não</td>\n",
       "      <td>Sim</td>\n",
       "      <td>URBANA - Cidade ou vila, área urbanizada</td>\n",
       "      <td>1000.0</td>\n",
       "      <td>65</td>\n",
       "      <td>Rondônia</td>\n",
       "      <td>Norte</td>\n",
       "    </tr>\n",
       "    <tr>\n",
       "      <th>353</th>\n",
       "      <td>Pessoa de referência</td>\n",
       "      <td>Não</td>\n",
       "      <td>Não</td>\n",
       "      <td>RURAL - Zona rural exclusive aglomerado rural</td>\n",
       "      <td>2500.0</td>\n",
       "      <td>60</td>\n",
       "      <td>Rondônia</td>\n",
       "      <td>Norte</td>\n",
       "    </tr>\n",
       "    <tr>\n",
       "      <th>354</th>\n",
       "      <td>Pessoa de referência</td>\n",
       "      <td>Não</td>\n",
       "      <td>Não</td>\n",
       "      <td>RURAL - Zona rural exclusive aglomerado rural</td>\n",
       "      <td>4000.0</td>\n",
       "      <td>73</td>\n",
       "      <td>Rondônia</td>\n",
       "      <td>Norte</td>\n",
       "    </tr>\n",
       "  </tbody>\n",
       "</table>\n",
       "</div>"
      ],
      "text/plain": [
       "      Condição_domiciliar Utilizou_a_Internet_em_algum_local  \\\n",
       "26   Pessoa de referência                                Não   \n",
       "167  Pessoa de referência                                Não   \n",
       "240  Pessoa de referência                                Não   \n",
       "353  Pessoa de referência                                Não   \n",
       "354  Pessoa de referência                                Não   \n",
       "\n",
       "    Tem_telefone_móvel_celular_para_uso_pessoal  \\\n",
       "26                                          Sim   \n",
       "167                                         Não   \n",
       "240                                         Sim   \n",
       "353                                         Não   \n",
       "354                                         Não   \n",
       "\n",
       "                               Condição_Censitária   Renda  Idade        UF  \\\n",
       "26        URBANA - Cidade ou vila, área urbanizada  1000.0     60  Rondônia   \n",
       "167       URBANA - Cidade ou vila, área urbanizada  3000.0     63  Rondônia   \n",
       "240       URBANA - Cidade ou vila, área urbanizada  1000.0     65  Rondônia   \n",
       "353  RURAL - Zona rural exclusive aglomerado rural  2500.0     60  Rondônia   \n",
       "354  RURAL - Zona rural exclusive aglomerado rural  4000.0     73  Rondônia   \n",
       "\n",
       "    Regiao  \n",
       "26   Norte  \n",
       "167  Norte  \n",
       "240  Norte  \n",
       "353  Norte  \n",
       "354  Norte  "
      ]
     },
     "execution_count": 26,
     "metadata": {},
     "output_type": "execute_result"
    }
   ],
   "source": [
    "dados_não_nulos_2011 = dados_não_nulos_2011[(dados_não_nulos_2011.Idade >= 60)]\n",
    "dados_não_nulos_2011.head()"
   ]
  },
  {
   "cell_type": "markdown",
   "metadata": {},
   "source": [
    "# Tabelas univariadas"
   ]
  },
  {
   "cell_type": "code",
   "execution_count": 27,
   "metadata": {},
   "outputs": [
    {
     "name": "stdout",
     "output_type": "stream",
     "text": [
      "Frequências absolutas por Condição_domiciliar:\n",
      "Pessoa de referência    5728\n",
      "Name: Condição_domiciliar, dtype: int64 \n",
      "\n",
      "Frequências absolutas da Utilização da Internet em algum local:\n",
      "Não    4493\n",
      "Sim    1235\n",
      "Name: Utilizou_a_Internet_em_algum_local, dtype: int64 \n",
      "\n",
      "Frequências absolutas da posse ou não de Telefone móvel celular para uso pessoal:\n",
      "Não    1948\n",
      "Sim    3780\n",
      "Name: Tem_telefone_móvel_celular_para_uso_pessoal, dtype: int64 \n",
      "\n",
      "Frequências absolutas por UF:\n",
      "Rondônia               149.0\n",
      "Acre                    61.0\n",
      "Amazonas               144.0\n",
      "Roraima                 33.0\n",
      "Para                     NaN\n",
      "Amapá                   34.0\n",
      "Tocantins              111.0\n",
      "Maranhão               138.0\n",
      "Piauí                    0.0\n",
      "Ceará                    0.0\n",
      "Rio Grande do Norte    100.0\n",
      "Paraíba                 92.0\n",
      "Pernambuco             279.0\n",
      "Alagoas                 60.0\n",
      "Sergipe                101.0\n",
      "Bahia                  521.0\n",
      "Minas Gerais           685.0\n",
      "Espírito Santos          NaN\n",
      "São Paulo              722.0\n",
      "Paraná                 378.0\n",
      "Santa Catarina         148.0\n",
      "Rio Grande do Sul      622.0\n",
      "Mato Grosso do Sul     155.0\n",
      "Mato Grosso            138.0\n",
      "Goiás                    NaN\n",
      "Distrito Federal       128.0\n",
      "Name: UF, dtype: float64 \n",
      "\n"
     ]
    }
   ],
   "source": [
    "# Tabelas univariada\n",
    "print('Frequências absolutas por Condição_domiciliar:')\n",
    "ut1_2011 = dados_não_nulos_2011.Condição_domiciliar.value_counts(sort=False).reindex(['Pessoa de referência'])\n",
    "print(ut1_2011,'\\n')\n",
    "\n",
    "# Tabelas univariada\n",
    "print('Frequências absolutas da Utilização da Internet em algum local:')\n",
    "ut2_2011 = dados_não_nulos_2011.Utilizou_a_Internet_em_algum_local.value_counts(sort=False).reindex(['Não', 'Sim'])\n",
    "print(ut2_2011,'\\n')\n",
    "\n",
    "# Tabelas univariada\n",
    "print('Frequências absolutas da posse ou não de Telefone móvel celular para uso pessoal:')\n",
    "ut3_2011 = dados_não_nulos_2011.Tem_telefone_móvel_celular_para_uso_pessoal.value_counts(sort=False).reindex(['Não', 'Sim'])\n",
    "print(ut3_2011,'\\n')\n",
    "\n",
    "# Tabelas univariada\n",
    "print('Frequências absolutas por UF:')\n",
    "ut5_2011 = dados_não_nulos_2011.UF.value_counts(sort=False).reindex(['Rondônia', 'Acre', 'Amazonas', 'Roraima', 'Para', 'Amapá', 'Tocantins', 'Maranhão', 'Piauí', 'Ceará', 'Rio Grande do Norte', 'Paraíba', 'Pernambuco', 'Alagoas', 'Sergipe', 'Bahia', 'Minas Gerais', 'Espírito Santos', 'São Paulo', 'Paraná', 'Santa Catarina', 'Rio Grande do Sul', 'Mato Grosso do Sul', 'Mato Grosso', 'Goiás', 'Distrito Federal'])\n",
    "print(ut5_2011,'\\n')"
   ]
  },
  {
   "cell_type": "markdown",
   "metadata": {},
   "source": [
    "___\n",
    "## Análise e Resultados"
   ]
  },
  {
   "cell_type": "markdown",
   "metadata": {},
   "source": [
    "# Relação entre Condição Domiciliar e Utilização da Internet em algum local"
   ]
  },
  {
   "cell_type": "code",
   "execution_count": 28,
   "metadata": {},
   "outputs": [
    {
     "data": {
      "text/html": [
       "<div>\n",
       "<style scoped>\n",
       "    .dataframe tbody tr th:only-of-type {\n",
       "        vertical-align: middle;\n",
       "    }\n",
       "\n",
       "    .dataframe tbody tr th {\n",
       "        vertical-align: top;\n",
       "    }\n",
       "\n",
       "    .dataframe thead th {\n",
       "        text-align: right;\n",
       "    }\n",
       "</style>\n",
       "<table border=\"1\" class=\"dataframe\">\n",
       "  <thead>\n",
       "    <tr style=\"text-align: right;\">\n",
       "      <th>Condição_domiciliar</th>\n",
       "      <th>Pessoa de referência</th>\n",
       "    </tr>\n",
       "    <tr>\n",
       "      <th>Utilizou_a_Internet_em_algum_local</th>\n",
       "      <th></th>\n",
       "    </tr>\n",
       "  </thead>\n",
       "  <tbody>\n",
       "    <tr>\n",
       "      <th>Não</th>\n",
       "      <td>4493</td>\n",
       "    </tr>\n",
       "    <tr>\n",
       "      <th>Sim</th>\n",
       "      <td>1235</td>\n",
       "    </tr>\n",
       "  </tbody>\n",
       "</table>\n",
       "</div>"
      ],
      "text/plain": [
       "Condição_domiciliar                 Pessoa de referência\n",
       "Utilizou_a_Internet_em_algum_local                      \n",
       "Não                                                 4493\n",
       "Sim                                                 1235"
      ]
     },
     "execution_count": 28,
     "metadata": {},
     "output_type": "execute_result"
    }
   ],
   "source": [
    "ct1_2011=pd.crosstab(dados_não_nulos_2011.Utilizou_a_Internet_em_algum_local, dados_não_nulos_2011.Condição_domiciliar, margins=True, rownames=['Utilizou_a_Internet_em_algum_local'])\n",
    "ct1_2011 = ct1_2011.drop(['All'],axis = 1)\n",
    "ct1_2011 = ct1_2011.drop(['All'])\n",
    "ct1_2011"
   ]
  },
  {
   "cell_type": "code",
   "execution_count": 29,
   "metadata": {},
   "outputs": [
    {
     "data": {
      "image/png": "[encoded data removed]",
      "text/plain": [
       "<matplotlib.figure.Figure at 0x1de152bef60>"
      ]
     },
     "metadata": {},
     "output_type": "display_data"
    }
   ],
   "source": [
    "plot = ct1_2011.plot(kind='bar',figsize=(6, 6))\n",
    "plt.ylabel('Freq.Absoluta')\n",
    "plt.show()"
   ]
  },
  {
   "cell_type": "markdown",
   "metadata": {},
   "source": [
    "# Relação entre Condição Domiciliar e Posse de Telefone celular para uso próprio"
   ]
  },
  {
   "cell_type": "code",
   "execution_count": 30,
   "metadata": {},
   "outputs": [
    {
     "data": {
      "text/html": [
       "<div>\n",
       "<style scoped>\n",
       "    .dataframe tbody tr th:only-of-type {\n",
       "        vertical-align: middle;\n",
       "    }\n",
       "\n",
       "    .dataframe tbody tr th {\n",
       "        vertical-align: top;\n",
       "    }\n",
       "\n",
       "    .dataframe thead th {\n",
       "        text-align: right;\n",
       "    }\n",
       "</style>\n",
       "<table border=\"1\" class=\"dataframe\">\n",
       "  <thead>\n",
       "    <tr style=\"text-align: right;\">\n",
       "      <th>Condição_domiciliar</th>\n",
       "      <th>Pessoa de referência</th>\n",
       "    </tr>\n",
       "    <tr>\n",
       "      <th>Tem_telefone_móvel_celular_para_uso_pessoal</th>\n",
       "      <th></th>\n",
       "    </tr>\n",
       "  </thead>\n",
       "  <tbody>\n",
       "    <tr>\n",
       "      <th>Não</th>\n",
       "      <td>1948</td>\n",
       "    </tr>\n",
       "    <tr>\n",
       "      <th>Sim</th>\n",
       "      <td>3780</td>\n",
       "    </tr>\n",
       "  </tbody>\n",
       "</table>\n",
       "</div>"
      ],
      "text/plain": [
       "Condição_domiciliar                          Pessoa de referência\n",
       "Tem_telefone_móvel_celular_para_uso_pessoal                      \n",
       "Não                                                          1948\n",
       "Sim                                                          3780"
      ]
     },
     "execution_count": 30,
     "metadata": {},
     "output_type": "execute_result"
    }
   ],
   "source": [
    "ct2_2011=pd.crosstab(dados_não_nulos_2011.Tem_telefone_móvel_celular_para_uso_pessoal, dados_não_nulos_2011.Condição_domiciliar, margins=True, rownames=['Tem_telefone_móvel_celular_para_uso_pessoal'])\n",
    "ct2_2011 = ct2_2011.drop(['All'],axis = 1)\n",
    "ct2_2011 = ct2_2011.drop(['All'])\n",
    "ct2_2011\n",
    "\n"
   ]
  },
  {
   "cell_type": "code",
   "execution_count": 31,
   "metadata": {},
   "outputs": [
    {
     "data": {
      "image/png": "[encoded data removed]",
      "text/plain": [
       "<matplotlib.figure.Figure at 0x1de152c27b8>"
      ]
     },
     "metadata": {},
     "output_type": "display_data"
    }
   ],
   "source": [
    "plot = ct2_2011.plot(kind='bar',figsize=(6, 6))\n",
    "plt.ylabel('Freq.Absoluta')\n",
    "plt.show()"
   ]
  },
  {
   "cell_type": "markdown",
   "metadata": {},
   "source": [
    "# Relação entre Condição Domiciliar e Renda"
   ]
  },
  {
   "cell_type": "code",
   "execution_count": 37,
   "metadata": {},
   "outputs": [
    {
     "data": {
      "text/html": [
       "<div>\n",
       "<style scoped>\n",
       "    .dataframe tbody tr th:only-of-type {\n",
       "        vertical-align: middle;\n",
       "    }\n",
       "\n",
       "    .dataframe tbody tr th {\n",
       "        vertical-align: top;\n",
       "    }\n",
       "\n",
       "    .dataframe thead th {\n",
       "        text-align: right;\n",
       "    }\n",
       "</style>\n",
       "<table border=\"1\" class=\"dataframe\">\n",
       "  <thead>\n",
       "    <tr style=\"text-align: right;\">\n",
       "      <th></th>\n",
       "      <th>Renda</th>\n",
       "      <th>Condição_domiciliar</th>\n",
       "    </tr>\n",
       "  </thead>\n",
       "  <tbody>\n",
       "    <tr>\n",
       "      <th>26</th>\n",
       "      <td>1000.0</td>\n",
       "      <td>Pessoa de referência</td>\n",
       "    </tr>\n",
       "    <tr>\n",
       "      <th>167</th>\n",
       "      <td>3000.0</td>\n",
       "      <td>Pessoa de referência</td>\n",
       "    </tr>\n",
       "    <tr>\n",
       "      <th>240</th>\n",
       "      <td>1000.0</td>\n",
       "      <td>Pessoa de referência</td>\n",
       "    </tr>\n",
       "    <tr>\n",
       "      <th>353</th>\n",
       "      <td>2500.0</td>\n",
       "      <td>Pessoa de referência</td>\n",
       "    </tr>\n",
       "    <tr>\n",
       "      <th>354</th>\n",
       "      <td>4000.0</td>\n",
       "      <td>Pessoa de referência</td>\n",
       "    </tr>\n",
       "  </tbody>\n",
       "</table>\n",
       "</div>"
      ],
      "text/plain": [
       "      Renda   Condição_domiciliar\n",
       "26   1000.0  Pessoa de referência\n",
       "167  3000.0  Pessoa de referência\n",
       "240  1000.0  Pessoa de referência\n",
       "353  2500.0  Pessoa de referência\n",
       "354  4000.0  Pessoa de referência"
      ]
     },
     "execution_count": 37,
     "metadata": {},
     "output_type": "execute_result"
    }
   ],
   "source": [
    "renda_2011=dados_não_nulos_2011[['Renda','Condição_domiciliar']].copy()\n",
    "renda_2011.head()"
   ]
  },
  {
   "cell_type": "code",
   "execution_count": 38,
   "metadata": {},
   "outputs": [
    {
     "data": {
      "text/plain": [
       "array([   0,  100,  200,  300,  400,  500,  600,  700,  800,  900, 1000,\n",
       "       1100, 1200, 1300, 1400, 1500, 1600, 1700, 1800, 1900, 2000, 2100,\n",
       "       2200, 2300, 2400, 2500, 2600, 2700, 2800, 2900, 3000, 3100, 3200,\n",
       "       3300, 3400, 3500, 3600, 3700, 3800, 3900, 4000, 4100, 4200, 4300,\n",
       "       4400, 4500, 4600, 4700, 4800, 4900])"
      ]
     },
     "execution_count": 38,
     "metadata": {},
     "output_type": "execute_result"
    }
   ],
   "source": [
    "faixa_2011=np.arange(0,5000,100)\n",
    "faixa_2011"
   ]
  },
  {
   "cell_type": "code",
   "execution_count": 39,
   "metadata": {},
   "outputs": [
    {
     "data": {
      "image/png": "[encoded data removed]",
      "text/plain": [
       "<matplotlib.figure.Figure at 0x1de16ccbb38>"
      ]
     },
     "metadata": {},
     "output_type": "display_data"
    }
   ],
   "source": [
    "plot = renda_2011.Renda.plot.hist(bins=faixa_2011, figsize=(6,6), alpha=1)\n",
    "plt.show()"
   ]
  },
  {
   "cell_type": "code",
   "execution_count": 41,
   "metadata": {},
   "outputs": [
    {
     "data": {
      "text/plain": [
       "count    5.728000e+03\n",
       "mean     5.813548e+10\n",
       "std      2.340199e+11\n",
       "min      1.000000e+00\n",
       "25%      5.000000e+02\n",
       "50%      8.000000e+02\n",
       "75%      2.000000e+03\n",
       "max      1.000000e+12\n",
       "Name: Renda, dtype: float64"
      ]
     },
     "execution_count": 41,
     "metadata": {},
     "output_type": "execute_result"
    }
   ],
   "source": [
    "renda_2011 = dados_não_nulos_2011.Renda\n",
    "renda_2011.describe()"
   ]
  },
  {
   "cell_type": "code",
   "execution_count": 42,
   "metadata": {},
   "outputs": [
    {
     "name": "stdout",
     "output_type": "stream",
     "text": [
      "Frequências relativas:\n",
      "[0.0, 234.25)       14.7\n",
      "[234.25, 468.5)     14.1\n",
      "[468.5, 937.0)      38.1\n",
      "[937.0, 1874.0)     24.2\n",
      "[1874.0, 2771.5)     8.9\n",
      "Name: Renda, dtype: float64 \n",
      "\n"
     ]
    }
   ],
   "source": [
    "faixa_2011 = (0,937/4 ,937/2, 937, 937*2,2771.5)\n",
    "rendarelativa_2011 = pd.cut(renda_2011, faixa_2011, False)\n",
    "print('Frequências relativas:')\n",
    "ut6_2011 = (rendarelativa_2011.value_counts(sort=False, normalize=True)*100).round(decimals=1)\n",
    "print(ut6_2011,'\\n')"
   ]
  },
  {
   "cell_type": "code",
   "execution_count": 43,
   "metadata": {},
   "outputs": [
    {
     "data": {
      "image/png": "[encoded data removed]",
      "text/plain": [
       "<matplotlib.figure.Figure at 0x1de16d84240>"
      ]
     },
     "metadata": {},
     "output_type": "display_data"
    }
   ],
   "source": [
    "fig = plt.figure(figsize=(11, 5))\n",
    "plt.subplot(121)\n",
    "plot = renda_2011.plot.hist(bins=faixa_2011,title='Renda', figsize=(6, 6), normed=1, alpha=0.5)\n",
    "plt.ylabel('Densidade')\n",
    "plt.xlabel('renda (em reais)')\n",
    "\n",
    "plt.tight_layout()\n",
    "plt.show()"
   ]
  },
  {
   "cell_type": "markdown",
   "metadata": {},
   "source": [
    "# Relação entre Renda e Região"
   ]
  },
  {
   "cell_type": "code",
   "execution_count": 47,
   "metadata": {},
   "outputs": [
    {
     "data": {
      "text/html": [
       "<div>\n",
       "<style scoped>\n",
       "    .dataframe tbody tr th:only-of-type {\n",
       "        vertical-align: middle;\n",
       "    }\n",
       "\n",
       "    .dataframe tbody tr th {\n",
       "        vertical-align: top;\n",
       "    }\n",
       "\n",
       "    .dataframe thead th {\n",
       "        text-align: right;\n",
       "    }\n",
       "</style>\n",
       "<table border=\"1\" class=\"dataframe\">\n",
       "  <thead>\n",
       "    <tr style=\"text-align: right;\">\n",
       "      <th>Região</th>\n",
       "      <th>Centroeste</th>\n",
       "      <th>Nordeste</th>\n",
       "      <th>Norte</th>\n",
       "      <th>Sudeste</th>\n",
       "      <th>Sul</th>\n",
       "      <th>All</th>\n",
       "    </tr>\n",
       "    <tr>\n",
       "      <th>Renda</th>\n",
       "      <th></th>\n",
       "      <th></th>\n",
       "      <th></th>\n",
       "      <th></th>\n",
       "      <th></th>\n",
       "      <th></th>\n",
       "    </tr>\n",
       "  </thead>\n",
       "  <tbody>\n",
       "    <tr>\n",
       "      <th>[0.0, 234.25)</th>\n",
       "      <td>0.7</td>\n",
       "      <td>5.9</td>\n",
       "      <td>2.9</td>\n",
       "      <td>2.8</td>\n",
       "      <td>2.4</td>\n",
       "      <td>14.7</td>\n",
       "    </tr>\n",
       "    <tr>\n",
       "      <th>[234.25, 468.5)</th>\n",
       "      <td>0.8</td>\n",
       "      <td>4.4</td>\n",
       "      <td>3.0</td>\n",
       "      <td>3.3</td>\n",
       "      <td>2.6</td>\n",
       "      <td>14.1</td>\n",
       "    </tr>\n",
       "    <tr>\n",
       "      <th>[468.5, 937.0)</th>\n",
       "      <td>3.0</td>\n",
       "      <td>8.0</td>\n",
       "      <td>6.1</td>\n",
       "      <td>13.5</td>\n",
       "      <td>7.5</td>\n",
       "      <td>38.1</td>\n",
       "    </tr>\n",
       "    <tr>\n",
       "      <th>[937.0, 1874.0)</th>\n",
       "      <td>1.8</td>\n",
       "      <td>3.6</td>\n",
       "      <td>3.5</td>\n",
       "      <td>9.4</td>\n",
       "      <td>5.9</td>\n",
       "      <td>24.2</td>\n",
       "    </tr>\n",
       "    <tr>\n",
       "      <th>[1874.0, 2771.5)</th>\n",
       "      <td>0.7</td>\n",
       "      <td>1.2</td>\n",
       "      <td>1.2</td>\n",
       "      <td>3.7</td>\n",
       "      <td>2.1</td>\n",
       "      <td>8.9</td>\n",
       "    </tr>\n",
       "    <tr>\n",
       "      <th>All</th>\n",
       "      <td>7.0</td>\n",
       "      <td>23.1</td>\n",
       "      <td>16.7</td>\n",
       "      <td>32.6</td>\n",
       "      <td>20.5</td>\n",
       "      <td>100.0</td>\n",
       "    </tr>\n",
       "  </tbody>\n",
       "</table>\n",
       "</div>"
      ],
      "text/plain": [
       "Região            Centroeste  Nordeste  Norte  Sudeste   Sul    All\n",
       "Renda                                                              \n",
       "[0.0, 234.25)            0.7       5.9    2.9      2.8   2.4   14.7\n",
       "[234.25, 468.5)          0.8       4.4    3.0      3.3   2.6   14.1\n",
       "[468.5, 937.0)           3.0       8.0    6.1     13.5   7.5   38.1\n",
       "[937.0, 1874.0)          1.8       3.6    3.5      9.4   5.9   24.2\n",
       "[1874.0, 2771.5)         0.7       1.2    1.2      3.7   2.1    8.9\n",
       "All                      7.0      23.1   16.7     32.6  20.5  100.0"
      ]
     },
     "execution_count": 47,
     "metadata": {},
     "output_type": "execute_result"
    }
   ],
   "source": [
    "#Relação Renda Percapita Domiciliar e Região\n",
    "renda_região_2011=pd.crosstab( rendarelativa_2011, dados_não_nulos_2011.Regiao, margins=True, rownames=['Renda'], colnames=['Região'], normalize=True)*100\n",
    "renda_região_2011=renda_região_2011.round(decimals=1)\n",
    "renda_região_2011"
   ]
  },
  {
   "cell_type": "code",
   "execution_count": 48,
   "metadata": {},
   "outputs": [
    {
     "data": {
      "text/plain": [
       "Text(0,0.5,'Freq.Relativa (em %)')"
      ]
     },
     "execution_count": 48,
     "metadata": {},
     "output_type": "execute_result"
    },
    {
     "data": {
      "image/png": "[encoded data removed]",
      "text/plain": [
       "<matplotlib.figure.Figure at 0x1de16e9eda0>"
      ]
     },
     "metadata": {},
     "output_type": "display_data"
    }
   ],
   "source": [
    "plot = renda_região_2011[:-1].plot(kind='bar')\n",
    "plt.ylabel('Freq.Relativa (em %)')"
   ]
  },
  {
   "cell_type": "markdown",
   "metadata": {},
   "source": [
    "# Relação entre o Uso da internet em algum local e Região"
   ]
  },
  {
   "cell_type": "code",
   "execution_count": 56,
   "metadata": {},
   "outputs": [
    {
     "data": {
      "text/html": [
       "<div>\n",
       "<style scoped>\n",
       "    .dataframe tbody tr th:only-of-type {\n",
       "        vertical-align: middle;\n",
       "    }\n",
       "\n",
       "    .dataframe tbody tr th {\n",
       "        vertical-align: top;\n",
       "    }\n",
       "\n",
       "    .dataframe thead th {\n",
       "        text-align: right;\n",
       "    }\n",
       "</style>\n",
       "<table border=\"1\" class=\"dataframe\">\n",
       "  <thead>\n",
       "    <tr style=\"text-align: right;\">\n",
       "      <th>Região</th>\n",
       "      <th>Centroeste</th>\n",
       "      <th>Nordeste</th>\n",
       "      <th>Norte</th>\n",
       "      <th>Sudeste</th>\n",
       "      <th>Sul</th>\n",
       "      <th>All</th>\n",
       "    </tr>\n",
       "    <tr>\n",
       "      <th>Uso da internet em algum local</th>\n",
       "      <th></th>\n",
       "      <th></th>\n",
       "      <th></th>\n",
       "      <th></th>\n",
       "      <th></th>\n",
       "      <th></th>\n",
       "    </tr>\n",
       "  </thead>\n",
       "  <tbody>\n",
       "    <tr>\n",
       "      <th>Não</th>\n",
       "      <td>5.5</td>\n",
       "      <td>18.6</td>\n",
       "      <td>14.1</td>\n",
       "      <td>25.0</td>\n",
       "      <td>15.2</td>\n",
       "      <td>78.4</td>\n",
       "    </tr>\n",
       "    <tr>\n",
       "      <th>Sim</th>\n",
       "      <td>1.9</td>\n",
       "      <td>4.0</td>\n",
       "      <td>1.7</td>\n",
       "      <td>9.3</td>\n",
       "      <td>4.8</td>\n",
       "      <td>21.6</td>\n",
       "    </tr>\n",
       "    <tr>\n",
       "      <th>All</th>\n",
       "      <td>7.3</td>\n",
       "      <td>22.5</td>\n",
       "      <td>15.8</td>\n",
       "      <td>34.3</td>\n",
       "      <td>20.0</td>\n",
       "      <td>100.0</td>\n",
       "    </tr>\n",
       "  </tbody>\n",
       "</table>\n",
       "</div>"
      ],
      "text/plain": [
       "Região                           Centroeste  Nordeste  Norte  Sudeste   Sul  \\\n",
       "Uso da internet em algum local                                                \n",
       "Não                                     5.5      18.6   14.1     25.0  15.2   \n",
       "Sim                                     1.9       4.0    1.7      9.3   4.8   \n",
       "All                                     7.3      22.5   15.8     34.3  20.0   \n",
       "\n",
       "Região                             All  \n",
       "Uso da internet em algum local          \n",
       "Não                               78.4  \n",
       "Sim                               21.6  \n",
       "All                              100.0  "
      ]
     },
     "execution_count": 56,
     "metadata": {},
     "output_type": "execute_result"
    }
   ],
   "source": [
    "regiaointernet_2011=pd.crosstab( dados_não_nulos_2011.Utilizou_a_Internet_em_algum_local,dados_não_nulos_2011.Regiao, margins=True, rownames=['Uso da internet em algum local '], colnames=['Região'], normalize=True)*100\n",
    "regiaointernet_2011=regiaointernet_2011.round(decimals=1)\n",
    "regiaointernet_2011"
   ]
  },
  {
   "cell_type": "code",
   "execution_count": 57,
   "metadata": {},
   "outputs": [
    {
     "data": {
      "text/plain": [
       "Text(0,0.5,'Freq.Relativa (em %)')"
      ]
     },
     "execution_count": 57,
     "metadata": {},
     "output_type": "execute_result"
    },
    {
     "data": {
      "image/png": "[encoded data removed]",
      "text/plain": [
       "<matplotlib.figure.Figure at 0x1de16e35a58>"
      ]
     },
     "metadata": {},
     "output_type": "display_data"
    }
   ],
   "source": [
    "plot = regiaointernet_2011[:-1].plot(kind='bar')\n",
    "plt.ylabel('Freq.Relativa (em %)')"
   ]
  },
  {
   "cell_type": "markdown",
   "metadata": {},
   "source": [
    "# Relação entre Tem telefone móvel celular para uso pessoal e Região"
   ]
  },
  {
   "cell_type": "code",
   "execution_count": 60,
   "metadata": {},
   "outputs": [
    {
     "data": {
      "text/html": [
       "<div>\n",
       "<style scoped>\n",
       "    .dataframe tbody tr th:only-of-type {\n",
       "        vertical-align: middle;\n",
       "    }\n",
       "\n",
       "    .dataframe tbody tr th {\n",
       "        vertical-align: top;\n",
       "    }\n",
       "\n",
       "    .dataframe thead th {\n",
       "        text-align: right;\n",
       "    }\n",
       "</style>\n",
       "<table border=\"1\" class=\"dataframe\">\n",
       "  <thead>\n",
       "    <tr style=\"text-align: right;\">\n",
       "      <th>Região</th>\n",
       "      <th>Centroeste</th>\n",
       "      <th>Nordeste</th>\n",
       "      <th>Norte</th>\n",
       "      <th>Sudeste</th>\n",
       "      <th>Sul</th>\n",
       "      <th>All</th>\n",
       "    </tr>\n",
       "    <tr>\n",
       "      <th>Tem telefone móvel celular para uso pessoal</th>\n",
       "      <th></th>\n",
       "      <th></th>\n",
       "      <th></th>\n",
       "      <th></th>\n",
       "      <th></th>\n",
       "      <th></th>\n",
       "    </tr>\n",
       "  </thead>\n",
       "  <tbody>\n",
       "    <tr>\n",
       "      <th>Não</th>\n",
       "      <td>1.5</td>\n",
       "      <td>9.1</td>\n",
       "      <td>6.8</td>\n",
       "      <td>11.0</td>\n",
       "      <td>5.6</td>\n",
       "      <td>34.0</td>\n",
       "    </tr>\n",
       "    <tr>\n",
       "      <th>Sim</th>\n",
       "      <td>5.8</td>\n",
       "      <td>13.4</td>\n",
       "      <td>9.0</td>\n",
       "      <td>23.3</td>\n",
       "      <td>14.5</td>\n",
       "      <td>66.0</td>\n",
       "    </tr>\n",
       "    <tr>\n",
       "      <th>All</th>\n",
       "      <td>7.3</td>\n",
       "      <td>22.5</td>\n",
       "      <td>15.8</td>\n",
       "      <td>34.3</td>\n",
       "      <td>20.0</td>\n",
       "      <td>100.0</td>\n",
       "    </tr>\n",
       "  </tbody>\n",
       "</table>\n",
       "</div>"
      ],
      "text/plain": [
       "Região                                         Centroeste  Nordeste  Norte  \\\n",
       " Tem telefone móvel celular para uso pessoal                                 \n",
       "Não                                                   1.5       9.1    6.8   \n",
       "Sim                                                   5.8      13.4    9.0   \n",
       "All                                                   7.3      22.5   15.8   \n",
       "\n",
       "Região                                         Sudeste   Sul    All  \n",
       " Tem telefone móvel celular para uso pessoal                         \n",
       "Não                                               11.0   5.6   34.0  \n",
       "Sim                                               23.3  14.5   66.0  \n",
       "All                                               34.3  20.0  100.0  "
      ]
     },
     "execution_count": 60,
     "metadata": {},
     "output_type": "execute_result"
    }
   ],
   "source": [
    "regiao_Tem_telefone_móvel_celular_para_uso_pessoal_2011=pd.crosstab( dados_não_nulos_2011.Tem_telefone_móvel_celular_para_uso_pessoal,dados_não_nulos_2011.Regiao, margins=True, rownames=[' Tem telefone móvel celular para uso pessoal '], colnames=['Região'], normalize=True)*100\n",
    "regiao_Tem_telefone_móvel_celular_para_uso_pessoal_2011=regiao_Tem_telefone_móvel_celular_para_uso_pessoal_2011.round(decimals=1)\n",
    "regiao_Tem_telefone_móvel_celular_para_uso_pessoal_2011"
   ]
  },
  {
   "cell_type": "code",
   "execution_count": 61,
   "metadata": {},
   "outputs": [
    {
     "data": {
      "text/plain": [
       "Text(0,0.5,'Freq.Relativa (em %)')"
      ]
     },
     "execution_count": 61,
     "metadata": {},
     "output_type": "execute_result"
    },
    {
     "data": {
      "image/png": "[encoded data removed]",
      "text/plain": [
       "<matplotlib.figure.Figure at 0x1de15300d30>"
      ]
     },
     "metadata": {},
     "output_type": "display_data"
    }
   ],
   "source": [
    "plot = regiao_Tem_telefone_móvel_celular_para_uso_pessoal_2011[:-1].plot(kind='bar')\n",
    "plt.ylabel('Freq.Relativa (em %)')"
   ]
  },
  {
   "cell_type": "markdown",
   "metadata": {},
   "source": [
    "# Relação entre Região (UF) e Código de Situação Censitária"
   ]
  },
  {
   "cell_type": "code",
   "execution_count": 64,
   "metadata": {},
   "outputs": [
    {
     "data": {
      "text/html": [
       "<div>\n",
       "<style scoped>\n",
       "    .dataframe tbody tr th:only-of-type {\n",
       "        vertical-align: middle;\n",
       "    }\n",
       "\n",
       "    .dataframe tbody tr th {\n",
       "        vertical-align: top;\n",
       "    }\n",
       "\n",
       "    .dataframe thead th {\n",
       "        text-align: right;\n",
       "    }\n",
       "</style>\n",
       "<table border=\"1\" class=\"dataframe\">\n",
       "  <thead>\n",
       "    <tr style=\"text-align: right;\">\n",
       "      <th></th>\n",
       "      <th>Condição_domiciliar</th>\n",
       "      <th>Utilizou_a_Internet_em_algum_local</th>\n",
       "      <th>Tem_telefone_móvel_celular_para_uso_pessoal</th>\n",
       "      <th>Condição_Censitária</th>\n",
       "      <th>Renda</th>\n",
       "      <th>Idade</th>\n",
       "      <th>UF</th>\n",
       "      <th>Regiao</th>\n",
       "      <th>RegiãoCondiçãoCensitária</th>\n",
       "    </tr>\n",
       "  </thead>\n",
       "  <tbody>\n",
       "    <tr>\n",
       "      <th>26</th>\n",
       "      <td>Pessoa de referência</td>\n",
       "      <td>Não</td>\n",
       "      <td>Sim</td>\n",
       "      <td>URBANA - Cidade ou vila, área urbanizada</td>\n",
       "      <td>1000.0</td>\n",
       "      <td>60</td>\n",
       "      <td>Rondônia</td>\n",
       "      <td>Norte</td>\n",
       "      <td>Urbana</td>\n",
       "    </tr>\n",
       "    <tr>\n",
       "      <th>167</th>\n",
       "      <td>Pessoa de referência</td>\n",
       "      <td>Não</td>\n",
       "      <td>Não</td>\n",
       "      <td>URBANA - Cidade ou vila, área urbanizada</td>\n",
       "      <td>3000.0</td>\n",
       "      <td>63</td>\n",
       "      <td>Rondônia</td>\n",
       "      <td>Norte</td>\n",
       "      <td>Urbana</td>\n",
       "    </tr>\n",
       "    <tr>\n",
       "      <th>240</th>\n",
       "      <td>Pessoa de referência</td>\n",
       "      <td>Não</td>\n",
       "      <td>Sim</td>\n",
       "      <td>URBANA - Cidade ou vila, área urbanizada</td>\n",
       "      <td>1000.0</td>\n",
       "      <td>65</td>\n",
       "      <td>Rondônia</td>\n",
       "      <td>Norte</td>\n",
       "      <td>Urbana</td>\n",
       "    </tr>\n",
       "    <tr>\n",
       "      <th>353</th>\n",
       "      <td>Pessoa de referência</td>\n",
       "      <td>Não</td>\n",
       "      <td>Não</td>\n",
       "      <td>RURAL - Zona rural exclusive aglomerado rural</td>\n",
       "      <td>2500.0</td>\n",
       "      <td>60</td>\n",
       "      <td>Rondônia</td>\n",
       "      <td>Norte</td>\n",
       "      <td>Rural</td>\n",
       "    </tr>\n",
       "    <tr>\n",
       "      <th>354</th>\n",
       "      <td>Pessoa de referência</td>\n",
       "      <td>Não</td>\n",
       "      <td>Não</td>\n",
       "      <td>RURAL - Zona rural exclusive aglomerado rural</td>\n",
       "      <td>4000.0</td>\n",
       "      <td>73</td>\n",
       "      <td>Rondônia</td>\n",
       "      <td>Norte</td>\n",
       "      <td>Rural</td>\n",
       "    </tr>\n",
       "  </tbody>\n",
       "</table>\n",
       "</div>"
      ],
      "text/plain": [
       "      Condição_domiciliar Utilizou_a_Internet_em_algum_local  \\\n",
       "26   Pessoa de referência                                Não   \n",
       "167  Pessoa de referência                                Não   \n",
       "240  Pessoa de referência                                Não   \n",
       "353  Pessoa de referência                                Não   \n",
       "354  Pessoa de referência                                Não   \n",
       "\n",
       "    Tem_telefone_móvel_celular_para_uso_pessoal  \\\n",
       "26                                          Sim   \n",
       "167                                         Não   \n",
       "240                                         Sim   \n",
       "353                                         Não   \n",
       "354                                         Não   \n",
       "\n",
       "                               Condição_Censitária   Renda  Idade        UF  \\\n",
       "26        URBANA - Cidade ou vila, área urbanizada  1000.0     60  Rondônia   \n",
       "167       URBANA - Cidade ou vila, área urbanizada  3000.0     63  Rondônia   \n",
       "240       URBANA - Cidade ou vila, área urbanizada  1000.0     65  Rondônia   \n",
       "353  RURAL - Zona rural exclusive aglomerado rural  2500.0     60  Rondônia   \n",
       "354  RURAL - Zona rural exclusive aglomerado rural  4000.0     73  Rondônia   \n",
       "\n",
       "    Regiao RegiãoCondiçãoCensitária  \n",
       "26   Norte                   Urbana  \n",
       "167  Norte                   Urbana  \n",
       "240  Norte                   Urbana  \n",
       "353  Norte                    Rural  \n",
       "354  Norte                    Rural  "
      ]
     },
     "execution_count": 64,
     "metadata": {},
     "output_type": "execute_result"
    }
   ],
   "source": [
    "dados_não_nulos_2011.loc[(dados_não_nulos_2011.UF=='Norte') | (dados_não_nulos_2011.Condição_Censitária==\"URBANA - Cidade ou vila, área urbanizada\"), 'RegiãoCondiçãoCensitária'] = 'Urbana'\n",
    "dados_não_nulos_2011.loc[(dados_não_nulos_2011.UF=='Nordeste') | (dados_não_nulos_2011.Condição_Censitária==\"URBANA - Cidade ou vila, área urbanizada\"), 'RegiãoCondiçãoCensitária'] = 'Urbana'\n",
    "dados_não_nulos_2011.loc[(dados_não_nulos_2011.UF=='Sul') | (dados_não_nulos_2011.Condição_Censitária==\"URBANA - Cidade ou vila, área urbanizada\"), 'RegiãoCondiçãoCensitária'] = 'Urbana'\n",
    "dados_não_nulos_2011.loc[(dados_não_nulos_2011.UF=='Sudeste') | (dados_não_nulos_2011.Condição_Censitária==\"URBANA - Cidade ou vila, área urbanizada\"), 'RegiãoCondiçãoCensitária'] = 'Urbana'\n",
    "dados_não_nulos_2011.loc[(dados_não_nulos_2011.UF=='Centroeste') | (dados_não_nulos_2011.Condição_Censitária==\"URBANA - Cidade ou vila, área urbanizada\"), 'RegiãoCondiçãoCensitária'] = 'Urbana'\n",
    "\n",
    "\n",
    "dados_não_nulos_2011.loc[(dados_não_nulos_2011.UF=='Norte') | (dados_não_nulos_2011.Condição_Censitária==\"URBANA - Cidade ou vila, área não urbanizada\"), 'RegiãoCondiçãoCensitária'] = 'Urbana'\n",
    "dados_não_nulos_2011.loc[(dados_não_nulos_2011.UF=='Nordeste') | (dados_não_nulos_2011.Condição_Censitária==\"URBANA - Cidade ou vila, área não urbanizada\"), 'RegiãoCondiçãoCensitária'] = 'Urbana'\n",
    "dados_não_nulos_2011.loc[(dados_não_nulos_2011.UF=='Sul') | (dados_não_nulos_2011.Condição_Censitária==\"URBANA - Cidade ou vila, área não urbanizada\"), 'RegiãoCondiçãoCensitária'] = 'Urbana'\n",
    "dados_não_nulos_2011.loc[(dados_não_nulos_2011.UF=='Sudeste') | (dados_não_nulos_2011.Condição_Censitária==\"URBANA - Cidade ou vila, área não urbanizada\"), 'RegiãoCondiçãoCensitária'] = 'Urbana'\n",
    "dados_não_nulos_2011.loc[(dados_não_nulos_2011.UF=='Centroeste') | (dados_não_nulos_2011.Condição_Censitária==\"URBANA - Cidade ou vila, área não urbanizada\"), 'RegiãoCondiçãoCensitária'] = 'Urbana'\n",
    "\n",
    "\n",
    "dados_não_nulos_2011.loc[(dados_não_nulos_2011.UF=='Norte') | (dados_não_nulos_2011.Condição_Censitária==\"URBANA - Área urbana isolada\"), 'RegiãoCondiçãoCensitária'] = 'Urbana'\n",
    "dados_não_nulos_2011.loc[(dados_não_nulos_2011.UF=='Nordeste') | (dados_não_nulos_2011.Condição_Censitária==\"URBANA - Área urbana isolada\"), 'RegiãoCondiçãoCensitária'] =  'Urbana'\n",
    "dados_não_nulos_2011.loc[(dados_não_nulos_2011.UF=='Sul') | (dados_não_nulos_2011.Condição_Censitária==\"URBANA - Área urbana isolada\"), 'RegiãoCondiçãoCensitária'] = 'Urbana'\n",
    "dados_não_nulos_2011.loc[(dados_não_nulos_2011.UF=='Sudeste') | (dados_não_nulos_2011.Condição_Censitária==\"URBANA - Área urbana isolada\"), 'RegiãoCondiçãoCensitária'] = 'Urbana'\n",
    "dados_não_nulos_2011.loc[(dados_não_nulos_2011.UF=='Centroeste') | (dados_não_nulos_2011.Condição_Censitária==\"URBANA - Área urbana isolada\"), 'RegiãoCondiçãoCensitária'] = 'Urbana'\n",
    "\n",
    "\n",
    "dados_não_nulos_2011.loc[(dados_não_nulos_2011.UF=='Norte') | (dados_não_nulos_2011.Condição_Censitária==\"RURAL - Aglomerado rural de extensão urbana \"), 'RegiãoCondiçãoCensitária'] = 'Rural'\n",
    "dados_não_nulos_2011.loc[(dados_não_nulos_2011.UF=='Nordeste') | (dados_não_nulos_2011.Condição_Censitária==\"RURAL - Aglomerado rural de extensão urbana \"), 'RegiãoCondiçãoCensitária'] = 'Rural'\n",
    "dados_não_nulos_2011.loc[(dados_não_nulos_2011.UF=='Sul') | (dados_não_nulos_2011.Condição_Censitária==\"RURAL - Aglomerado rural de extensão urbana \"), 'RegiãoCondiçãoCensitária'] = 'Rural'\n",
    "dados_não_nulos_2011.loc[(dados_não_nulos_2011.UF=='Sudeste') | (dados_não_nulos_2011.Condição_Censitária==\"RURAL - Aglomerado rural de extensão urbana \"), 'RegiãoCondiçãoCensitária'] = 'Rural'\n",
    "dados_não_nulos_2011.loc[(dados_não_nulos_2011.UF=='Centroeste') | (dados_não_nulos_2011.Condição_Censitária==\"RURAL - Aglomerado rural de extensão urbana \"), 'RegiãoCondiçãoCensitária'] = 'Rural'\n",
    "\n",
    "dados_não_nulos_2011.loc[(dados_não_nulos_2011.UF=='Norte') | (dados_não_nulos_2011.Condição_Censitária==\"RURAL - Aglomerado rural, isolado, povoado\"), 'RegiãoCondiçãoCensitária'] = 'Rural'\n",
    "dados_não_nulos_2011.loc[(dados_não_nulos_2011.UF=='Nordeste') | (dados_não_nulos_2011.Condição_Censitária==\"RURAL - Aglomerado rural, isolado, povoado\"), 'RegiãoCondiçãoCensitária'] = 'Rural'\n",
    "dados_não_nulos_2011.loc[(dados_não_nulos_2011.UF=='Sul') | (dados_não_nulos_2011.Condição_Censitária==\"RURAL - Aglomerado rural, isolado, povoado\"), 'RegiãoCondiçãoCensitária'] = 'Rural'\n",
    "dados_não_nulos_2011.loc[(dados_não_nulos_2011.UF=='Sudeste') | (dados_não_nulos_2011.Condição_Censitária==\"RURAL - Aglomerado rural, isolado, povoado\"), 'RegiãoCondiçãoCensitária'] = 'Rural'\n",
    "dados_não_nulos_2011.loc[(dados_não_nulos_2011.UF=='Centroeste') | (dados_não_nulos_2011.Condição_Censitária==\"RURAL - Aglomerado rural, isolado, povoado\"), 'RegiãoCondiçãoCensitária'] = 'Rural'\n",
    "\n",
    "dados_não_nulos_2011.loc[(dados_não_nulos_2011.UF=='Norte') | (dados_não_nulos_2011.Condição_Censitária==\"RURAL - Aglomerado rural, isolado, núcleo\"), 'RegiãoCondiçãoCensitária'] = 'Rural'\n",
    "dados_não_nulos_2011.loc[(dados_não_nulos_2011.UF=='Nordeste') | (dados_não_nulos_2011.Condição_Censitária==\"RURAL - Aglomerado rural, isolado, núcleo\"), 'RegiãoCondiçãoCensitária'] = 'Rural'\n",
    "dados_não_nulos_2011.loc[(dados_não_nulos_2011.UF=='Sul') | (dados_não_nulos_2011.Condição_Censitária==\"RURAL - Aglomerado rural, isolado, núcleo\"), 'RegiãoCondiçãoCensitária'] = 'Rural'\n",
    "dados_não_nulos_2011.loc[(dados_não_nulos_2011.UF=='Sudeste') | (dados_não_nulos_2011.Condição_Censitária==\"RURAL - Aglomerado rural, isolado, núcleo\"), 'RegiãoCondiçãoCensitária'] = 'Rural'\n",
    "dados_não_nulos_2011.loc[(dados_não_nulos_2011.UF=='Centroeste') | (dados_não_nulos_2011.Condição_Censitária==\"RURAL - Aglomerado rural, isolado, núcleo\"), 'RegiãoCondiçãoCensitária'] = 'Rural'\n",
    "\n",
    "dados_não_nulos_2011.loc[(dados_não_nulos_2011.UF=='Norte') | (dados_não_nulos_2011.Condição_Censitária==\"RURAL- Aglomerado rural, isolado, outros aglomerados\"), 'RegiãoCondiçãoCensitária'] = 'Rural'\n",
    "dados_não_nulos_2011.loc[(dados_não_nulos_2011.UF=='Nordeste') | (dados_não_nulos_2011.Condição_Censitária==\"RURAL- Aglomerado rural, isolado', outros aglomerados\"), 'RegiãoCondiçãoCensitária'] = 'Rural'\n",
    "dados_não_nulos_2011.loc[(dados_não_nulos_2011.UF=='Sul') | (dados_não_nulos_2011.Condição_Censitária==\"RURAL- Aglomerado rural, isolado, outros aglomerados\"), 'RegiãoCondiçãoCensitária'] = 'Rural'\n",
    "dados_não_nulos_2011.loc[(dados_não_nulos_2011.UF=='Sudeste') | (dados_não_nulos_2011.Condição_Censitária==\"RURAL- Aglomerado rural, isolado, outros aglomerados\"), 'RegiãoCondiçãoCensitária'] = 'Rural'\n",
    "dados_não_nulos_2011.loc[(dados_não_nulos_2011.UF=='Centroeste') | (dados_não_nulos_2011.Condição_Censitária==\"RURAL- Aglomerado rural, isolado, outros aglomerados\"), 'RegiãoCondiçãoCensitária'] = 'Rural'\n",
    "\n",
    "dados_não_nulos_2011.loc[(dados_não_nulos_2011.UF=='Norte') | (dados_não_nulos_2011.Condição_Censitária==\"RURAL - Zona rural exclusive aglomerado rural\"), 'RegiãoCondiçãoCensitária'] = 'Rural'\n",
    "dados_não_nulos_2011.loc[(dados_não_nulos_2011.UF=='Nordeste') | (dados_não_nulos_2011.Condição_Censitária==\"RURAL - Zona rural exclusive aglomerado rural\"), 'RegiãoCondiçãoCensitária'] = 'Rural'\n",
    "dados_não_nulos_2011.loc[(dados_não_nulos_2011.UF=='Sul') | (dados_não_nulos_2011.Condição_Censitária==\"RURAL - Zona rural exclusive aglomerado rural\"), 'RegiãoCondiçãoCensitária'] = 'Rural'\n",
    "dados_não_nulos_2011.loc[(dados_não_nulos_2011.UF=='Sudeste') | (dados_não_nulos_2011.Condição_Censitária==\"RURAL - Zona rural exclusive aglomerado rural\"), 'RegiãoCondiçãoCensitária'] = 'Rural'\n",
    "dados_não_nulos_2011.loc[(dados_não_nulos_2011.UF=='Centroeste') | (dados_não_nulos_2011.Condição_Censitária==\"RURAL - Zona rural exclusive aglomerado rural\"), 'RegiãoCondiçãoCensitária'] = 'Rural'\n",
    "\n",
    "dados_não_nulos_2011.head()"
   ]
  },
  {
   "cell_type": "markdown",
   "metadata": {},
   "source": [
    "# Relação entre o Código de Situação Censitária e a Região"
   ]
  },
  {
   "cell_type": "code",
   "execution_count": 65,
   "metadata": {},
   "outputs": [
    {
     "data": {
      "text/plain": [
       "Text(0.5,1,'Relação do Código de Situação Censitária e Região')"
      ]
     },
     "execution_count": 65,
     "metadata": {},
     "output_type": "execute_result"
    },
    {
     "data": {
      "image/png": "[encoded data removed]",
      "text/plain": [
       "<matplotlib.figure.Figure at 0x1de14cc6a58>"
      ]
     },
     "metadata": {},
     "output_type": "display_data"
    }
   ],
   "source": [
    "situ_região_2011=pd.crosstab(dados_não_nulos_2011.Regiao,dados_não_nulos_2011.RegiãoCondiçãoCensitária,rownames=['Região'],colnames=['Código de Situação Censitária'])\n",
    "plot=situ_região_2011.plot(kind='bar',figsize=(5,5),legend=True)\n",
    "plt.title('Relação do Código de Situação Censitária e Região')"
   ]
  },
  {
   "cell_type": "markdown",
   "metadata": {},
   "source": [
    "# Relação entre Condição Censitária e Renda"
   ]
  },
  {
   "cell_type": "code",
   "execution_count": 67,
   "metadata": {},
   "outputs": [
    {
     "data": {
      "text/html": [
       "<div>\n",
       "<style scoped>\n",
       "    .dataframe tbody tr th:only-of-type {\n",
       "        vertical-align: middle;\n",
       "    }\n",
       "\n",
       "    .dataframe tbody tr th {\n",
       "        vertical-align: top;\n",
       "    }\n",
       "\n",
       "    .dataframe thead th {\n",
       "        text-align: right;\n",
       "    }\n",
       "</style>\n",
       "<table border=\"1\" class=\"dataframe\">\n",
       "  <thead>\n",
       "    <tr style=\"text-align: right;\">\n",
       "      <th>Região</th>\n",
       "      <th>Rural</th>\n",
       "      <th>Urbana</th>\n",
       "      <th>All</th>\n",
       "    </tr>\n",
       "    <tr>\n",
       "      <th>Renda</th>\n",
       "      <th></th>\n",
       "      <th></th>\n",
       "      <th></th>\n",
       "    </tr>\n",
       "  </thead>\n",
       "  <tbody>\n",
       "    <tr>\n",
       "      <th>[0.0, 234.25)</th>\n",
       "      <td>6.2</td>\n",
       "      <td>8.5</td>\n",
       "      <td>14.7</td>\n",
       "    </tr>\n",
       "    <tr>\n",
       "      <th>[234.25, 468.5)</th>\n",
       "      <td>4.9</td>\n",
       "      <td>9.2</td>\n",
       "      <td>14.1</td>\n",
       "    </tr>\n",
       "    <tr>\n",
       "      <th>[468.5, 937.0)</th>\n",
       "      <td>8.0</td>\n",
       "      <td>30.1</td>\n",
       "      <td>38.1</td>\n",
       "    </tr>\n",
       "    <tr>\n",
       "      <th>[937.0, 1874.0)</th>\n",
       "      <td>3.4</td>\n",
       "      <td>20.8</td>\n",
       "      <td>24.2</td>\n",
       "    </tr>\n",
       "    <tr>\n",
       "      <th>[1874.0, 2771.5)</th>\n",
       "      <td>1.2</td>\n",
       "      <td>7.7</td>\n",
       "      <td>8.9</td>\n",
       "    </tr>\n",
       "    <tr>\n",
       "      <th>All</th>\n",
       "      <td>23.6</td>\n",
       "      <td>76.4</td>\n",
       "      <td>100.0</td>\n",
       "    </tr>\n",
       "  </tbody>\n",
       "</table>\n",
       "</div>"
      ],
      "text/plain": [
       "Região            Rural  Urbana    All\n",
       "Renda                                 \n",
       "[0.0, 234.25)       6.2     8.5   14.7\n",
       "[234.25, 468.5)     4.9     9.2   14.1\n",
       "[468.5, 937.0)      8.0    30.1   38.1\n",
       "[937.0, 1874.0)     3.4    20.8   24.2\n",
       "[1874.0, 2771.5)    1.2     7.7    8.9\n",
       "All                23.6    76.4  100.0"
      ]
     },
     "execution_count": 67,
     "metadata": {},
     "output_type": "execute_result"
    }
   ],
   "source": [
    "renda_região_2011=pd.crosstab( rendarelativa_2011, dados_não_nulos_2011.RegiãoCondiçãoCensitária, margins=True, rownames=['Renda'], colnames=['Região'], normalize=True)*100\n",
    "renda_região_2011=renda_região_2011.round(decimals=1)\n",
    "renda_região_2011"
   ]
  },
  {
   "cell_type": "code",
   "execution_count": 68,
   "metadata": {},
   "outputs": [
    {
     "data": {
      "text/plain": [
       "Text(0,0.5,'Freq.Relativa (em %)')"
      ]
     },
     "execution_count": 68,
     "metadata": {},
     "output_type": "execute_result"
    },
    {
     "data": {
      "image/png": "[encoded data removed]",
      "text/plain": [
       "<matplotlib.figure.Figure at 0x1de14cddef0>"
      ]
     },
     "metadata": {},
     "output_type": "display_data"
    }
   ],
   "source": [
    "plot = renda_região_2011[:-1].plot(kind='bar')\n",
    "plt.ylabel('Freq.Relativa (em %)')"
   ]
  },
  {
   "cell_type": "markdown",
   "metadata": {},
   "source": [
    "___\n",
    "## Conclusão "
   ]
  },
  {
   "cell_type": "markdown",
   "metadata": {
    "collapsed": true
   },
   "source": [
    "Descreva aqui suas conclusões!"
   ]
  },
  {
   "cell_type": "code",
   "execution_count": null,
   "metadata": {},
   "outputs": [],
   "source": []
  },
  {
   "cell_type": "code",
   "execution_count": null,
   "metadata": {},
   "outputs": [],
   "source": []
  },
  {
   "cell_type": "code",
   "execution_count": null,
   "metadata": {},
   "outputs": [],
   "source": []
  }
 ],
 "metadata": {
  "anaconda-cloud": {},
  "kernelspec": {
   "display_name": "Python 3",
   "language": "python",
   "name": "python3"
  },
  "language_info": {
   "codemirror_mode": {
    "name": "ipython",
    "version": 3
   },
   "file_extension": ".py",
   "mimetype": "text/x-python",
   "name": "python",
   "nbconvert_exporter": "python",
   "pygments_lexer": "ipython3",
   "version": "3.6.4"
  }
 },
 "nbformat": 4,
 "nbformat_minor": 1
}
