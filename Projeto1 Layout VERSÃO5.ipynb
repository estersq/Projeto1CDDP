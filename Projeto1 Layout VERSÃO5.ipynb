{
 "cells": [
  {
   "cell_type": "markdown",
   "metadata": {},
   "source": [
    "___\n",
    "# Ciência dos Dados - PROJETO 1"
   ]
  },
  {
   "cell_type": "markdown",
   "metadata": {},
   "source": [
    "## Ester dos Santos Quintino\n",
    "___"
   ]
  },
  {
   "cell_type": "markdown",
   "metadata": {},
   "source": [
    "## Evolução na utilização de tecnologia por idosos\n",
    "Relação entre o uso de tecnologia para acesso à internet, de idosos ao longo do tempo"
   ]
  },
  {
   "cell_type": "markdown",
   "metadata": {},
   "source": [
    "___\n",
    "## Introdução\n",
    "\n",
    "Descreva aqui o que pretende analisar!\n",
    "\n",
    "Capriche no português!! \n",
    "Se quiser pode utilizar pesquisas semelhantes publicadas em sites confiáveis!!\n"
   ]
  },
  {
   "cell_type": "markdown",
   "metadata": {},
   "source": [
    "___\n",
    "## Filtros da base de dados"
   ]
  },
  {
   "cell_type": "code",
   "execution_count": 1,
   "metadata": {},
   "outputs": [],
   "source": [
    "%matplotlib inline\n",
    "import pandas as pd\n",
    "import matplotlib.pyplot as plt\n",
    "import numpy as np\n",
    "import os"
   ]
  },
  {
   "cell_type": "code",
   "execution_count": 2,
   "metadata": {},
   "outputs": [
    {
     "name": "stdout",
     "output_type": "stream",
     "text": [
      "Esperamos trabalhar no diretório\n",
      "C:\\Users\\Ester Quintino\\Desktop\\Projeto1CDDP\n"
     ]
    }
   ],
   "source": [
    "print('Esperamos trabalhar no diretório')\n",
    "print(os.getcwd())"
   ]
  },
  {
   "cell_type": "code",
   "execution_count": 3,
   "metadata": {},
   "outputs": [],
   "source": [
    "#Se usar o arquivo descompactado\n",
    "#pd.read_csv('PES2015.csv',sep=',')\n",
    "\n",
    "#Se usar o arquivo compactado como está no dropbox púbico\n",
    "#pd.read_csv('PES2015csv.zip', compression='zip', header=0, sep=',', quotechar='\"')"
   ]
  },
  {
   "cell_type": "markdown",
   "metadata": {
    "collapsed": true
   },
   "source": [
    "# lendo a PNAD"
   ]
  },
  {
   "cell_type": "code",
   "execution_count": 4,
   "metadata": {},
   "outputs": [],
   "source": [
    "dados=pd.read_csv('PES2015csv.zip', compression='zip', header=0, sep=',', quotechar='\"')\n",
    "#dados.head()"
   ]
  },
  {
   "cell_type": "code",
   "execution_count": 5,
   "metadata": {},
   "outputs": [
    {
     "data": {
      "text/html": [
       "<div>\n",
       "<style scoped>\n",
       "    .dataframe tbody tr th:only-of-type {\n",
       "        vertical-align: middle;\n",
       "    }\n",
       "\n",
       "    .dataframe tbody tr th {\n",
       "        vertical-align: top;\n",
       "    }\n",
       "\n",
       "    .dataframe thead th {\n",
       "        text-align: right;\n",
       "    }\n",
       "</style>\n",
       "<table border=\"1\" class=\"dataframe\">\n",
       "  <thead>\n",
       "    <tr style=\"text-align: right;\">\n",
       "      <th></th>\n",
       "      <th>V0401</th>\n",
       "      <th>V061112</th>\n",
       "      <th>V061113</th>\n",
       "      <th>V061114</th>\n",
       "      <th>V4728</th>\n",
       "      <th>V9532</th>\n",
       "      <th>V8005</th>\n",
       "      <th>UF</th>\n",
       "    </tr>\n",
       "  </thead>\n",
       "  <tbody>\n",
       "    <tr>\n",
       "      <th>0</th>\n",
       "      <td>1</td>\n",
       "      <td>2.0</td>\n",
       "      <td>1.0</td>\n",
       "      <td>2.0</td>\n",
       "      <td>1</td>\n",
       "      <td>800.0</td>\n",
       "      <td>23</td>\n",
       "      <td>11</td>\n",
       "    </tr>\n",
       "    <tr>\n",
       "      <th>1</th>\n",
       "      <td>1</td>\n",
       "      <td>1.0</td>\n",
       "      <td>1.0</td>\n",
       "      <td>2.0</td>\n",
       "      <td>1</td>\n",
       "      <td>1150.0</td>\n",
       "      <td>23</td>\n",
       "      <td>11</td>\n",
       "    </tr>\n",
       "    <tr>\n",
       "      <th>2</th>\n",
       "      <td>1</td>\n",
       "      <td>1.0</td>\n",
       "      <td>1.0</td>\n",
       "      <td>2.0</td>\n",
       "      <td>1</td>\n",
       "      <td>880.0</td>\n",
       "      <td>35</td>\n",
       "      <td>11</td>\n",
       "    </tr>\n",
       "    <tr>\n",
       "      <th>3</th>\n",
       "      <td>2</td>\n",
       "      <td>1.0</td>\n",
       "      <td>1.0</td>\n",
       "      <td>2.0</td>\n",
       "      <td>1</td>\n",
       "      <td>3000.0</td>\n",
       "      <td>34</td>\n",
       "      <td>11</td>\n",
       "    </tr>\n",
       "    <tr>\n",
       "      <th>4</th>\n",
       "      <td>3</td>\n",
       "      <td>1.0</td>\n",
       "      <td>2.0</td>\n",
       "      <td>2.0</td>\n",
       "      <td>1</td>\n",
       "      <td>NaN</td>\n",
       "      <td>11</td>\n",
       "      <td>11</td>\n",
       "    </tr>\n",
       "  </tbody>\n",
       "</table>\n",
       "</div>"
      ],
      "text/plain": [
       "   V0401  V061112  V061113  V061114  V4728   V9532  V8005  UF\n",
       "0      1      2.0      1.0      2.0      1   800.0     23  11\n",
       "1      1      1.0      1.0      2.0      1  1150.0     23  11\n",
       "2      1      1.0      1.0      2.0      1   880.0     35  11\n",
       "3      2      1.0      1.0      2.0      1  3000.0     34  11\n",
       "4      3      1.0      2.0      2.0      1     NaN     11  11"
      ]
     },
     "execution_count": 5,
     "metadata": {},
     "output_type": "execute_result"
    }
   ],
   "source": [
    "dados_resumidos=dados.loc[:,[\"V0401\",\"V061112\",\"V061113\",\"V061114\",\"V4728\",\"V9532\",\"V8005\",\"UF\"]]#.dropna(axis=0)\n",
    "dados_resumidos.head()"
   ]
  },
  {
   "cell_type": "code",
   "execution_count": 6,
   "metadata": {},
   "outputs": [
    {
     "data": {
      "text/html": [
       "<div>\n",
       "<style scoped>\n",
       "    .dataframe tbody tr th:only-of-type {\n",
       "        vertical-align: middle;\n",
       "    }\n",
       "\n",
       "    .dataframe tbody tr th {\n",
       "        vertical-align: top;\n",
       "    }\n",
       "\n",
       "    .dataframe thead th {\n",
       "        text-align: right;\n",
       "    }\n",
       "</style>\n",
       "<table border=\"1\" class=\"dataframe\">\n",
       "  <thead>\n",
       "    <tr style=\"text-align: right;\">\n",
       "      <th></th>\n",
       "      <th>V0401</th>\n",
       "      <th>V061112</th>\n",
       "      <th>V061113</th>\n",
       "      <th>V061114</th>\n",
       "      <th>V4728</th>\n",
       "      <th>V9532</th>\n",
       "      <th>V8005</th>\n",
       "      <th>UF</th>\n",
       "    </tr>\n",
       "  </thead>\n",
       "  <tbody>\n",
       "    <tr>\n",
       "      <th>0</th>\n",
       "      <td>1</td>\n",
       "      <td>2.0</td>\n",
       "      <td>1.0</td>\n",
       "      <td>2.0</td>\n",
       "      <td>1</td>\n",
       "      <td>800.0</td>\n",
       "      <td>23</td>\n",
       "      <td>11</td>\n",
       "    </tr>\n",
       "    <tr>\n",
       "      <th>1</th>\n",
       "      <td>1</td>\n",
       "      <td>1.0</td>\n",
       "      <td>1.0</td>\n",
       "      <td>2.0</td>\n",
       "      <td>1</td>\n",
       "      <td>1150.0</td>\n",
       "      <td>23</td>\n",
       "      <td>11</td>\n",
       "    </tr>\n",
       "    <tr>\n",
       "      <th>2</th>\n",
       "      <td>1</td>\n",
       "      <td>1.0</td>\n",
       "      <td>1.0</td>\n",
       "      <td>2.0</td>\n",
       "      <td>1</td>\n",
       "      <td>880.0</td>\n",
       "      <td>35</td>\n",
       "      <td>11</td>\n",
       "    </tr>\n",
       "    <tr>\n",
       "      <th>3</th>\n",
       "      <td>2</td>\n",
       "      <td>1.0</td>\n",
       "      <td>1.0</td>\n",
       "      <td>2.0</td>\n",
       "      <td>1</td>\n",
       "      <td>3000.0</td>\n",
       "      <td>34</td>\n",
       "      <td>11</td>\n",
       "    </tr>\n",
       "    <tr>\n",
       "      <th>4</th>\n",
       "      <td>3</td>\n",
       "      <td>1.0</td>\n",
       "      <td>2.0</td>\n",
       "      <td>2.0</td>\n",
       "      <td>1</td>\n",
       "      <td>NaN</td>\n",
       "      <td>11</td>\n",
       "      <td>11</td>\n",
       "    </tr>\n",
       "  </tbody>\n",
       "</table>\n",
       "</div>"
      ],
      "text/plain": [
       "   V0401  V061112  V061113  V061114  V4728   V9532  V8005  UF\n",
       "0      1      2.0      1.0      2.0      1   800.0     23  11\n",
       "1      1      1.0      1.0      2.0      1  1150.0     23  11\n",
       "2      1      1.0      1.0      2.0      1   880.0     35  11\n",
       "3      2      1.0      1.0      2.0      1  3000.0     34  11\n",
       "4      3      1.0      2.0      2.0      1     NaN     11  11"
      ]
     },
     "execution_count": 6,
     "metadata": {},
     "output_type": "execute_result"
    }
   ],
   "source": [
    "dados_não_nulos = dados_resumidos\n",
    "#dados_não_nulos=dados_não_nulos.fillna(0)\n",
    "dados_não_nulos.head()"
   ]
  },
  {
   "cell_type": "markdown",
   "metadata": {},
   "source": [
    "# Renomeando Linhas e Colunas"
   ]
  },
  {
   "cell_type": "code",
   "execution_count": 7,
   "metadata": {},
   "outputs": [
    {
     "data": {
      "text/html": [
       "<div>\n",
       "<style scoped>\n",
       "    .dataframe tbody tr th:only-of-type {\n",
       "        vertical-align: middle;\n",
       "    }\n",
       "\n",
       "    .dataframe tbody tr th {\n",
       "        vertical-align: top;\n",
       "    }\n",
       "\n",
       "    .dataframe thead th {\n",
       "        text-align: right;\n",
       "    }\n",
       "</style>\n",
       "<table border=\"1\" class=\"dataframe\">\n",
       "  <thead>\n",
       "    <tr style=\"text-align: right;\">\n",
       "      <th></th>\n",
       "      <th>V0401</th>\n",
       "      <th>V061112</th>\n",
       "      <th>V061113</th>\n",
       "      <th>V061114</th>\n",
       "      <th>V4728</th>\n",
       "      <th>V9532</th>\n",
       "      <th>V8005</th>\n",
       "      <th>UF</th>\n",
       "      <th>Regiao</th>\n",
       "    </tr>\n",
       "  </thead>\n",
       "  <tbody>\n",
       "    <tr>\n",
       "      <th>0</th>\n",
       "      <td>1</td>\n",
       "      <td>2.0</td>\n",
       "      <td>1.0</td>\n",
       "      <td>2.0</td>\n",
       "      <td>URBANA - Cidade ou vila, área urbanizada</td>\n",
       "      <td>800.0</td>\n",
       "      <td>23</td>\n",
       "      <td>Rondônia</td>\n",
       "      <td>Norte</td>\n",
       "    </tr>\n",
       "    <tr>\n",
       "      <th>1</th>\n",
       "      <td>1</td>\n",
       "      <td>1.0</td>\n",
       "      <td>1.0</td>\n",
       "      <td>2.0</td>\n",
       "      <td>URBANA - Cidade ou vila, área urbanizada</td>\n",
       "      <td>1150.0</td>\n",
       "      <td>23</td>\n",
       "      <td>Rondônia</td>\n",
       "      <td>Norte</td>\n",
       "    </tr>\n",
       "    <tr>\n",
       "      <th>2</th>\n",
       "      <td>1</td>\n",
       "      <td>1.0</td>\n",
       "      <td>1.0</td>\n",
       "      <td>2.0</td>\n",
       "      <td>URBANA - Cidade ou vila, área urbanizada</td>\n",
       "      <td>880.0</td>\n",
       "      <td>35</td>\n",
       "      <td>Rondônia</td>\n",
       "      <td>Norte</td>\n",
       "    </tr>\n",
       "    <tr>\n",
       "      <th>3</th>\n",
       "      <td>2</td>\n",
       "      <td>1.0</td>\n",
       "      <td>1.0</td>\n",
       "      <td>2.0</td>\n",
       "      <td>URBANA - Cidade ou vila, área urbanizada</td>\n",
       "      <td>3000.0</td>\n",
       "      <td>34</td>\n",
       "      <td>Rondônia</td>\n",
       "      <td>Norte</td>\n",
       "    </tr>\n",
       "    <tr>\n",
       "      <th>4</th>\n",
       "      <td>3</td>\n",
       "      <td>1.0</td>\n",
       "      <td>2.0</td>\n",
       "      <td>2.0</td>\n",
       "      <td>URBANA - Cidade ou vila, área urbanizada</td>\n",
       "      <td>NaN</td>\n",
       "      <td>11</td>\n",
       "      <td>Rondônia</td>\n",
       "      <td>Norte</td>\n",
       "    </tr>\n",
       "  </tbody>\n",
       "</table>\n",
       "</div>"
      ],
      "text/plain": [
       "   V0401  V061112  V061113  V061114                                     V4728  \\\n",
       "0      1      2.0      1.0      2.0  URBANA - Cidade ou vila, área urbanizada   \n",
       "1      1      1.0      1.0      2.0  URBANA - Cidade ou vila, área urbanizada   \n",
       "2      1      1.0      1.0      2.0  URBANA - Cidade ou vila, área urbanizada   \n",
       "3      2      1.0      1.0      2.0  URBANA - Cidade ou vila, área urbanizada   \n",
       "4      3      1.0      2.0      2.0  URBANA - Cidade ou vila, área urbanizada   \n",
       "\n",
       "    V9532  V8005        UF Regiao  \n",
       "0   800.0     23  Rondônia  Norte  \n",
       "1  1150.0     23  Rondônia  Norte  \n",
       "2   880.0     35  Rondônia  Norte  \n",
       "3  3000.0     34  Rondônia  Norte  \n",
       "4     NaN     11  Rondônia  Norte  "
      ]
     },
     "execution_count": 7,
     "metadata": {},
     "output_type": "execute_result"
    }
   ],
   "source": [
    "dados_não_nulos.UF=dados.UF.astype('category')\n",
    "dados_não_nulos.UF.cat.categories=([\"Rondônia\",\"Acre\",\"Amazonas\",\"Roraima\",\"Pará\",\"Amapá\",\"Tocantins\",\"Maranhão\",\"Piauí\",\"Ceará\",\"Rio Grande do Norte\",\"Paraíba\",\"Pernambuco\",\"Alagoas\",\"Sergipe\",\"Bahia\",\"Minas Gerais\",\"Espírito Santo\",\"Rio de Janeiro\",\"São Paulo\",\"Paraná\",\"Santa Catarina\",\"Rio Grande do Sul\",\"Mato Grosso do Sul\",\"Mato Grosso\",\"Goías\",\"Distrito Federal\"])\n",
    "dados_não_nulos.loc[(dados_não_nulos.UF==\"Rondônia\")|(dados_não_nulos.UF==\"Acre\")|(dados_não_nulos.UF==\"Amazonas\")|\n",
    "                    (dados_não_nulos.UF==\"Roraima\")|(dados_não_nulos.UF==\"Pará\")|(dados_não_nulos.UF==\"Amapá\")|\n",
    "                    (dados_não_nulos.UF==\"Tocantins\")|(dados_não_nulos.UF==\"Maranhão\")|(dados_não_nulos.UF==\"Piauí\")|\n",
    "                    (dados_não_nulos.UF==\"Ceará\")|(dados_não_nulos.UF==\"Rio Grande do Norte\")|(dados_não_nulos.UF==\"Paraíba\")|\n",
    "                    (dados_não_nulos.UF==\"Pernambuco\")|(dados_não_nulos.UF==\"Alagoas\")|(dados_não_nulos.UF==\"Sergipe\")|\n",
    "                    (dados_não_nulos.UF==\"Bahia\")|(dados_não_nulos.UF==\"Minas Gerais\")|(dados_não_nulos.UF==\"Espírito Santo\")|\n",
    "                    (dados_não_nulos.UF==\"Rio de Janeiro\")|(dados_não_nulos.UF==\"São Paulo\")|(dados_não_nulos.UF==\"Paraná\")|\n",
    "                    (dados_não_nulos.UF==\"Santa Catarina\")|(dados_não_nulos.UF==\"Rio Grande do Sul\")|\n",
    "                    (dados_não_nulos.UF==\"Mato Grosso do Sul\")|(dados_não_nulos.UF==\"Mato Grosso\")|(dados_não_nulos.UF==\"Goiás\")|\n",
    "                    (dados_não_nulos.UF==\"Distrito Federal\"),\"Regiões\"]=\"Brasil\"\n",
    "#dados_não_nulos=dados_não_nulos.dropna(axis=0) #Dropna:Eliminação dos NAN's.\n",
    "dados_não_nulos = dados_não_nulos.drop(['Regiões'],axis=1)\n",
    "\n",
    "dados_não_nulos.V4728=dados_não_nulos.V4728.astype('category')\n",
    "#dados_não_nulos.V8005=dados_não_nulos.V8005.astype('int64')\n",
    "#dados_não_nulos.V9532=dados_não_nulos.V9532.astype('int64')\n",
    "dados_não_nulos.V4728.cat.categories = ([\"URBANA - Cidade ou vila, área urbanizada\",\"URBANA - Cidade ou vila, área não urbanizada\",\"URBANA - Área urbana isolada\",\"RURAL - Aglomerado rural de extensão urbana \",\"RURAL - Aglomerado rural, isolado, povoado\",\"RURAL - Aglomerado rural, isolado, núcleo\",\"RURAL- Aglomerado rural, isolado, outros aglomerados\", \"RURAL - Zona rural exclusive aglomerado rural\"])\n",
    "dados_não_nulos.loc[(dados_não_nulos.UF=='Rondônia') | (dados_não_nulos.UF=='Acre') | (dados_não_nulos.UF=='Amazonas') | (dados_não_nulos.UF=='Roraima') | (dados_não_nulos.UF=='Pará') | (dados_não_nulos.UF=='Amapá') | (dados_não_nulos.UF=='Tocantins'),'Regiao'] = 'Norte'\n",
    "dados_não_nulos.loc[(dados_não_nulos.UF=='Maranhão') | (dados_não_nulos.UF=='Piaui') | (dados_não_nulos.UF=='Caerá') | (dados_não_nulos.UF=='Rio Grande do Norte') | (dados_não_nulos.UF=='Paraíba') | (dados_não_nulos.UF=='Pernambuco') | (dados_não_nulos.UF=='Alagoas') | (dados_não_nulos.UF=='Sergipe') | (dados_não_nulos.UF=='Bahia'),'Regiao'] = 'Nordeste'\n",
    "dados_não_nulos.loc[(dados_não_nulos.UF=='Minas Gerais') | (dados_não_nulos.UF=='Espirito Santo') | (dados_não_nulos.UF=='Rio de Janeiro') | (dados_não_nulos.UF=='São Paulo'),'Regiao'] = 'Sudeste'\n",
    "dados_não_nulos.loc[(dados_não_nulos.UF=='Paraná') | (dados_não_nulos.UF=='Santa Catarina') | (dados_não_nulos.UF=='Rio Grande do Sul'),'Regiao'] = 'Sul'\n",
    "dados_não_nulos.loc[(dados_não_nulos.UF=='Mato Grosso do Sul') | (dados_não_nulos.UF=='Mato Grosso') | (dados_não_nulos.UF=='Goiás') | (dados_não_nulos.UF=='Distrito Federal'),'Regiao'] = 'Centroeste'\n",
    "dados_não_nulos.head()\n",
    "\n",
    "dados_não_nulos.head()"
   ]
  },
  {
   "cell_type": "code",
   "execution_count": 8,
   "metadata": {},
   "outputs": [
    {
     "data": {
      "text/html": [
       "<div>\n",
       "<style scoped>\n",
       "    .dataframe tbody tr th:only-of-type {\n",
       "        vertical-align: middle;\n",
       "    }\n",
       "\n",
       "    .dataframe tbody tr th {\n",
       "        vertical-align: top;\n",
       "    }\n",
       "\n",
       "    .dataframe thead th {\n",
       "        text-align: right;\n",
       "    }\n",
       "</style>\n",
       "<table border=\"1\" class=\"dataframe\">\n",
       "  <thead>\n",
       "    <tr style=\"text-align: right;\">\n",
       "      <th></th>\n",
       "      <th>Condição_domiciliar</th>\n",
       "      <th>Acesso_a_net_microcomputador</th>\n",
       "      <th>Acesso_a_net_celular</th>\n",
       "      <th>Acesso_a_net_tablet</th>\n",
       "      <th>Condição_Censitária</th>\n",
       "      <th>Renda</th>\n",
       "      <th>Idade</th>\n",
       "      <th>UF</th>\n",
       "      <th>Regiao</th>\n",
       "    </tr>\n",
       "  </thead>\n",
       "  <tbody>\n",
       "    <tr>\n",
       "      <th>0</th>\n",
       "      <td>Pessoa de referência</td>\n",
       "      <td>Não</td>\n",
       "      <td>Sim</td>\n",
       "      <td>Não</td>\n",
       "      <td>URBANA - Cidade ou vila, área urbanizada</td>\n",
       "      <td>800.0</td>\n",
       "      <td>23</td>\n",
       "      <td>Rondônia</td>\n",
       "      <td>Norte</td>\n",
       "    </tr>\n",
       "    <tr>\n",
       "      <th>1</th>\n",
       "      <td>Pessoa de referência</td>\n",
       "      <td>Sim</td>\n",
       "      <td>Sim</td>\n",
       "      <td>Não</td>\n",
       "      <td>URBANA - Cidade ou vila, área urbanizada</td>\n",
       "      <td>1150.0</td>\n",
       "      <td>23</td>\n",
       "      <td>Rondônia</td>\n",
       "      <td>Norte</td>\n",
       "    </tr>\n",
       "    <tr>\n",
       "      <th>2</th>\n",
       "      <td>Pessoa de referência</td>\n",
       "      <td>Sim</td>\n",
       "      <td>Sim</td>\n",
       "      <td>Não</td>\n",
       "      <td>URBANA - Cidade ou vila, área urbanizada</td>\n",
       "      <td>880.0</td>\n",
       "      <td>35</td>\n",
       "      <td>Rondônia</td>\n",
       "      <td>Norte</td>\n",
       "    </tr>\n",
       "    <tr>\n",
       "      <th>3</th>\n",
       "      <td>Cônjuge</td>\n",
       "      <td>Sim</td>\n",
       "      <td>Sim</td>\n",
       "      <td>Não</td>\n",
       "      <td>URBANA - Cidade ou vila, área urbanizada</td>\n",
       "      <td>3000.0</td>\n",
       "      <td>34</td>\n",
       "      <td>Rondônia</td>\n",
       "      <td>Norte</td>\n",
       "    </tr>\n",
       "    <tr>\n",
       "      <th>4</th>\n",
       "      <td>Filho</td>\n",
       "      <td>Sim</td>\n",
       "      <td>Não</td>\n",
       "      <td>Não</td>\n",
       "      <td>URBANA - Cidade ou vila, área urbanizada</td>\n",
       "      <td>NaN</td>\n",
       "      <td>11</td>\n",
       "      <td>Rondônia</td>\n",
       "      <td>Norte</td>\n",
       "    </tr>\n",
       "  </tbody>\n",
       "</table>\n",
       "</div>"
      ],
      "text/plain": [
       "    Condição_domiciliar Acesso_a_net_microcomputador Acesso_a_net_celular  \\\n",
       "0  Pessoa de referência                          Não                  Sim   \n",
       "1  Pessoa de referência                          Sim                  Sim   \n",
       "2  Pessoa de referência                          Sim                  Sim   \n",
       "3               Cônjuge                          Sim                  Sim   \n",
       "4                 Filho                          Sim                  Não   \n",
       "\n",
       "  Acesso_a_net_tablet                       Condição_Censitária   Renda  \\\n",
       "0                 Não  URBANA - Cidade ou vila, área urbanizada   800.0   \n",
       "1                 Não  URBANA - Cidade ou vila, área urbanizada  1150.0   \n",
       "2                 Não  URBANA - Cidade ou vila, área urbanizada   880.0   \n",
       "3                 Não  URBANA - Cidade ou vila, área urbanizada  3000.0   \n",
       "4                 Não  URBANA - Cidade ou vila, área urbanizada     NaN   \n",
       "\n",
       "   Idade        UF Regiao  \n",
       "0     23  Rondônia  Norte  \n",
       "1     23  Rondônia  Norte  \n",
       "2     35  Rondônia  Norte  \n",
       "3     34  Rondônia  Norte  \n",
       "4     11  Rondônia  Norte  "
      ]
     },
     "execution_count": 8,
     "metadata": {},
     "output_type": "execute_result"
    }
   ],
   "source": [
    "dados_não_nulos=dados_não_nulos.rename(columns={'UF':'UF','V8005':'Idade','V4728':'Condição_Censitária', 'V9532':'Renda',\n",
    "                                                'V061112':'Acesso_a_net_microcomputador', 'V061113':'Acesso_a_net_celular',\n",
    "                                                'V061114':'Acesso_a_net_tablet','V0401':'Condição_domiciliar'})\n",
    "dados_não_nulos.loc[dados_não_nulos['Acesso_a_net_microcomputador'] == 1,'Acesso_a_net_microcomputador'] = 'Sim'\n",
    "dados_não_nulos.loc[dados_não_nulos['Acesso_a_net_microcomputador'] == 2,'Acesso_a_net_microcomputador'] = 'Não'\n",
    "#dados_não_nulos.loc[dados_não_nulos['Trabalho_Urbano'] == [] ,'Trabalho_Urbano'] = 'Não aplicável'\n",
    "\n",
    "dados_não_nulos.loc[dados_não_nulos['Acesso_a_net_celular'] == 1,'Acesso_a_net_celular'] = 'Sim'\n",
    "dados_não_nulos.loc[dados_não_nulos['Acesso_a_net_celular'] == 2,'Acesso_a_net_celular'] = 'Não'\n",
    "#dados_não_nulos.loc[dados_não_nulos['Trabalho_Urbano'] == [] ,'Trabalho_Urbano'] = 'Não aplicável'\n",
    "\n",
    "dados_não_nulos.loc[dados_não_nulos['Acesso_a_net_tablet'] == 1,'Acesso_a_net_tablet'] = 'Sim'\n",
    "dados_não_nulos.loc[dados_não_nulos['Acesso_a_net_tablet'] == 2,'Acesso_a_net_tablet'] = 'Não'\n",
    "#dados_não_nulos.loc[dados_não_nulos['Trabalho_Urbano'] == [] ,'Trabalho_Urbano'] = 'Não aplicável'\n",
    "\n",
    "dados_não_nulos.loc[dados_não_nulos['Condição_domiciliar'] == 1,'Condição_domiciliar'] = 'Pessoa de referência'\n",
    "dados_não_nulos.loc[dados_não_nulos['Condição_domiciliar'] == 2,'Condição_domiciliar'] = 'Cônjuge'\n",
    "dados_não_nulos.loc[dados_não_nulos['Condição_domiciliar'] == 3,'Condição_domiciliar'] = 'Filho'\n",
    "dados_não_nulos.loc[dados_não_nulos['Condição_domiciliar'] == 4,'Condição_domiciliar'] = 'Outro parente'\n",
    "dados_não_nulos.loc[dados_não_nulos['Condição_domiciliar'] == 5,'Condição_domiciliar'] = 'Agregado'\n",
    "dados_não_nulos.loc[dados_não_nulos['Condição_domiciliar'] == 6,'Condição_domiciliar'] = 'Pensionista'\n",
    "dados_não_nulos.loc[dados_não_nulos['Condição_domiciliar'] == 7,'Condição_domiciliar'] = 'Empregado doméstico'\n",
    "dados_não_nulos.loc[dados_não_nulos['Condição_domiciliar'] == 8,'Condição_domiciliar'] = 'Parente do empregado doméstico'\n",
    "\n",
    "\n",
    "dados_não_nulos.head()"
   ]
  },
  {
   "cell_type": "code",
   "execution_count": 9,
   "metadata": {},
   "outputs": [
    {
     "data": {
      "text/html": [
       "<div>\n",
       "<style scoped>\n",
       "    .dataframe tbody tr th:only-of-type {\n",
       "        vertical-align: middle;\n",
       "    }\n",
       "\n",
       "    .dataframe tbody tr th {\n",
       "        vertical-align: top;\n",
       "    }\n",
       "\n",
       "    .dataframe thead th {\n",
       "        text-align: right;\n",
       "    }\n",
       "</style>\n",
       "<table border=\"1\" class=\"dataframe\">\n",
       "  <thead>\n",
       "    <tr style=\"text-align: right;\">\n",
       "      <th></th>\n",
       "      <th>Condição_domiciliar</th>\n",
       "      <th>Acesso_a_net_microcomputador</th>\n",
       "      <th>Acesso_a_net_celular</th>\n",
       "      <th>Acesso_a_net_tablet</th>\n",
       "      <th>Condição_Censitária</th>\n",
       "      <th>Renda</th>\n",
       "      <th>Idade</th>\n",
       "      <th>UF</th>\n",
       "      <th>Regiao</th>\n",
       "    </tr>\n",
       "  </thead>\n",
       "  <tbody>\n",
       "    <tr>\n",
       "      <th>0</th>\n",
       "      <td>Pessoa de referência</td>\n",
       "      <td>Não</td>\n",
       "      <td>Sim</td>\n",
       "      <td>Não</td>\n",
       "      <td>URBANA - Cidade ou vila, área urbanizada</td>\n",
       "      <td>800.0</td>\n",
       "      <td>23</td>\n",
       "      <td>Rondônia</td>\n",
       "      <td>Norte</td>\n",
       "    </tr>\n",
       "    <tr>\n",
       "      <th>1</th>\n",
       "      <td>Pessoa de referência</td>\n",
       "      <td>Sim</td>\n",
       "      <td>Sim</td>\n",
       "      <td>Não</td>\n",
       "      <td>URBANA - Cidade ou vila, área urbanizada</td>\n",
       "      <td>1150.0</td>\n",
       "      <td>23</td>\n",
       "      <td>Rondônia</td>\n",
       "      <td>Norte</td>\n",
       "    </tr>\n",
       "    <tr>\n",
       "      <th>2</th>\n",
       "      <td>Pessoa de referência</td>\n",
       "      <td>Sim</td>\n",
       "      <td>Sim</td>\n",
       "      <td>Não</td>\n",
       "      <td>URBANA - Cidade ou vila, área urbanizada</td>\n",
       "      <td>880.0</td>\n",
       "      <td>35</td>\n",
       "      <td>Rondônia</td>\n",
       "      <td>Norte</td>\n",
       "    </tr>\n",
       "    <tr>\n",
       "      <th>3</th>\n",
       "      <td>Cônjuge</td>\n",
       "      <td>Sim</td>\n",
       "      <td>Sim</td>\n",
       "      <td>Não</td>\n",
       "      <td>URBANA - Cidade ou vila, área urbanizada</td>\n",
       "      <td>3000.0</td>\n",
       "      <td>34</td>\n",
       "      <td>Rondônia</td>\n",
       "      <td>Norte</td>\n",
       "    </tr>\n",
       "    <tr>\n",
       "      <th>4</th>\n",
       "      <td>Filho</td>\n",
       "      <td>Sim</td>\n",
       "      <td>Não</td>\n",
       "      <td>Não</td>\n",
       "      <td>URBANA - Cidade ou vila, área urbanizada</td>\n",
       "      <td>NaN</td>\n",
       "      <td>11</td>\n",
       "      <td>Rondônia</td>\n",
       "      <td>Norte</td>\n",
       "    </tr>\n",
       "  </tbody>\n",
       "</table>\n",
       "</div>"
      ],
      "text/plain": [
       "    Condição_domiciliar Acesso_a_net_microcomputador Acesso_a_net_celular  \\\n",
       "0  Pessoa de referência                          Não                  Sim   \n",
       "1  Pessoa de referência                          Sim                  Sim   \n",
       "2  Pessoa de referência                          Sim                  Sim   \n",
       "3               Cônjuge                          Sim                  Sim   \n",
       "4                 Filho                          Sim                  Não   \n",
       "\n",
       "  Acesso_a_net_tablet                       Condição_Censitária   Renda  \\\n",
       "0                 Não  URBANA - Cidade ou vila, área urbanizada   800.0   \n",
       "1                 Não  URBANA - Cidade ou vila, área urbanizada  1150.0   \n",
       "2                 Não  URBANA - Cidade ou vila, área urbanizada   880.0   \n",
       "3                 Não  URBANA - Cidade ou vila, área urbanizada  3000.0   \n",
       "4                 Não  URBANA - Cidade ou vila, área urbanizada     NaN   \n",
       "\n",
       "   Idade        UF Regiao  \n",
       "0     23  Rondônia  Norte  \n",
       "1     23  Rondônia  Norte  \n",
       "2     35  Rondônia  Norte  \n",
       "3     34  Rondônia  Norte  \n",
       "4     11  Rondônia  Norte  "
      ]
     },
     "execution_count": 9,
     "metadata": {},
     "output_type": "execute_result"
    }
   ],
   "source": [
    "\n",
    "dados_não_nulos=dados_não_nulos[dados_não_nulos['Renda']!=999999999999.0]\n",
    "dados_não_nulos.head()"
   ]
  },
  {
   "cell_type": "code",
   "execution_count": 10,
   "metadata": {},
   "outputs": [
    {
     "data": {
      "text/html": [
       "<div>\n",
       "<style scoped>\n",
       "    .dataframe tbody tr th:only-of-type {\n",
       "        vertical-align: middle;\n",
       "    }\n",
       "\n",
       "    .dataframe tbody tr th {\n",
       "        vertical-align: top;\n",
       "    }\n",
       "\n",
       "    .dataframe thead th {\n",
       "        text-align: right;\n",
       "    }\n",
       "</style>\n",
       "<table border=\"1\" class=\"dataframe\">\n",
       "  <thead>\n",
       "    <tr style=\"text-align: right;\">\n",
       "      <th></th>\n",
       "      <th>Condição_domiciliar</th>\n",
       "      <th>Acesso_a_net_microcomputador</th>\n",
       "      <th>Acesso_a_net_celular</th>\n",
       "      <th>Acesso_a_net_tablet</th>\n",
       "      <th>Condição_Censitária</th>\n",
       "      <th>Renda</th>\n",
       "      <th>Idade</th>\n",
       "      <th>UF</th>\n",
       "      <th>Regiao</th>\n",
       "    </tr>\n",
       "  </thead>\n",
       "  <tbody>\n",
       "    <tr>\n",
       "      <th>0</th>\n",
       "      <td>Pessoa de referência</td>\n",
       "      <td>Não</td>\n",
       "      <td>Sim</td>\n",
       "      <td>Não</td>\n",
       "      <td>URBANA - Cidade ou vila, área urbanizada</td>\n",
       "      <td>800.0</td>\n",
       "      <td>23</td>\n",
       "      <td>Rondônia</td>\n",
       "      <td>Norte</td>\n",
       "    </tr>\n",
       "    <tr>\n",
       "      <th>1</th>\n",
       "      <td>Pessoa de referência</td>\n",
       "      <td>Sim</td>\n",
       "      <td>Sim</td>\n",
       "      <td>Não</td>\n",
       "      <td>URBANA - Cidade ou vila, área urbanizada</td>\n",
       "      <td>1150.0</td>\n",
       "      <td>23</td>\n",
       "      <td>Rondônia</td>\n",
       "      <td>Norte</td>\n",
       "    </tr>\n",
       "    <tr>\n",
       "      <th>2</th>\n",
       "      <td>Pessoa de referência</td>\n",
       "      <td>Sim</td>\n",
       "      <td>Sim</td>\n",
       "      <td>Não</td>\n",
       "      <td>URBANA - Cidade ou vila, área urbanizada</td>\n",
       "      <td>880.0</td>\n",
       "      <td>35</td>\n",
       "      <td>Rondônia</td>\n",
       "      <td>Norte</td>\n",
       "    </tr>\n",
       "    <tr>\n",
       "      <th>8</th>\n",
       "      <td>Pessoa de referência</td>\n",
       "      <td>NaN</td>\n",
       "      <td>NaN</td>\n",
       "      <td>NaN</td>\n",
       "      <td>URBANA - Cidade ou vila, área urbanizada</td>\n",
       "      <td>3500.0</td>\n",
       "      <td>46</td>\n",
       "      <td>Rondônia</td>\n",
       "      <td>Norte</td>\n",
       "    </tr>\n",
       "    <tr>\n",
       "      <th>10</th>\n",
       "      <td>Pessoa de referência</td>\n",
       "      <td>Sim</td>\n",
       "      <td>Não</td>\n",
       "      <td>Não</td>\n",
       "      <td>URBANA - Cidade ou vila, área urbanizada</td>\n",
       "      <td>NaN</td>\n",
       "      <td>71</td>\n",
       "      <td>Rondônia</td>\n",
       "      <td>Norte</td>\n",
       "    </tr>\n",
       "  </tbody>\n",
       "</table>\n",
       "</div>"
      ],
      "text/plain": [
       "     Condição_domiciliar Acesso_a_net_microcomputador Acesso_a_net_celular  \\\n",
       "0   Pessoa de referência                          Não                  Sim   \n",
       "1   Pessoa de referência                          Sim                  Sim   \n",
       "2   Pessoa de referência                          Sim                  Sim   \n",
       "8   Pessoa de referência                          NaN                  NaN   \n",
       "10  Pessoa de referência                          Sim                  Não   \n",
       "\n",
       "   Acesso_a_net_tablet                       Condição_Censitária   Renda  \\\n",
       "0                  Não  URBANA - Cidade ou vila, área urbanizada   800.0   \n",
       "1                  Não  URBANA - Cidade ou vila, área urbanizada  1150.0   \n",
       "2                  Não  URBANA - Cidade ou vila, área urbanizada   880.0   \n",
       "8                  NaN  URBANA - Cidade ou vila, área urbanizada  3500.0   \n",
       "10                 Não  URBANA - Cidade ou vila, área urbanizada     NaN   \n",
       "\n",
       "    Idade        UF Regiao  \n",
       "0      23  Rondônia  Norte  \n",
       "1      23  Rondônia  Norte  \n",
       "2      35  Rondônia  Norte  \n",
       "8      46  Rondônia  Norte  \n",
       "10     71  Rondônia  Norte  "
      ]
     },
     "execution_count": 10,
     "metadata": {},
     "output_type": "execute_result"
    }
   ],
   "source": [
    "dados_não_nulos = dados_não_nulos[(dados_não_nulos.Condição_domiciliar == 'Pessoa de referência')]\n",
    "dados_não_nulos.head()"
   ]
  },
  {
   "cell_type": "code",
   "execution_count": 11,
   "metadata": {},
   "outputs": [
    {
     "data": {
      "text/html": [
       "<div>\n",
       "<style scoped>\n",
       "    .dataframe tbody tr th:only-of-type {\n",
       "        vertical-align: middle;\n",
       "    }\n",
       "\n",
       "    .dataframe tbody tr th {\n",
       "        vertical-align: top;\n",
       "    }\n",
       "\n",
       "    .dataframe thead th {\n",
       "        text-align: right;\n",
       "    }\n",
       "</style>\n",
       "<table border=\"1\" class=\"dataframe\">\n",
       "  <thead>\n",
       "    <tr style=\"text-align: right;\">\n",
       "      <th></th>\n",
       "      <th>Condição_domiciliar</th>\n",
       "      <th>Acesso_a_net_microcomputador</th>\n",
       "      <th>Acesso_a_net_celular</th>\n",
       "      <th>Acesso_a_net_tablet</th>\n",
       "      <th>Condição_Censitária</th>\n",
       "      <th>Renda</th>\n",
       "      <th>Idade</th>\n",
       "      <th>UF</th>\n",
       "      <th>Regiao</th>\n",
       "    </tr>\n",
       "  </thead>\n",
       "  <tbody>\n",
       "    <tr>\n",
       "      <th>10</th>\n",
       "      <td>Pessoa de referência</td>\n",
       "      <td>Sim</td>\n",
       "      <td>Não</td>\n",
       "      <td>Não</td>\n",
       "      <td>URBANA - Cidade ou vila, área urbanizada</td>\n",
       "      <td>NaN</td>\n",
       "      <td>71</td>\n",
       "      <td>Rondônia</td>\n",
       "      <td>Norte</td>\n",
       "    </tr>\n",
       "    <tr>\n",
       "      <th>24</th>\n",
       "      <td>Pessoa de referência</td>\n",
       "      <td>Sim</td>\n",
       "      <td>Sim</td>\n",
       "      <td>Não</td>\n",
       "      <td>URBANA - Cidade ou vila, área urbanizada</td>\n",
       "      <td>1700.0</td>\n",
       "      <td>60</td>\n",
       "      <td>Rondônia</td>\n",
       "      <td>Norte</td>\n",
       "    </tr>\n",
       "    <tr>\n",
       "      <th>61</th>\n",
       "      <td>Pessoa de referência</td>\n",
       "      <td>NaN</td>\n",
       "      <td>NaN</td>\n",
       "      <td>NaN</td>\n",
       "      <td>URBANA - Cidade ou vila, área urbanizada</td>\n",
       "      <td>1150.0</td>\n",
       "      <td>62</td>\n",
       "      <td>Rondônia</td>\n",
       "      <td>Norte</td>\n",
       "    </tr>\n",
       "    <tr>\n",
       "      <th>65</th>\n",
       "      <td>Pessoa de referência</td>\n",
       "      <td>NaN</td>\n",
       "      <td>NaN</td>\n",
       "      <td>NaN</td>\n",
       "      <td>URBANA - Cidade ou vila, área urbanizada</td>\n",
       "      <td>3030.0</td>\n",
       "      <td>69</td>\n",
       "      <td>Rondônia</td>\n",
       "      <td>Norte</td>\n",
       "    </tr>\n",
       "    <tr>\n",
       "      <th>107</th>\n",
       "      <td>Pessoa de referência</td>\n",
       "      <td>Sim</td>\n",
       "      <td>Sim</td>\n",
       "      <td>Não</td>\n",
       "      <td>URBANA - Cidade ou vila, área urbanizada</td>\n",
       "      <td>1700.0</td>\n",
       "      <td>65</td>\n",
       "      <td>Rondônia</td>\n",
       "      <td>Norte</td>\n",
       "    </tr>\n",
       "  </tbody>\n",
       "</table>\n",
       "</div>"
      ],
      "text/plain": [
       "      Condição_domiciliar Acesso_a_net_microcomputador Acesso_a_net_celular  \\\n",
       "10   Pessoa de referência                          Sim                  Não   \n",
       "24   Pessoa de referência                          Sim                  Sim   \n",
       "61   Pessoa de referência                          NaN                  NaN   \n",
       "65   Pessoa de referência                          NaN                  NaN   \n",
       "107  Pessoa de referência                          Sim                  Sim   \n",
       "\n",
       "    Acesso_a_net_tablet                       Condição_Censitária   Renda  \\\n",
       "10                  Não  URBANA - Cidade ou vila, área urbanizada     NaN   \n",
       "24                  Não  URBANA - Cidade ou vila, área urbanizada  1700.0   \n",
       "61                  NaN  URBANA - Cidade ou vila, área urbanizada  1150.0   \n",
       "65                  NaN  URBANA - Cidade ou vila, área urbanizada  3030.0   \n",
       "107                 Não  URBANA - Cidade ou vila, área urbanizada  1700.0   \n",
       "\n",
       "     Idade        UF Regiao  \n",
       "10      71  Rondônia  Norte  \n",
       "24      60  Rondônia  Norte  \n",
       "61      62  Rondônia  Norte  \n",
       "65      69  Rondônia  Norte  \n",
       "107     65  Rondônia  Norte  "
      ]
     },
     "execution_count": 11,
     "metadata": {},
     "output_type": "execute_result"
    }
   ],
   "source": [
    "dados_não_nulos = dados_não_nulos[(dados_não_nulos.Idade >= 60)]\n",
    "dados_não_nulos.head()"
   ]
  },
  {
   "cell_type": "code",
   "execution_count": 12,
   "metadata": {},
   "outputs": [
    {
     "name": "stdout",
     "output_type": "stream",
     "text": [
      "Frequências absolutas por Condição_domiciliar:\n",
      "Pessoa de referência    31236\n",
      "Name: Condição_domiciliar, dtype: int64 \n",
      "\n",
      "Frequências absolutas por Acesso à internet pelo microcomputador:\n",
      "Não    1119\n",
      "Sim    4727\n",
      "Name: Acesso_a_net_microcomputador, dtype: int64 \n",
      "\n",
      "Frequências absolutas por Acesso à internet pelo celular:\n",
      "Não    1974\n",
      "Sim    3872\n",
      "Name: Acesso_a_net_celular, dtype: int64 \n",
      "\n",
      "Frequências absolutas por Acesso à internet pelo tablet:\n",
      "Não    4898\n",
      "Sim     948\n",
      "Name: Acesso_a_net_tablet, dtype: int64 \n",
      "\n",
      "Frequências absolutas por UF:\n",
      "Rondônia                434.0\n",
      "Acre                    266.0\n",
      "Amazonas                658.0\n",
      "Roraima                 130.0\n",
      "Para                      NaN\n",
      "Amapá                   143.0\n",
      "Tocantins               503.0\n",
      "Maranhão                652.0\n",
      "Piauí                   438.0\n",
      "Ceará                  1534.0\n",
      "Rio Grande do Norte     378.0\n",
      "Paraíba                 504.0\n",
      "Pernambuco             2040.0\n",
      "Alagoas                 452.0\n",
      "Sergipe                 490.0\n",
      "Bahia                  2261.0\n",
      "Minas Gerais           3154.0\n",
      "Espírito Santos           NaN\n",
      "São Paulo              3772.0\n",
      "Paraná                 1691.0\n",
      "Santa Catarina          897.0\n",
      "Rio Grande do Sul      2818.0\n",
      "Mato Grosso do Sul      508.0\n",
      "Mato Grosso             544.0\n",
      "Goiás                     NaN\n",
      "Distrito Federal        665.0\n",
      "Name: UF, dtype: float64 \n",
      "\n"
     ]
    }
   ],
   "source": [
    "# Tabelas univariada\n",
    "\n",
    "\n",
    "# Tabelas univariada\n",
    "print('Frequências absolutas por Condição_domiciliar:')\n",
    "ut1 = dados_não_nulos.Condição_domiciliar.value_counts(sort=False).reindex(['Pessoa de referência'])\n",
    "print(ut1,'\\n')\n",
    "\n",
    "# Tabelas univariada\n",
    "print('Frequências absolutas por Acesso à internet pelo microcomputador:')\n",
    "ut2 = dados_não_nulos.Acesso_a_net_microcomputador.value_counts(sort=False).reindex(['Não', 'Sim'])\n",
    "print(ut2,'\\n')\n",
    "\n",
    "# Tabelas univariada\n",
    "print('Frequências absolutas por Acesso à internet pelo celular:')\n",
    "ut3 = dados_não_nulos.Acesso_a_net_celular.value_counts(sort=False).reindex(['Não', 'Sim'])\n",
    "print(ut3,'\\n')\n",
    "\n",
    "# Tabelas univariada\n",
    "print('Frequências absolutas por Acesso à internet pelo tablet:')\n",
    "ut4 = dados_não_nulos.Acesso_a_net_tablet.value_counts(sort=False).reindex(['Não', 'Sim'])\n",
    "print(ut4,'\\n')\n",
    "\n",
    "# Tabelas univariada\n",
    "print('Frequências absolutas por UF:')\n",
    "ut5 = dados_não_nulos.UF.value_counts(sort=False).reindex(['Rondônia', 'Acre', 'Amazonas', 'Roraima', 'Para', 'Amapá', 'Tocantins', 'Maranhão', 'Piauí', 'Ceará', 'Rio Grande do Norte', 'Paraíba', 'Pernambuco', 'Alagoas', 'Sergipe', 'Bahia', 'Minas Gerais', 'Espírito Santos', 'São Paulo', 'Paraná', 'Santa Catarina', 'Rio Grande do Sul', 'Mato Grosso do Sul', 'Mato Grosso', 'Goiás', 'Distrito Federal'])\n",
    "print(ut5,'\\n')"
   ]
  },
  {
   "cell_type": "markdown",
   "metadata": {},
   "source": [
    "___\n",
    "## Análise e Resultados"
   ]
  },
  {
   "cell_type": "markdown",
   "metadata": {
    "collapsed": true
   },
   "source": [
    "# Gráfico que relaciona: Condição Domiciliar com o Acesso à Internet através de microcomputador"
   ]
  },
  {
   "cell_type": "code",
   "execution_count": 13,
   "metadata": {},
   "outputs": [
    {
     "data": {
      "text/html": [
       "<div>\n",
       "<style scoped>\n",
       "    .dataframe tbody tr th:only-of-type {\n",
       "        vertical-align: middle;\n",
       "    }\n",
       "\n",
       "    .dataframe tbody tr th {\n",
       "        vertical-align: top;\n",
       "    }\n",
       "\n",
       "    .dataframe thead th {\n",
       "        text-align: right;\n",
       "    }\n",
       "</style>\n",
       "<table border=\"1\" class=\"dataframe\">\n",
       "  <thead>\n",
       "    <tr style=\"text-align: right;\">\n",
       "      <th>Condição_domiciliar</th>\n",
       "      <th>Pessoa de referência</th>\n",
       "    </tr>\n",
       "    <tr>\n",
       "      <th>Acesso_a_net_microcomputador</th>\n",
       "      <th></th>\n",
       "    </tr>\n",
       "  </thead>\n",
       "  <tbody>\n",
       "    <tr>\n",
       "      <th>Não</th>\n",
       "      <td>1119</td>\n",
       "    </tr>\n",
       "    <tr>\n",
       "      <th>Sim</th>\n",
       "      <td>4727</td>\n",
       "    </tr>\n",
       "  </tbody>\n",
       "</table>\n",
       "</div>"
      ],
      "text/plain": [
       "Condição_domiciliar           Pessoa de referência\n",
       "Acesso_a_net_microcomputador                      \n",
       "Não                                           1119\n",
       "Sim                                           4727"
      ]
     },
     "execution_count": 13,
     "metadata": {},
     "output_type": "execute_result"
    }
   ],
   "source": [
    "ct=pd.crosstab(dados_não_nulos.Acesso_a_net_microcomputador, dados_não_nulos.Condição_domiciliar, margins=True, rownames=['Acesso_a_net_microcomputador'])\n",
    "ct = ct.drop(['All'],axis = 1)\n",
    "ct = ct.drop(['All'])\n",
    "ct\n"
   ]
  },
  {
   "cell_type": "code",
   "execution_count": 14,
   "metadata": {},
   "outputs": [
    {
     "data": {
      "image/png": "[encoded data removed]",
      "text/plain": [
       "<matplotlib.figure.Figure at 0x26acc913748>"
      ]
     },
     "metadata": {},
     "output_type": "display_data"
    }
   ],
   "source": [
    "plot = ct.plot(kind='bar',figsize=(6, 6))\n",
    "plt.ylabel('Freq.Absoluta')\n",
    "plt.show()"
   ]
  },
  {
   "cell_type": "markdown",
   "metadata": {},
   "source": [
    "# Gráfico que relaciona: Condição Domiciliar com o Acesso à Internet através de Telefone Celular"
   ]
  },
  {
   "cell_type": "code",
   "execution_count": 26,
   "metadata": {},
   "outputs": [
    {
     "data": {
      "text/html": [
       "<div>\n",
       "<style scoped>\n",
       "    .dataframe tbody tr th:only-of-type {\n",
       "        vertical-align: middle;\n",
       "    }\n",
       "\n",
       "    .dataframe tbody tr th {\n",
       "        vertical-align: top;\n",
       "    }\n",
       "\n",
       "    .dataframe thead th {\n",
       "        text-align: right;\n",
       "    }\n",
       "</style>\n",
       "<table border=\"1\" class=\"dataframe\">\n",
       "  <thead>\n",
       "    <tr style=\"text-align: right;\">\n",
       "      <th>Condição_domiciliar</th>\n",
       "      <th>Pessoa de referência</th>\n",
       "    </tr>\n",
       "    <tr>\n",
       "      <th>Acesso_a_net_celular</th>\n",
       "      <th></th>\n",
       "    </tr>\n",
       "  </thead>\n",
       "  <tbody>\n",
       "    <tr>\n",
       "      <th>Não</th>\n",
       "      <td>1974</td>\n",
       "    </tr>\n",
       "    <tr>\n",
       "      <th>Sim</th>\n",
       "      <td>3872</td>\n",
       "    </tr>\n",
       "  </tbody>\n",
       "</table>\n",
       "</div>"
      ],
      "text/plain": [
       "Condição_domiciliar   Pessoa de referência\n",
       "Acesso_a_net_celular                      \n",
       "Não                                   1974\n",
       "Sim                                   3872"
      ]
     },
     "execution_count": 26,
     "metadata": {},
     "output_type": "execute_result"
    }
   ],
   "source": [
    "ct1=pd.crosstab(dados_não_nulos.Acesso_a_net_celular, dados_não_nulos.Condição_domiciliar, margins=True, rownames=['Acesso_a_net_celular'])\n",
    "ct1 = ct1.drop(['All'],axis = 1)\n",
    "ct1 = ct1.drop(['All'])\n",
    "ct1"
   ]
  },
  {
   "cell_type": "code",
   "execution_count": 27,
   "metadata": {},
   "outputs": [
    {
     "data": {
      "image/png": "[encoded data removed]",
      "text/plain": [
       "<matplotlib.figure.Figure at 0x26a90e0a208>"
      ]
     },
     "metadata": {},
     "output_type": "display_data"
    }
   ],
   "source": [
    "plot = ct1.plot(kind='bar',figsize=(6, 6))\n",
    "plt.ylabel('Freq.Absoluta')\n",
    "plt.show()"
   ]
  },
  {
   "cell_type": "markdown",
   "metadata": {},
   "source": [
    "# Gráfico que relaciona: Condição Domiciliar com o Acesso à Internet através do Tablet"
   ]
  },
  {
   "cell_type": "code",
   "execution_count": 28,
   "metadata": {},
   "outputs": [
    {
     "data": {
      "text/html": [
       "<div>\n",
       "<style scoped>\n",
       "    .dataframe tbody tr th:only-of-type {\n",
       "        vertical-align: middle;\n",
       "    }\n",
       "\n",
       "    .dataframe tbody tr th {\n",
       "        vertical-align: top;\n",
       "    }\n",
       "\n",
       "    .dataframe thead th {\n",
       "        text-align: right;\n",
       "    }\n",
       "</style>\n",
       "<table border=\"1\" class=\"dataframe\">\n",
       "  <thead>\n",
       "    <tr style=\"text-align: right;\">\n",
       "      <th>Condição_domiciliar</th>\n",
       "      <th>Pessoa de referência</th>\n",
       "    </tr>\n",
       "    <tr>\n",
       "      <th>Acesso_a_net_tablet</th>\n",
       "      <th></th>\n",
       "    </tr>\n",
       "  </thead>\n",
       "  <tbody>\n",
       "    <tr>\n",
       "      <th>Não</th>\n",
       "      <td>4898</td>\n",
       "    </tr>\n",
       "    <tr>\n",
       "      <th>Sim</th>\n",
       "      <td>948</td>\n",
       "    </tr>\n",
       "  </tbody>\n",
       "</table>\n",
       "</div>"
      ],
      "text/plain": [
       "Condição_domiciliar  Pessoa de referência\n",
       "Acesso_a_net_tablet                      \n",
       "Não                                  4898\n",
       "Sim                                   948"
      ]
     },
     "execution_count": 28,
     "metadata": {},
     "output_type": "execute_result"
    }
   ],
   "source": [
    "ct2=pd.crosstab(dados_não_nulos.Acesso_a_net_tablet, dados_não_nulos.Condição_domiciliar, margins=True, rownames=['Acesso_a_net_tablet'])\n",
    "ct2 = ct2.drop(['All'],axis = 1)\n",
    "ct2 = ct2.drop(['All'])\n",
    "ct2"
   ]
  },
  {
   "cell_type": "code",
   "execution_count": 29,
   "metadata": {},
   "outputs": [
    {
     "data": {
      "image/png": "[encoded data removed]",
      "text/plain": [
       "<matplotlib.figure.Figure at 0x26a9350a780>"
      ]
     },
     "metadata": {},
     "output_type": "display_data"
    }
   ],
   "source": [
    "plot = ct2.plot(kind='bar',figsize=(6, 6))\n",
    "plt.ylabel('Freq.Absoluta')\n",
    "plt.show()"
   ]
  },
  {
   "cell_type": "markdown",
   "metadata": {},
   "source": [
    "# Gráfico que relaciona: Condição Domiciliar com Renda"
   ]
  },
  {
   "cell_type": "code",
   "execution_count": 19,
   "metadata": {},
   "outputs": [
    {
     "data": {
      "text/html": [
       "<div>\n",
       "<style scoped>\n",
       "    .dataframe tbody tr th:only-of-type {\n",
       "        vertical-align: middle;\n",
       "    }\n",
       "\n",
       "    .dataframe tbody tr th {\n",
       "        vertical-align: top;\n",
       "    }\n",
       "\n",
       "    .dataframe thead th {\n",
       "        text-align: right;\n",
       "    }\n",
       "</style>\n",
       "<table border=\"1\" class=\"dataframe\">\n",
       "  <thead>\n",
       "    <tr style=\"text-align: right;\">\n",
       "      <th></th>\n",
       "      <th>Renda</th>\n",
       "      <th>Condição_domiciliar</th>\n",
       "    </tr>\n",
       "  </thead>\n",
       "  <tbody>\n",
       "    <tr>\n",
       "      <th>10</th>\n",
       "      <td>NaN</td>\n",
       "      <td>Pessoa de referência</td>\n",
       "    </tr>\n",
       "    <tr>\n",
       "      <th>24</th>\n",
       "      <td>1700.0</td>\n",
       "      <td>Pessoa de referência</td>\n",
       "    </tr>\n",
       "    <tr>\n",
       "      <th>61</th>\n",
       "      <td>1150.0</td>\n",
       "      <td>Pessoa de referência</td>\n",
       "    </tr>\n",
       "    <tr>\n",
       "      <th>65</th>\n",
       "      <td>3030.0</td>\n",
       "      <td>Pessoa de referência</td>\n",
       "    </tr>\n",
       "    <tr>\n",
       "      <th>107</th>\n",
       "      <td>1700.0</td>\n",
       "      <td>Pessoa de referência</td>\n",
       "    </tr>\n",
       "  </tbody>\n",
       "</table>\n",
       "</div>"
      ],
      "text/plain": [
       "      Renda   Condição_domiciliar\n",
       "10      NaN  Pessoa de referência\n",
       "24   1700.0  Pessoa de referência\n",
       "61   1150.0  Pessoa de referência\n",
       "65   3030.0  Pessoa de referência\n",
       "107  1700.0  Pessoa de referência"
      ]
     },
     "execution_count": 19,
     "metadata": {},
     "output_type": "execute_result"
    }
   ],
   "source": [
    "renda=dados_não_nulos[['Renda','Condição_domiciliar']].copy()\n",
    "renda.head()"
   ]
  },
  {
   "cell_type": "code",
   "execution_count": 20,
   "metadata": {},
   "outputs": [
    {
     "data": {
      "text/plain": [
       "array([   0,  100,  200,  300,  400,  500,  600,  700,  800,  900, 1000,\n",
       "       1100, 1200, 1300, 1400, 1500, 1600, 1700, 1800, 1900, 2000, 2100,\n",
       "       2200, 2300, 2400, 2500, 2600, 2700, 2800, 2900, 3000, 3100, 3200,\n",
       "       3300, 3400, 3500, 3600, 3700, 3800, 3900, 4000, 4100, 4200, 4300,\n",
       "       4400, 4500, 4600, 4700, 4800, 4900])"
      ]
     },
     "execution_count": 20,
     "metadata": {},
     "output_type": "execute_result"
    }
   ],
   "source": [
    "faixa=np.arange(0,5000,100)\n",
    "faixa"
   ]
  },
  {
   "cell_type": "code",
   "execution_count": 21,
   "metadata": {},
   "outputs": [
    {
     "data": {
      "image/png": "[encoded data removed]",
      "text/plain": [
       "<matplotlib.figure.Figure at 0x26a90e4cc50>"
      ]
     },
     "metadata": {},
     "output_type": "display_data"
    }
   ],
   "source": [
    "plot = renda.Renda.plot.hist(bins=faixa, figsize=(6,6), alpha=1)\n",
    "plt.show()"
   ]
  },
  {
   "cell_type": "code",
   "execution_count": 22,
   "metadata": {},
   "outputs": [
    {
     "data": {
      "text/plain": [
       "count      7448.000000\n",
       "mean       2309.170650\n",
       "std        5236.202822\n",
       "min           8.000000\n",
       "25%         600.000000\n",
       "50%        1000.000000\n",
       "75%        2000.000000\n",
       "max      200000.000000\n",
       "Name: Renda, dtype: float64"
      ]
     },
     "execution_count": 22,
     "metadata": {},
     "output_type": "execute_result"
    }
   ],
   "source": [
    "renda = dados_não_nulos.Renda\n",
    "renda.describe()"
   ]
  },
  {
   "cell_type": "code",
   "execution_count": 23,
   "metadata": {},
   "outputs": [
    {
     "name": "stdout",
     "output_type": "stream",
     "text": [
      "Frequências relativas:\n",
      "[0.0, 234.25)       10.2\n",
      "[234.25, 468.5)     12.0\n",
      "[468.5, 937.0)      31.3\n",
      "[937.0, 1874.0)     33.7\n",
      "[1874.0, 2771.5)    12.8\n",
      "Name: Renda, dtype: float64 \n",
      "\n"
     ]
    }
   ],
   "source": [
    "faixa = (0,937/4 ,937/2, 937, 937*2,2771.5)\n",
    "rendarelativa = pd.cut(renda, faixa, False)\n",
    "print('Frequências relativas:')\n",
    "ut6 = (rendarelativa.value_counts(sort=False, normalize=True)*100).round(decimals=1)\n",
    "print(ut6,'\\n')"
   ]
  },
  {
   "cell_type": "code",
   "execution_count": 32,
   "metadata": {},
   "outputs": [
    {
     "data": {
      "image/png": "[encoded data removed]",
      "text/plain": [
       "<matplotlib.figure.Figure at 0x26a932da710>"
      ]
     },
     "metadata": {},
     "output_type": "display_data"
    }
   ],
   "source": [
    "fig = plt.figure(figsize=(11, 5))\n",
    "plt.subplot(121)\n",
    "plot = renda.plot.hist(bins=faixa,title='Renda', figsize=(6, 6), normed=1, alpha=0.5)\n",
    "plt.ylabel('Densidade')\n",
    "plt.xlabel('renda (em reais)')\n",
    "\n",
    "plt.tight_layout()\n",
    "plt.show()"
   ]
  },
  {
   "cell_type": "markdown",
   "metadata": {},
   "source": [
    "# Gráfico que relaciona: Região com Renda"
   ]
  },
  {
   "cell_type": "code",
   "execution_count": 33,
   "metadata": {},
   "outputs": [
    {
     "data": {
      "text/html": [
       "<div>\n",
       "<style scoped>\n",
       "    .dataframe tbody tr th:only-of-type {\n",
       "        vertical-align: middle;\n",
       "    }\n",
       "\n",
       "    .dataframe tbody tr th {\n",
       "        vertical-align: top;\n",
       "    }\n",
       "\n",
       "    .dataframe thead th {\n",
       "        text-align: right;\n",
       "    }\n",
       "</style>\n",
       "<table border=\"1\" class=\"dataframe\">\n",
       "  <thead>\n",
       "    <tr style=\"text-align: right;\">\n",
       "      <th>Região</th>\n",
       "      <th>Centroeste</th>\n",
       "      <th>Nordeste</th>\n",
       "      <th>Norte</th>\n",
       "      <th>Sudeste</th>\n",
       "      <th>Sul</th>\n",
       "      <th>All</th>\n",
       "    </tr>\n",
       "    <tr>\n",
       "      <th>Renda</th>\n",
       "      <th></th>\n",
       "      <th></th>\n",
       "      <th></th>\n",
       "      <th></th>\n",
       "      <th></th>\n",
       "      <th></th>\n",
       "    </tr>\n",
       "  </thead>\n",
       "  <tbody>\n",
       "    <tr>\n",
       "      <th>[0.0, 234.25)</th>\n",
       "      <td>0.3</td>\n",
       "      <td>4.4</td>\n",
       "      <td>1.8</td>\n",
       "      <td>1.9</td>\n",
       "      <td>1.2</td>\n",
       "      <td>9.5</td>\n",
       "    </tr>\n",
       "    <tr>\n",
       "      <th>[234.25, 468.5)</th>\n",
       "      <td>0.7</td>\n",
       "      <td>3.9</td>\n",
       "      <td>2.5</td>\n",
       "      <td>3.0</td>\n",
       "      <td>1.9</td>\n",
       "      <td>12.1</td>\n",
       "    </tr>\n",
       "    <tr>\n",
       "      <th>[468.5, 937.0)</th>\n",
       "      <td>1.7</td>\n",
       "      <td>7.0</td>\n",
       "      <td>6.0</td>\n",
       "      <td>10.7</td>\n",
       "      <td>5.5</td>\n",
       "      <td>30.9</td>\n",
       "    </tr>\n",
       "    <tr>\n",
       "      <th>[937.0, 1874.0)</th>\n",
       "      <td>2.4</td>\n",
       "      <td>4.8</td>\n",
       "      <td>4.4</td>\n",
       "      <td>14.7</td>\n",
       "      <td>8.1</td>\n",
       "      <td>34.4</td>\n",
       "    </tr>\n",
       "    <tr>\n",
       "      <th>[1874.0, 2771.5)</th>\n",
       "      <td>0.9</td>\n",
       "      <td>1.9</td>\n",
       "      <td>1.6</td>\n",
       "      <td>5.5</td>\n",
       "      <td>3.3</td>\n",
       "      <td>13.1</td>\n",
       "    </tr>\n",
       "    <tr>\n",
       "      <th>All</th>\n",
       "      <td>6.0</td>\n",
       "      <td>22.0</td>\n",
       "      <td>16.3</td>\n",
       "      <td>35.7</td>\n",
       "      <td>20.0</td>\n",
       "      <td>100.0</td>\n",
       "    </tr>\n",
       "  </tbody>\n",
       "</table>\n",
       "</div>"
      ],
      "text/plain": [
       "Região            Centroeste  Nordeste  Norte  Sudeste   Sul    All\n",
       "Renda                                                              \n",
       "[0.0, 234.25)            0.3       4.4    1.8      1.9   1.2    9.5\n",
       "[234.25, 468.5)          0.7       3.9    2.5      3.0   1.9   12.1\n",
       "[468.5, 937.0)           1.7       7.0    6.0     10.7   5.5   30.9\n",
       "[937.0, 1874.0)          2.4       4.8    4.4     14.7   8.1   34.4\n",
       "[1874.0, 2771.5)         0.9       1.9    1.6      5.5   3.3   13.1\n",
       "All                      6.0      22.0   16.3     35.7  20.0  100.0"
      ]
     },
     "execution_count": 33,
     "metadata": {},
     "output_type": "execute_result"
    }
   ],
   "source": [
    "#Relação Renda Percapita Domiciliar e Região\n",
    "renda_região=pd.crosstab( rendarelativa, dados_não_nulos.Regiao, margins=True, rownames=['Renda'], colnames=['Região'], normalize=True)*100\n",
    "renda_região=renda_região.round(decimals=1)\n",
    "renda_região"
   ]
  },
  {
   "cell_type": "code",
   "execution_count": 34,
   "metadata": {},
   "outputs": [
    {
     "data": {
      "text/plain": [
       "Text(0,0.5,'Freq.Relativa (em %)')"
      ]
     },
     "execution_count": 34,
     "metadata": {},
     "output_type": "execute_result"
    },
    {
     "data": {
      "image/png": "[encoded data removed]",
      "text/plain": [
       "<matplotlib.figure.Figure at 0x26a916859e8>"
      ]
     },
     "metadata": {},
     "output_type": "display_data"
    }
   ],
   "source": [
    "plot = renda_região[:-1].plot(kind='bar')\n",
    "plt.ylabel('Freq.Relativa (em %)')"
   ]
  },
  {
   "cell_type": "code",
   "execution_count": 36,
   "metadata": {},
   "outputs": [
    {
     "data": {
      "text/plain": [
       "<matplotlib.axes._subplots.AxesSubplot at 0x26a90deb5f8>"
      ]
     },
     "execution_count": 36,
     "metadata": {},
     "output_type": "execute_result"
    },
    {
     "data": {
      "image/png": "[encoded data removed]",
      "text/plain": [
       "<matplotlib.figure.Figure at 0x26a90e14e48>"
      ]
     },
     "metadata": {},
     "output_type": "display_data"
    }
   ],
   "source": [
    "dados_não_nulos.boxplot(column=\"Renda\",  by=\"Regiao\", figsize=(10,10))"
   ]
  },
  {
   "cell_type": "markdown",
   "metadata": {},
   "source": [
    "# Relação Acesso à Internet feita através de microcomputador e Região"
   ]
  },
  {
   "cell_type": "code",
   "execution_count": 37,
   "metadata": {},
   "outputs": [
    {
     "data": {
      "text/html": [
       "<div>\n",
       "<style scoped>\n",
       "    .dataframe tbody tr th:only-of-type {\n",
       "        vertical-align: middle;\n",
       "    }\n",
       "\n",
       "    .dataframe tbody tr th {\n",
       "        vertical-align: top;\n",
       "    }\n",
       "\n",
       "    .dataframe thead th {\n",
       "        text-align: right;\n",
       "    }\n",
       "</style>\n",
       "<table border=\"1\" class=\"dataframe\">\n",
       "  <thead>\n",
       "    <tr style=\"text-align: right;\">\n",
       "      <th>Região</th>\n",
       "      <th>Centroeste</th>\n",
       "      <th>Nordeste</th>\n",
       "      <th>Norte</th>\n",
       "      <th>Sudeste</th>\n",
       "      <th>Sul</th>\n",
       "      <th>All</th>\n",
       "    </tr>\n",
       "    <tr>\n",
       "      <th>Acesso à Internet feita através de microcomputador</th>\n",
       "      <th></th>\n",
       "      <th></th>\n",
       "      <th></th>\n",
       "      <th></th>\n",
       "      <th></th>\n",
       "      <th></th>\n",
       "    </tr>\n",
       "  </thead>\n",
       "  <tbody>\n",
       "    <tr>\n",
       "      <th>Não</th>\n",
       "      <td>1.4</td>\n",
       "      <td>3.7</td>\n",
       "      <td>3.1</td>\n",
       "      <td>7.1</td>\n",
       "      <td>3.5</td>\n",
       "      <td>18.7</td>\n",
       "    </tr>\n",
       "    <tr>\n",
       "      <th>Sim</th>\n",
       "      <td>6.5</td>\n",
       "      <td>12.6</td>\n",
       "      <td>4.6</td>\n",
       "      <td>38.2</td>\n",
       "      <td>19.4</td>\n",
       "      <td>81.3</td>\n",
       "    </tr>\n",
       "    <tr>\n",
       "      <th>All</th>\n",
       "      <td>7.9</td>\n",
       "      <td>16.3</td>\n",
       "      <td>7.7</td>\n",
       "      <td>45.3</td>\n",
       "      <td>22.9</td>\n",
       "      <td>100.0</td>\n",
       "    </tr>\n",
       "  </tbody>\n",
       "</table>\n",
       "</div>"
      ],
      "text/plain": [
       "Região                                              Centroeste  Nordeste  \\\n",
       "Acesso à Internet feita através de microcomputador                         \n",
       "Não                                                        1.4       3.7   \n",
       "Sim                                                        6.5      12.6   \n",
       "All                                                        7.9      16.3   \n",
       "\n",
       "Região                                              Norte  Sudeste   Sul  \\\n",
       "Acesso à Internet feita através de microcomputador                         \n",
       "Não                                                   3.1      7.1   3.5   \n",
       "Sim                                                   4.6     38.2  19.4   \n",
       "All                                                   7.7     45.3  22.9   \n",
       "\n",
       "Região                                                All  \n",
       "Acesso à Internet feita através de microcomputador         \n",
       "Não                                                  18.7  \n",
       "Sim                                                  81.3  \n",
       "All                                                 100.0  "
      ]
     },
     "execution_count": 37,
     "metadata": {},
     "output_type": "execute_result"
    }
   ],
   "source": [
    "regiaointernet_microcomputador=pd.crosstab( dados_não_nulos.Acesso_a_net_microcomputador,dados_não_nulos.Regiao, margins=True, rownames=['Acesso à Internet feita através de microcomputador'], colnames=['Região'], normalize=True)*100\n",
    "regiaointernet_microcomputador=regiaointernet_microcomputador.round(decimals=1)\n",
    "regiaointernet_microcomputador"
   ]
  },
  {
   "cell_type": "code",
   "execution_count": 43,
   "metadata": {},
   "outputs": [
    {
     "data": {
      "text/plain": [
       "Text(0,0.5,'Freq.Relativa (em %)')"
      ]
     },
     "execution_count": 43,
     "metadata": {},
     "output_type": "execute_result"
    },
    {
     "data": {
      "image/png": "[encoded data removed]",
      "text/plain": [
       "<matplotlib.figure.Figure at 0x26a94345860>"
      ]
     },
     "metadata": {},
     "output_type": "display_data"
    }
   ],
   "source": [
    "plot = regiaointernet_microcomputador[:-1].plot(kind='bar')\n",
    "plt.ylabel('Freq.Relativa (em %)')"
   ]
  },
  {
   "cell_type": "markdown",
   "metadata": {},
   "source": [
    "# Relação Acesso à Internet feita através de telefone celular e Região"
   ]
  },
  {
   "cell_type": "code",
   "execution_count": 39,
   "metadata": {},
   "outputs": [
    {
     "data": {
      "text/html": [
       "<div>\n",
       "<style scoped>\n",
       "    .dataframe tbody tr th:only-of-type {\n",
       "        vertical-align: middle;\n",
       "    }\n",
       "\n",
       "    .dataframe tbody tr th {\n",
       "        vertical-align: top;\n",
       "    }\n",
       "\n",
       "    .dataframe thead th {\n",
       "        text-align: right;\n",
       "    }\n",
       "</style>\n",
       "<table border=\"1\" class=\"dataframe\">\n",
       "  <thead>\n",
       "    <tr style=\"text-align: right;\">\n",
       "      <th>Região</th>\n",
       "      <th>Centroeste</th>\n",
       "      <th>Nordeste</th>\n",
       "      <th>Norte</th>\n",
       "      <th>Sudeste</th>\n",
       "      <th>Sul</th>\n",
       "      <th>All</th>\n",
       "    </tr>\n",
       "    <tr>\n",
       "      <th>Acesso à Internet feita através de telefone celular</th>\n",
       "      <th></th>\n",
       "      <th></th>\n",
       "      <th></th>\n",
       "      <th></th>\n",
       "      <th></th>\n",
       "      <th></th>\n",
       "    </tr>\n",
       "  </thead>\n",
       "  <tbody>\n",
       "    <tr>\n",
       "      <th>Não</th>\n",
       "      <td>1.6</td>\n",
       "      <td>4.5</td>\n",
       "      <td>1.8</td>\n",
       "      <td>16.6</td>\n",
       "      <td>9.6</td>\n",
       "      <td>34.2</td>\n",
       "    </tr>\n",
       "    <tr>\n",
       "      <th>Sim</th>\n",
       "      <td>6.3</td>\n",
       "      <td>11.8</td>\n",
       "      <td>5.9</td>\n",
       "      <td>28.6</td>\n",
       "      <td>13.3</td>\n",
       "      <td>65.8</td>\n",
       "    </tr>\n",
       "    <tr>\n",
       "      <th>All</th>\n",
       "      <td>7.9</td>\n",
       "      <td>16.3</td>\n",
       "      <td>7.7</td>\n",
       "      <td>45.3</td>\n",
       "      <td>22.9</td>\n",
       "      <td>100.0</td>\n",
       "    </tr>\n",
       "  </tbody>\n",
       "</table>\n",
       "</div>"
      ],
      "text/plain": [
       "Região                                              Centroeste  Nordeste  \\\n",
       "Acesso à Internet feita através de telefone cel...                         \n",
       "Não                                                        1.6       4.5   \n",
       "Sim                                                        6.3      11.8   \n",
       "All                                                        7.9      16.3   \n",
       "\n",
       "Região                                              Norte  Sudeste   Sul  \\\n",
       "Acesso à Internet feita através de telefone cel...                         \n",
       "Não                                                   1.8     16.6   9.6   \n",
       "Sim                                                   5.9     28.6  13.3   \n",
       "All                                                   7.7     45.3  22.9   \n",
       "\n",
       "Região                                                All  \n",
       "Acesso à Internet feita através de telefone cel...         \n",
       "Não                                                  34.2  \n",
       "Sim                                                  65.8  \n",
       "All                                                 100.0  "
      ]
     },
     "execution_count": 39,
     "metadata": {},
     "output_type": "execute_result"
    }
   ],
   "source": [
    "regiaointernet_celular=pd.crosstab( dados_não_nulos.Acesso_a_net_celular,dados_não_nulos.Regiao, margins=True, rownames=['Acesso à Internet feita através de telefone celular'], colnames=['Região'], normalize=True)*100\n",
    "regiaointernet_celular=regiaointernet_celular.round(decimals=1)\n",
    "regiaointernet_celular"
   ]
  },
  {
   "cell_type": "code",
   "execution_count": 45,
   "metadata": {},
   "outputs": [
    {
     "data": {
      "text/plain": [
       "Text(0,0.5,'Freq.Relativa (em %)')"
      ]
     },
     "execution_count": 45,
     "metadata": {},
     "output_type": "execute_result"
    },
    {
     "data": {
      "image/png": "[encoded data removed]",
      "text/plain": [
       "<matplotlib.figure.Figure at 0x26a93731a20>"
      ]
     },
     "metadata": {},
     "output_type": "display_data"
    }
   ],
   "source": [
    "plot = regiaointernet_celular[:-1].plot(kind='bar')\n",
    "plt.ylabel('Freq.Relativa (em %)')"
   ]
  },
  {
   "cell_type": "markdown",
   "metadata": {},
   "source": [
    "# Relação Acesso à Internet feita através de tablet e Região"
   ]
  },
  {
   "cell_type": "code",
   "execution_count": 42,
   "metadata": {},
   "outputs": [
    {
     "data": {
      "text/html": [
       "<div>\n",
       "<style scoped>\n",
       "    .dataframe tbody tr th:only-of-type {\n",
       "        vertical-align: middle;\n",
       "    }\n",
       "\n",
       "    .dataframe tbody tr th {\n",
       "        vertical-align: top;\n",
       "    }\n",
       "\n",
       "    .dataframe thead th {\n",
       "        text-align: right;\n",
       "    }\n",
       "</style>\n",
       "<table border=\"1\" class=\"dataframe\">\n",
       "  <thead>\n",
       "    <tr style=\"text-align: right;\">\n",
       "      <th>Região</th>\n",
       "      <th>Centroeste</th>\n",
       "      <th>Nordeste</th>\n",
       "      <th>Norte</th>\n",
       "      <th>Sudeste</th>\n",
       "      <th>Sul</th>\n",
       "      <th>All</th>\n",
       "    </tr>\n",
       "    <tr>\n",
       "      <th>Acesso à Internet feita através de tablet</th>\n",
       "      <th></th>\n",
       "      <th></th>\n",
       "      <th></th>\n",
       "      <th></th>\n",
       "      <th></th>\n",
       "      <th></th>\n",
       "    </tr>\n",
       "  </thead>\n",
       "  <tbody>\n",
       "    <tr>\n",
       "      <th>Não</th>\n",
       "      <td>6.3</td>\n",
       "      <td>13.7</td>\n",
       "      <td>6.9</td>\n",
       "      <td>37.7</td>\n",
       "      <td>19.0</td>\n",
       "      <td>83.6</td>\n",
       "    </tr>\n",
       "    <tr>\n",
       "      <th>Sim</th>\n",
       "      <td>1.6</td>\n",
       "      <td>2.6</td>\n",
       "      <td>0.8</td>\n",
       "      <td>7.6</td>\n",
       "      <td>3.9</td>\n",
       "      <td>16.4</td>\n",
       "    </tr>\n",
       "    <tr>\n",
       "      <th>All</th>\n",
       "      <td>7.9</td>\n",
       "      <td>16.3</td>\n",
       "      <td>7.7</td>\n",
       "      <td>45.3</td>\n",
       "      <td>22.9</td>\n",
       "      <td>100.0</td>\n",
       "    </tr>\n",
       "  </tbody>\n",
       "</table>\n",
       "</div>"
      ],
      "text/plain": [
       "Região                                     Centroeste  Nordeste  Norte  \\\n",
       "Acesso à Internet feita através de tablet                                \n",
       "Não                                               6.3      13.7    6.9   \n",
       "Sim                                               1.6       2.6    0.8   \n",
       "All                                               7.9      16.3    7.7   \n",
       "\n",
       "Região                                     Sudeste   Sul    All  \n",
       "Acesso à Internet feita através de tablet                        \n",
       "Não                                           37.7  19.0   83.6  \n",
       "Sim                                            7.6   3.9   16.4  \n",
       "All                                           45.3  22.9  100.0  "
      ]
     },
     "execution_count": 42,
     "metadata": {},
     "output_type": "execute_result"
    }
   ],
   "source": [
    "regiaointernet_tablet=pd.crosstab( dados_não_nulos.Acesso_a_net_tablet,dados_não_nulos.Regiao, margins=True, rownames=['Acesso à Internet feita através de tablet'], colnames=['Região'], normalize=True)*100\n",
    "regiaointernet_tablet=regiaointernet_tablet.round(decimals=1)\n",
    "regiaointernet_tablet"
   ]
  },
  {
   "cell_type": "code",
   "execution_count": 46,
   "metadata": {},
   "outputs": [
    {
     "data": {
      "text/plain": [
       "Text(0,0.5,'Freq.Relativa (em %)')"
      ]
     },
     "execution_count": 46,
     "metadata": {},
     "output_type": "execute_result"
    },
    {
     "data": {
      "image/png": "[encoded data removed]",
      "text/plain": [
       "<matplotlib.figure.Figure at 0x26a934d3828>"
      ]
     },
     "metadata": {},
     "output_type": "display_data"
    }
   ],
   "source": [
    "plot = regiaointernet_tablet[:-1].plot(kind='bar')\n",
    "plt.ylabel('Freq.Relativa (em %)')"
   ]
  },
  {
   "cell_type": "markdown",
   "metadata": {},
   "source": [
    "# Relação da Região (UF) com o Código de Situação Censitária"
   ]
  },
  {
   "cell_type": "code",
   "execution_count": 48,
   "metadata": {},
   "outputs": [
    {
     "data": {
      "text/html": [
       "<div>\n",
       "<style scoped>\n",
       "    .dataframe tbody tr th:only-of-type {\n",
       "        vertical-align: middle;\n",
       "    }\n",
       "\n",
       "    .dataframe tbody tr th {\n",
       "        vertical-align: top;\n",
       "    }\n",
       "\n",
       "    .dataframe thead th {\n",
       "        text-align: right;\n",
       "    }\n",
       "</style>\n",
       "<table border=\"1\" class=\"dataframe\">\n",
       "  <thead>\n",
       "    <tr style=\"text-align: right;\">\n",
       "      <th></th>\n",
       "      <th>Condição_domiciliar</th>\n",
       "      <th>Acesso_a_net_microcomputador</th>\n",
       "      <th>Acesso_a_net_celular</th>\n",
       "      <th>Acesso_a_net_tablet</th>\n",
       "      <th>Condição_Censitária</th>\n",
       "      <th>Renda</th>\n",
       "      <th>Idade</th>\n",
       "      <th>UF</th>\n",
       "      <th>Regiao</th>\n",
       "      <th>RegiãoCondiçãoCensitária</th>\n",
       "    </tr>\n",
       "  </thead>\n",
       "  <tbody>\n",
       "    <tr>\n",
       "      <th>10</th>\n",
       "      <td>Pessoa de referência</td>\n",
       "      <td>Sim</td>\n",
       "      <td>Não</td>\n",
       "      <td>Não</td>\n",
       "      <td>URBANA - Cidade ou vila, área urbanizada</td>\n",
       "      <td>NaN</td>\n",
       "      <td>71</td>\n",
       "      <td>Rondônia</td>\n",
       "      <td>Norte</td>\n",
       "      <td>Urbana</td>\n",
       "    </tr>\n",
       "    <tr>\n",
       "      <th>24</th>\n",
       "      <td>Pessoa de referência</td>\n",
       "      <td>Sim</td>\n",
       "      <td>Sim</td>\n",
       "      <td>Não</td>\n",
       "      <td>URBANA - Cidade ou vila, área urbanizada</td>\n",
       "      <td>1700.0</td>\n",
       "      <td>60</td>\n",
       "      <td>Rondônia</td>\n",
       "      <td>Norte</td>\n",
       "      <td>Urbana</td>\n",
       "    </tr>\n",
       "    <tr>\n",
       "      <th>61</th>\n",
       "      <td>Pessoa de referência</td>\n",
       "      <td>NaN</td>\n",
       "      <td>NaN</td>\n",
       "      <td>NaN</td>\n",
       "      <td>URBANA - Cidade ou vila, área urbanizada</td>\n",
       "      <td>1150.0</td>\n",
       "      <td>62</td>\n",
       "      <td>Rondônia</td>\n",
       "      <td>Norte</td>\n",
       "      <td>Urbana</td>\n",
       "    </tr>\n",
       "    <tr>\n",
       "      <th>65</th>\n",
       "      <td>Pessoa de referência</td>\n",
       "      <td>NaN</td>\n",
       "      <td>NaN</td>\n",
       "      <td>NaN</td>\n",
       "      <td>URBANA - Cidade ou vila, área urbanizada</td>\n",
       "      <td>3030.0</td>\n",
       "      <td>69</td>\n",
       "      <td>Rondônia</td>\n",
       "      <td>Norte</td>\n",
       "      <td>Urbana</td>\n",
       "    </tr>\n",
       "    <tr>\n",
       "      <th>107</th>\n",
       "      <td>Pessoa de referência</td>\n",
       "      <td>Sim</td>\n",
       "      <td>Sim</td>\n",
       "      <td>Não</td>\n",
       "      <td>URBANA - Cidade ou vila, área urbanizada</td>\n",
       "      <td>1700.0</td>\n",
       "      <td>65</td>\n",
       "      <td>Rondônia</td>\n",
       "      <td>Norte</td>\n",
       "      <td>Urbana</td>\n",
       "    </tr>\n",
       "  </tbody>\n",
       "</table>\n",
       "</div>"
      ],
      "text/plain": [
       "      Condição_domiciliar Acesso_a_net_microcomputador Acesso_a_net_celular  \\\n",
       "10   Pessoa de referência                          Sim                  Não   \n",
       "24   Pessoa de referência                          Sim                  Sim   \n",
       "61   Pessoa de referência                          NaN                  NaN   \n",
       "65   Pessoa de referência                          NaN                  NaN   \n",
       "107  Pessoa de referência                          Sim                  Sim   \n",
       "\n",
       "    Acesso_a_net_tablet                       Condição_Censitária   Renda  \\\n",
       "10                  Não  URBANA - Cidade ou vila, área urbanizada     NaN   \n",
       "24                  Não  URBANA - Cidade ou vila, área urbanizada  1700.0   \n",
       "61                  NaN  URBANA - Cidade ou vila, área urbanizada  1150.0   \n",
       "65                  NaN  URBANA - Cidade ou vila, área urbanizada  3030.0   \n",
       "107                 Não  URBANA - Cidade ou vila, área urbanizada  1700.0   \n",
       "\n",
       "     Idade        UF Regiao RegiãoCondiçãoCensitária  \n",
       "10      71  Rondônia  Norte                   Urbana  \n",
       "24      60  Rondônia  Norte                   Urbana  \n",
       "61      62  Rondônia  Norte                   Urbana  \n",
       "65      69  Rondônia  Norte                   Urbana  \n",
       "107     65  Rondônia  Norte                   Urbana  "
      ]
     },
     "execution_count": 48,
     "metadata": {},
     "output_type": "execute_result"
    }
   ],
   "source": [
    "dados_não_nulos.loc[(dados_não_nulos.UF=='Norte') | (dados_não_nulos.Condição_Censitária==\"URBANA - Cidade ou vila, área urbanizada\"), 'RegiãoCondiçãoCensitária'] = 'Urbana'\n",
    "dados_não_nulos.loc[(dados_não_nulos.UF=='Nordeste') | (dados_não_nulos.Condição_Censitária==\"URBANA - Cidade ou vila, área urbanizada\"), 'RegiãoCondiçãoCensitária'] = 'Urbana'\n",
    "dados_não_nulos.loc[(dados_não_nulos.UF=='Sul') | (dados_não_nulos.Condição_Censitária==\"URBANA - Cidade ou vila, área urbanizada\"), 'RegiãoCondiçãoCensitária'] = 'Urbana'\n",
    "dados_não_nulos.loc[(dados_não_nulos.UF=='Sudeste') | (dados_não_nulos.Condição_Censitária==\"URBANA - Cidade ou vila, área urbanizada\"), 'RegiãoCondiçãoCensitária'] = 'Urbana'\n",
    "dados_não_nulos.loc[(dados_não_nulos.UF=='Centroeste') | (dados_não_nulos.Condição_Censitária==\"URBANA - Cidade ou vila, área urbanizada\"), 'RegiãoCondiçãoCensitária'] = 'Urbana'\n",
    "\n",
    "\n",
    "dados_não_nulos.loc[(dados_não_nulos.UF=='Norte') | (dados_não_nulos.Condição_Censitária==\"URBANA - Cidade ou vila, área não urbanizada\"), 'RegiãoCondiçãoCensitária'] = 'Urbana'\n",
    "dados_não_nulos.loc[(dados_não_nulos.UF=='Nordeste') | (dados_não_nulos.Condição_Censitária==\"URBANA - Cidade ou vila, área não urbanizada\"), 'RegiãoCondiçãoCensitária'] = 'Urbana'\n",
    "dados_não_nulos.loc[(dados_não_nulos.UF=='Sul') | (dados_não_nulos.Condição_Censitária==\"URBANA - Cidade ou vila, área não urbanizada\"), 'RegiãoCondiçãoCensitária'] = 'Urbana'\n",
    "dados_não_nulos.loc[(dados_não_nulos.UF=='Sudeste') | (dados_não_nulos.Condição_Censitária==\"URBANA - Cidade ou vila, área não urbanizada\"), 'RegiãoCondiçãoCensitária'] = 'Urbana'\n",
    "dados_não_nulos.loc[(dados_não_nulos.UF=='Centroeste') | (dados_não_nulos.Condição_Censitária==\"URBANA - Cidade ou vila, área não urbanizada\"), 'RegiãoCondiçãoCensitária'] = 'Urbana'\n",
    "\n",
    "\n",
    "dados_não_nulos.loc[(dados_não_nulos.UF=='Norte') | (dados_não_nulos.Condição_Censitária==\"URBANA - Área urbana isolada\"), 'RegiãoCondiçãoCensitária'] = 'Urbana'\n",
    "dados_não_nulos.loc[(dados_não_nulos.UF=='Nordeste') | (dados_não_nulos.Condição_Censitária==\"URBANA - Área urbana isolada\"), 'RegiãoCondiçãoCensitária'] =  'Urbana'\n",
    "dados_não_nulos.loc[(dados_não_nulos.UF=='Sul') | (dados_não_nulos.Condição_Censitária==\"URBANA - Área urbana isolada\"), 'RegiãoCondiçãoCensitária'] = 'Urbana'\n",
    "dados_não_nulos.loc[(dados_não_nulos.UF=='Sudeste') | (dados_não_nulos.Condição_Censitária==\"URBANA - Área urbana isolada\"), 'RegiãoCondiçãoCensitária'] = 'Urbana'\n",
    "dados_não_nulos.loc[(dados_não_nulos.UF=='Centroeste') | (dados_não_nulos.Condição_Censitária==\"URBANA - Área urbana isolada\"), 'RegiãoCondiçãoCensitária'] = 'Urbana'\n",
    "\n",
    "\n",
    "dados_não_nulos.loc[(dados_não_nulos.UF=='Norte') | (dados_não_nulos.Condição_Censitária==\"RURAL - Aglomerado rural de extensão urbana \"), 'RegiãoCondiçãoCensitária'] = 'Rural'\n",
    "dados_não_nulos.loc[(dados_não_nulos.UF=='Nordeste') | (dados_não_nulos.Condição_Censitária==\"RURAL - Aglomerado rural de extensão urbana \"), 'RegiãoCondiçãoCensitária'] = 'Rural'\n",
    "dados_não_nulos.loc[(dados_não_nulos.UF=='Sul') | (dados_não_nulos.Condição_Censitária==\"RURAL - Aglomerado rural de extensão urbana \"), 'RegiãoCondiçãoCensitária'] = 'Rural'\n",
    "dados_não_nulos.loc[(dados_não_nulos.UF=='Sudeste') | (dados_não_nulos.Condição_Censitária==\"RURAL - Aglomerado rural de extensão urbana \"), 'RegiãoCondiçãoCensitária'] = 'Rural'\n",
    "dados_não_nulos.loc[(dados_não_nulos.UF=='Centroeste') | (dados_não_nulos.Condição_Censitária==\"RURAL - Aglomerado rural de extensão urbana \"), 'RegiãoCondiçãoCensitária'] = 'Rural'\n",
    "\n",
    "dados_não_nulos.loc[(dados_não_nulos.UF=='Norte') | (dados_não_nulos.Condição_Censitária==\"RURAL - Aglomerado rural, isolado, povoado\"), 'RegiãoCondiçãoCensitária'] = 'Rural'\n",
    "dados_não_nulos.loc[(dados_não_nulos.UF=='Nordeste') | (dados_não_nulos.Condição_Censitária==\"RURAL - Aglomerado rural, isolado, povoado\"), 'RegiãoCondiçãoCensitária'] = 'Rural'\n",
    "dados_não_nulos.loc[(dados_não_nulos.UF=='Sul') | (dados_não_nulos.Condição_Censitária==\"RURAL - Aglomerado rural, isolado, povoado\"), 'RegiãoCondiçãoCensitária'] = 'Rural'\n",
    "dados_não_nulos.loc[(dados_não_nulos.UF=='Sudeste') | (dados_não_nulos.Condição_Censitária==\"RURAL - Aglomerado rural, isolado, povoado\"), 'RegiãoCondiçãoCensitária'] = 'Rural'\n",
    "dados_não_nulos.loc[(dados_não_nulos.UF=='Centroeste') | (dados_não_nulos.Condição_Censitária==\"RURAL - Aglomerado rural, isolado, povoado\"), 'RegiãoCondiçãoCensitária'] = 'Rural'\n",
    "\n",
    "dados_não_nulos.loc[(dados_não_nulos.UF=='Norte') | (dados_não_nulos.Condição_Censitária==\"RURAL - Aglomerado rural, isolado, núcleo\"), 'RegiãoCondiçãoCensitária'] = 'Rural'\n",
    "dados_não_nulos.loc[(dados_não_nulos.UF=='Nordeste') | (dados_não_nulos.Condição_Censitária==\"RURAL - Aglomerado rural, isolado, núcleo\"), 'RegiãoCondiçãoCensitária'] = 'Rural'\n",
    "dados_não_nulos.loc[(dados_não_nulos.UF=='Sul') | (dados_não_nulos.Condição_Censitária==\"RURAL - Aglomerado rural, isolado, núcleo\"), 'RegiãoCondiçãoCensitária'] = 'Rural'\n",
    "dados_não_nulos.loc[(dados_não_nulos.UF=='Sudeste') | (dados_não_nulos.Condição_Censitária==\"RURAL - Aglomerado rural, isolado, núcleo\"), 'RegiãoCondiçãoCensitária'] = 'Rural'\n",
    "dados_não_nulos.loc[(dados_não_nulos.UF=='Centroeste') | (dados_não_nulos.Condição_Censitária==\"RURAL - Aglomerado rural, isolado, núcleo\"), 'RegiãoCondiçãoCensitária'] = 'Rural'\n",
    "\n",
    "dados_não_nulos.loc[(dados_não_nulos.UF=='Norte') | (dados_não_nulos.Condição_Censitária==\"RURAL- Aglomerado rural, isolado, outros aglomerados\"), 'RegiãoCondiçãoCensitária'] = 'Rural'\n",
    "dados_não_nulos.loc[(dados_não_nulos.UF=='Nordeste') | (dados_não_nulos.Condição_Censitária==\"RURAL- Aglomerado rural, isolado', outros aglomerados\"), 'RegiãoCondiçãoCensitária'] = 'Rural'\n",
    "dados_não_nulos.loc[(dados_não_nulos.UF=='Sul') | (dados_não_nulos.Condição_Censitária==\"RURAL- Aglomerado rural, isolado, outros aglomerados\"), 'RegiãoCondiçãoCensitária'] = 'Rural'\n",
    "dados_não_nulos.loc[(dados_não_nulos.UF=='Sudeste') | (dados_não_nulos.Condição_Censitária==\"RURAL- Aglomerado rural, isolado, outros aglomerados\"), 'RegiãoCondiçãoCensitária'] = 'Rural'\n",
    "dados_não_nulos.loc[(dados_não_nulos.UF=='Centroeste') | (dados_não_nulos.Condição_Censitária==\"RURAL- Aglomerado rural, isolado, outros aglomerados\"), 'RegiãoCondiçãoCensitária'] = 'Rural'\n",
    "\n",
    "dados_não_nulos.loc[(dados_não_nulos.UF=='Norte') | (dados_não_nulos.Condição_Censitária==\"RURAL - Zona rural exclusive aglomerado rural\"), 'RegiãoCondiçãoCensitária'] = 'Rural'\n",
    "dados_não_nulos.loc[(dados_não_nulos.UF=='Nordeste') | (dados_não_nulos.Condição_Censitária==\"RURAL - Zona rural exclusive aglomerado rural\"), 'RegiãoCondiçãoCensitária'] = 'Rural'\n",
    "dados_não_nulos.loc[(dados_não_nulos.UF=='Sul') | (dados_não_nulos.Condição_Censitária==\"RURAL - Zona rural exclusive aglomerado rural\"), 'RegiãoCondiçãoCensitária'] = 'Rural'\n",
    "dados_não_nulos.loc[(dados_não_nulos.UF=='Sudeste') | (dados_não_nulos.Condição_Censitária==\"RURAL - Zona rural exclusive aglomerado rural\"), 'RegiãoCondiçãoCensitária'] = 'Rural'\n",
    "dados_não_nulos.loc[(dados_não_nulos.UF=='Centroeste') | (dados_não_nulos.Condição_Censitária==\"RURAL - Zona rural exclusive aglomerado rural\"), 'RegiãoCondiçãoCensitária'] = 'Rural'\n",
    "\n",
    "dados_não_nulos.head()"
   ]
  },
  {
   "cell_type": "markdown",
   "metadata": {},
   "source": [
    "# GRÁFICO QUE RELACIONA O CÓDIGO DE SITUAÇÃO CENSITÁRIA E REGIÃO"
   ]
  },
  {
   "cell_type": "code",
   "execution_count": 49,
   "metadata": {},
   "outputs": [
    {
     "data": {
      "text/plain": [
       "Text(0.5,1,'Relação do Código de Situação Censitária e Região')"
      ]
     },
     "execution_count": 49,
     "metadata": {},
     "output_type": "execute_result"
    },
    {
     "data": {
      "image/png": "[encoded data removed]",
      "text/plain": [
       "<matplotlib.figure.Figure at 0x26a93ab6e10>"
      ]
     },
     "metadata": {},
     "output_type": "display_data"
    }
   ],
   "source": [
    "situ_região=pd.crosstab(dados_não_nulos.Regiao,dados_não_nulos.RegiãoCondiçãoCensitária,rownames=['Região'],colnames=['Código de Situação Censitária'])\n",
    "plot=situ_região.plot(kind='bar',figsize=(5,5),legend=True)\n",
    "plt.title('Relação do Código de Situação Censitária e Região')"
   ]
  },
  {
   "cell_type": "markdown",
   "metadata": {},
   "source": [
    "# Relação entre Condição Censitária e Renda"
   ]
  },
  {
   "cell_type": "code",
   "execution_count": 53,
   "metadata": {},
   "outputs": [
    {
     "data": {
      "text/html": [
       "<div>\n",
       "<style scoped>\n",
       "    .dataframe tbody tr th:only-of-type {\n",
       "        vertical-align: middle;\n",
       "    }\n",
       "\n",
       "    .dataframe tbody tr th {\n",
       "        vertical-align: top;\n",
       "    }\n",
       "\n",
       "    .dataframe thead th {\n",
       "        text-align: right;\n",
       "    }\n",
       "</style>\n",
       "<table border=\"1\" class=\"dataframe\">\n",
       "  <thead>\n",
       "    <tr style=\"text-align: right;\">\n",
       "      <th>Região</th>\n",
       "      <th>Rural</th>\n",
       "      <th>Urbana</th>\n",
       "      <th>All</th>\n",
       "    </tr>\n",
       "    <tr>\n",
       "      <th>Renda</th>\n",
       "      <th></th>\n",
       "      <th></th>\n",
       "      <th></th>\n",
       "    </tr>\n",
       "  </thead>\n",
       "  <tbody>\n",
       "    <tr>\n",
       "      <th>[0.0, 234.25)</th>\n",
       "      <td>3.6</td>\n",
       "      <td>6.6</td>\n",
       "      <td>10.2</td>\n",
       "    </tr>\n",
       "    <tr>\n",
       "      <th>[234.25, 468.5)</th>\n",
       "      <td>3.7</td>\n",
       "      <td>8.3</td>\n",
       "      <td>12.0</td>\n",
       "    </tr>\n",
       "    <tr>\n",
       "      <th>[468.5, 937.0)</th>\n",
       "      <td>5.8</td>\n",
       "      <td>25.5</td>\n",
       "      <td>31.3</td>\n",
       "    </tr>\n",
       "    <tr>\n",
       "      <th>[937.0, 1874.0)</th>\n",
       "      <td>4.3</td>\n",
       "      <td>29.3</td>\n",
       "      <td>33.7</td>\n",
       "    </tr>\n",
       "    <tr>\n",
       "      <th>[1874.0, 2771.5)</th>\n",
       "      <td>1.3</td>\n",
       "      <td>11.4</td>\n",
       "      <td>12.8</td>\n",
       "    </tr>\n",
       "    <tr>\n",
       "      <th>All</th>\n",
       "      <td>18.8</td>\n",
       "      <td>81.2</td>\n",
       "      <td>100.0</td>\n",
       "    </tr>\n",
       "  </tbody>\n",
       "</table>\n",
       "</div>"
      ],
      "text/plain": [
       "Região            Rural  Urbana    All\n",
       "Renda                                 \n",
       "[0.0, 234.25)       3.6     6.6   10.2\n",
       "[234.25, 468.5)     3.7     8.3   12.0\n",
       "[468.5, 937.0)      5.8    25.5   31.3\n",
       "[937.0, 1874.0)     4.3    29.3   33.7\n",
       "[1874.0, 2771.5)    1.3    11.4   12.8\n",
       "All                18.8    81.2  100.0"
      ]
     },
     "execution_count": 53,
     "metadata": {},
     "output_type": "execute_result"
    }
   ],
   "source": [
    "renda_região=pd.crosstab( rendarelativa, dados_não_nulos.RegiãoCondiçãoCensitária, margins=True, rownames=['Renda'], colnames=['Região'], normalize=True)*100\n",
    "renda_região=renda_região.round(decimals=1)\n",
    "renda_região=\n",
    "renda_região"
   ]
  },
  {
   "cell_type": "code",
   "execution_count": 54,
   "metadata": {},
   "outputs": [
    {
     "data": {
      "text/plain": [
       "Text(0,0.5,'Freq.Relativa (em %)')"
      ]
     },
     "execution_count": 54,
     "metadata": {},
     "output_type": "execute_result"
    },
    {
     "data": {
      "image/png": "[encoded data removed]",
      "text/plain": [
       "<matplotlib.figure.Figure at 0x26a94a29c88>"
      ]
     },
     "metadata": {},
     "output_type": "display_data"
    }
   ],
   "source": [
    "\n",
    "plot = renda_região[:-1].plot(kind='bar')\n",
    "plt.ylabel('Freq.Relativa (em %)')"
   ]
  },
  {
   "cell_type": "code",
   "execution_count": null,
   "metadata": {},
   "outputs": [],
   "source": []
  },
  {
   "cell_type": "markdown",
   "metadata": {},
   "source": [
    "___\n",
    "## Conclusão "
   ]
  },
  {
   "cell_type": "code",
   "execution_count": null,
   "metadata": {},
   "outputs": [],
   "source": []
  },
  {
   "cell_type": "markdown",
   "metadata": {
    "collapsed": true
   },
   "source": [
    "Descreva aqui suas conclusões!"
   ]
  },
  {
   "cell_type": "code",
   "execution_count": null,
   "metadata": {},
   "outputs": [],
   "source": []
  },
  {
   "cell_type": "code",
   "execution_count": null,
   "metadata": {},
   "outputs": [],
   "source": []
  }
 ],
 "metadata": {
  "anaconda-cloud": {},
  "kernelspec": {
   "display_name": "Python 3",
   "language": "python",
   "name": "python3"
  },
  "language_info": {
   "codemirror_mode": {
    "name": "ipython",
    "version": 3
   },
   "file_extension": ".py",
   "mimetype": "text/x-python",
   "name": "python",
   "nbconvert_exporter": "python",
   "pygments_lexer": "ipython3",
   "version": "3.6.4"
  }
 },
 "nbformat": 4,
 "nbformat_minor": 1
}
